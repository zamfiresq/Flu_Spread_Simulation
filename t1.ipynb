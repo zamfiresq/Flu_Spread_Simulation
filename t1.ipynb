{
 "cells": [
  {
   "cell_type": "markdown",
   "metadata": {},
   "source": [
    "# Simularea răspândirii gripei în București, utilizând metoda Monte Carlo\n",
    "\n",
    "Acest proiect folosește o simulare Monte Carlo pentru a modela răspândirea gripei în București în perioada noiembrie-martie. Simularea ia în considerare probabilitatea zilnică de infectare și timpul de recuperare pentru fiecare individ din populație, împărțită pe sectoare."
   ]
  },
  {
   "cell_type": "code",
   "execution_count": 79,
   "metadata": {},
   "outputs": [],
   "source": [
    "import numpy as np\n",
    "import random\n",
    "import pandas as pd\n",
    "import plotly.express as px\n",
    "import plotly.graph_objects as go\n",
    "import json\n",
    "\n",
    "from itertools import accumulate"
   ]
  },
  {
   "cell_type": "markdown",
   "metadata": {},
   "source": [
    "## Parametrii Simulării\n",
    "\n",
    "În cadrul simulării, folosim următorii parametri:\n",
    "\n",
    "- **Populația**: 10.000 de indivizi\n",
    "- **Probabilitatea de infectare**: Valoare aleatoare între 3% și 5% pentru fiecare individ\n",
    "- **Perioada de recuperare**: 7-10 zile pentru fiecare persoană infectată\n",
    "- **Durata simulării**: 150 de zile (de la 1 noiembrie la 31 martie)\n",
    "- **Sectoare**: Simularea este detaliată la nivel de sector, considerând 6 sectoare cu populații diferite.\n",
    "\n",
    "Acești parametri au fost aleși pentru a reflecta dinamica unei epidemii de gripă într-un oraș mare.\n"
   ]
  },
  {
   "cell_type": "code",
   "execution_count": 80,
   "metadata": {},
   "outputs": [],
   "source": [
    "# parametri pentru simulare\n",
    "nr_populatie = 10000\n",
    "prob_infectare = np.random.uniform(0.03, 0.05, nr_populatie)  # probabilitatea ca un individ sa se infecteze este intre 3-5%\n",
    "nr_zile_refacere = np.zeros(nr_populatie, dtype=int)         \n",
    "simulare_zile = 150                                           # nr de zile pentru care se face simularea (1 nov - 31 martie)\n",
    "nr_sectoare = 6"
   ]
  },
  {
   "cell_type": "markdown",
   "metadata": {},
   "source": [
    "# Simularea Răspândirii Gripei pe Întreaga Populație \n",
    "\n",
    "Acest cod simulează răspândirea gripei într-o populație de mărime `nr_populatie` (populația simulată pentru întreg Bucureștiul) pe o perioadă de timp definită (`simulare_zile`).\n",
    "\n",
    "1. **Calculul Zilnic al Numărului de Infectați**:\n",
    "   - `posibil_infectati`: Persoanele care nu sunt infectate (cu zile de recuperare de 0).\n",
    "   - `sansa_infectare`: Valori aleatoare pentru fiecare persoană, reprezentând șansa de infectare zilnică.\n",
    "   - `infectati`: Persoanele care devin infectate dacă șansa lor este mai mică decât probabilitatea de infectare.\n",
    "   - **Zilele de recuperare** sunt setate între 7 și 10 zile pentru cei infectați, iar numărul zilnic de infectați este stocat în `nr_infectati_pe_zi`.\n",
    "   - Zilele de recuperare sunt decrementate zilnic pentru cei infectați până când redevin susceptibili.\n",
    "\n",
    "2. **Estimarea Probabilității de Infectare**:\n",
    "   - Simulăm infecția pentru fiecare individ pe toată durata simulării.\n",
    "   - **Estimarea finală**: Probabilitatea estimată de infectare este calculată ca raport între numărul de infecții și numărul total de persoane pe toată perioada simulată.\n",
    "\n",
    "3. **Rezultate**:\n",
    "   - `nr_infectati_pe_zi` conține numărul zilnic de infectați.\n",
    "   - `estimare` afișează probabilitatea estimată de infectare.\n",
    "\n",
    "Această metodă oferă o estimare a probabilității de infectare folosind simularea Monte Carlo.\n"
   ]
  },
  {
   "cell_type": "code",
   "execution_count": 81,
   "metadata": {},
   "outputs": [
    {
     "name": "stdout",
     "output_type": "stream",
     "text": [
      "Nr infectati pe zi:  [424, 391, 362, 356, 317, 332, 312, 292, 315, 267, 306, 301, 344, 303, 313, 289, 296, 308, 302, 303, 346, 279, 312, 296, 314, 286, 342, 318, 298, 300, 339, 317, 305, 307, 312, 271, 314, 299, 319, 298, 311, 296, 328, 294, 305, 311, 304, 276, 318, 278, 316, 304, 319, 341, 305, 312, 271, 328, 272, 305, 299, 306, 314, 319, 295, 301, 306, 301, 279, 299, 310, 312, 306, 293, 303, 322, 321, 319, 308, 293, 299, 304, 315, 297, 314, 309, 279, 323, 299, 308, 325, 310, 283, 327, 312, 313, 280, 328, 318, 324, 335, 290, 312, 312, 318, 339, 290, 294, 304, 314, 275, 327, 303, 302, 302, 354, 308, 310, 293, 357, 281, 309, 296, 290, 304, 295, 317, 306, 312, 284, 315, 323, 295, 309, 307, 306, 324, 307, 308, 292, 315, 294, 329, 322, 271, 296, 315, 299, 312, 325]\n",
      "Probabilitatea estimata de infectare: 0.040077\n"
     ]
    }
   ],
   "source": [
    "# simulam raspandirea gripei penrtu toate zilele in populatia data\n",
    "nr_infectati_pe_zi = []\n",
    "\n",
    "for zi in range(simulare_zile):\n",
    "    posibil_infectati = nr_zile_refacere == 0                           # persoanele care nu sunt inca infectate\n",
    "    sansa_infectare = np.random.rand(nr_populatie) \n",
    "    infectati = posibil_infectati & (sansa_infectare < prob_infectare)  # persoane deja infectate\n",
    "    nr_infectati_pe_zi.append(np.sum(infectati))\n",
    "\n",
    "    # setam zilele de refacere pentru persoanele infectate (intre 7-10 zile)\n",
    "    nr_zile_refacere[infectati] = np.random.randint(7, 11, size=np.sum(infectati))\n",
    "\n",
    "    # decrementam zilele de refacere pentru persoanele care sunt inca infectate\n",
    "    nr_zile_refacere[nr_zile_refacere > 0] -= 1\n",
    "\n",
    "\n",
    "print(\"Nr infectati pe zi: \", nr_infectati_pe_zi)\n",
    "\n",
    "# estimam probabilitatea de infectare cu ajutorul simularii Monte Carlo\n",
    "infected_count = 0  \n",
    "\n",
    "# rulam simularea pentru fiecare zi\n",
    "for _ in range(simulare_zile):\n",
    "    for i in range(nr_populatie):                # simulam pentru fiecare individ din populatie\n",
    "        random_value = np.random.rand()          # generarea unei valori random \n",
    "        if random_value < prob_infectare[i]:     # daca valoarea random este mai mica decat probabilitatea de infectare, atunci individul este infectat\n",
    "            infected_count += 1  \n",
    "\n",
    "# estimare \n",
    "estimare = infected_count / (nr_populatie * simulare_zile)\n",
    "print(f\"Probabilitatea estimata de infectare: {estimare:.6f}\")"
   ]
  },
  {
   "cell_type": "markdown",
   "metadata": {},
   "source": [
    "## Rezultate și Vizualizare\n",
    "\n",
    "Rezultatele sunt reprezentate grafic folosind librăria Plotly.\n",
    "Primul grafic figurează modul în care gripa se modifică în fiecare zi, începând din luna noiembrie, până în ultima zi din martie.\n",
    "\n",
    "Acest grafic ajută la înțelegerea modului în care gripa se răspândește în oraș.\n"
   ]
  },
  {
   "cell_type": "code",
   "execution_count": 82,
   "metadata": {},
   "outputs": [
    {
     "data": {
      "application/vnd.plotly.v1+json": {
       "config": {
        "plotlyServerURL": "https://plot.ly"
       },
       "data": [
        {
         "line": {
          "color": "MediumPurple",
          "width": 2
         },
         "mode": "lines",
         "name": "Numar infectati in perioda noiembrie - martie",
         "type": "scatter",
         "x": [
          0,
          1,
          2,
          3,
          4,
          5,
          6,
          7,
          8,
          9,
          10,
          11,
          12,
          13,
          14,
          15,
          16,
          17,
          18,
          19,
          20,
          21,
          22,
          23,
          24,
          25,
          26,
          27,
          28,
          29,
          30,
          31,
          32,
          33,
          34,
          35,
          36,
          37,
          38,
          39,
          40,
          41,
          42,
          43,
          44,
          45,
          46,
          47,
          48,
          49,
          50,
          51,
          52,
          53,
          54,
          55,
          56,
          57,
          58,
          59,
          60,
          61,
          62,
          63,
          64,
          65,
          66,
          67,
          68,
          69,
          70,
          71,
          72,
          73,
          74,
          75,
          76,
          77,
          78,
          79,
          80,
          81,
          82,
          83,
          84,
          85,
          86,
          87,
          88,
          89,
          90,
          91,
          92,
          93,
          94,
          95,
          96,
          97,
          98,
          99,
          100,
          101,
          102,
          103,
          104,
          105,
          106,
          107,
          108,
          109,
          110,
          111,
          112,
          113,
          114,
          115,
          116,
          117,
          118,
          119,
          120,
          121,
          122,
          123,
          124,
          125,
          126,
          127,
          128,
          129,
          130,
          131,
          132,
          133,
          134,
          135,
          136,
          137,
          138,
          139,
          140,
          141,
          142,
          143,
          144,
          145,
          146,
          147,
          148,
          149
         ],
         "y": [
          424,
          391,
          362,
          356,
          317,
          332,
          312,
          292,
          315,
          267,
          306,
          301,
          344,
          303,
          313,
          289,
          296,
          308,
          302,
          303,
          346,
          279,
          312,
          296,
          314,
          286,
          342,
          318,
          298,
          300,
          339,
          317,
          305,
          307,
          312,
          271,
          314,
          299,
          319,
          298,
          311,
          296,
          328,
          294,
          305,
          311,
          304,
          276,
          318,
          278,
          316,
          304,
          319,
          341,
          305,
          312,
          271,
          328,
          272,
          305,
          299,
          306,
          314,
          319,
          295,
          301,
          306,
          301,
          279,
          299,
          310,
          312,
          306,
          293,
          303,
          322,
          321,
          319,
          308,
          293,
          299,
          304,
          315,
          297,
          314,
          309,
          279,
          323,
          299,
          308,
          325,
          310,
          283,
          327,
          312,
          313,
          280,
          328,
          318,
          324,
          335,
          290,
          312,
          312,
          318,
          339,
          290,
          294,
          304,
          314,
          275,
          327,
          303,
          302,
          302,
          354,
          308,
          310,
          293,
          357,
          281,
          309,
          296,
          290,
          304,
          295,
          317,
          306,
          312,
          284,
          315,
          323,
          295,
          309,
          307,
          306,
          324,
          307,
          308,
          292,
          315,
          294,
          329,
          322,
          271,
          296,
          315,
          299,
          312,
          325
         ]
        }
       ],
       "layout": {
        "font": {
         "color": "white",
         "family": "system-ui",
         "size": 14
        },
        "paper_bgcolor": "rgba(0,0,0,0)",
        "plot_bgcolor": "Gainsboro",
        "template": {
         "data": {
          "bar": [
           {
            "error_x": {
             "color": "#2a3f5f"
            },
            "error_y": {
             "color": "#2a3f5f"
            },
            "marker": {
             "line": {
              "color": "#E5ECF6",
              "width": 0.5
             },
             "pattern": {
              "fillmode": "overlay",
              "size": 10,
              "solidity": 0.2
             }
            },
            "type": "bar"
           }
          ],
          "barpolar": [
           {
            "marker": {
             "line": {
              "color": "#E5ECF6",
              "width": 0.5
             },
             "pattern": {
              "fillmode": "overlay",
              "size": 10,
              "solidity": 0.2
             }
            },
            "type": "barpolar"
           }
          ],
          "carpet": [
           {
            "aaxis": {
             "endlinecolor": "#2a3f5f",
             "gridcolor": "white",
             "linecolor": "white",
             "minorgridcolor": "white",
             "startlinecolor": "#2a3f5f"
            },
            "baxis": {
             "endlinecolor": "#2a3f5f",
             "gridcolor": "white",
             "linecolor": "white",
             "minorgridcolor": "white",
             "startlinecolor": "#2a3f5f"
            },
            "type": "carpet"
           }
          ],
          "choropleth": [
           {
            "colorbar": {
             "outlinewidth": 0,
             "ticks": ""
            },
            "type": "choropleth"
           }
          ],
          "contour": [
           {
            "colorbar": {
             "outlinewidth": 0,
             "ticks": ""
            },
            "colorscale": [
             [
              0,
              "#0d0887"
             ],
             [
              0.1111111111111111,
              "#46039f"
             ],
             [
              0.2222222222222222,
              "#7201a8"
             ],
             [
              0.3333333333333333,
              "#9c179e"
             ],
             [
              0.4444444444444444,
              "#bd3786"
             ],
             [
              0.5555555555555556,
              "#d8576b"
             ],
             [
              0.6666666666666666,
              "#ed7953"
             ],
             [
              0.7777777777777778,
              "#fb9f3a"
             ],
             [
              0.8888888888888888,
              "#fdca26"
             ],
             [
              1,
              "#f0f921"
             ]
            ],
            "type": "contour"
           }
          ],
          "contourcarpet": [
           {
            "colorbar": {
             "outlinewidth": 0,
             "ticks": ""
            },
            "type": "contourcarpet"
           }
          ],
          "heatmap": [
           {
            "colorbar": {
             "outlinewidth": 0,
             "ticks": ""
            },
            "colorscale": [
             [
              0,
              "#0d0887"
             ],
             [
              0.1111111111111111,
              "#46039f"
             ],
             [
              0.2222222222222222,
              "#7201a8"
             ],
             [
              0.3333333333333333,
              "#9c179e"
             ],
             [
              0.4444444444444444,
              "#bd3786"
             ],
             [
              0.5555555555555556,
              "#d8576b"
             ],
             [
              0.6666666666666666,
              "#ed7953"
             ],
             [
              0.7777777777777778,
              "#fb9f3a"
             ],
             [
              0.8888888888888888,
              "#fdca26"
             ],
             [
              1,
              "#f0f921"
             ]
            ],
            "type": "heatmap"
           }
          ],
          "heatmapgl": [
           {
            "colorbar": {
             "outlinewidth": 0,
             "ticks": ""
            },
            "colorscale": [
             [
              0,
              "#0d0887"
             ],
             [
              0.1111111111111111,
              "#46039f"
             ],
             [
              0.2222222222222222,
              "#7201a8"
             ],
             [
              0.3333333333333333,
              "#9c179e"
             ],
             [
              0.4444444444444444,
              "#bd3786"
             ],
             [
              0.5555555555555556,
              "#d8576b"
             ],
             [
              0.6666666666666666,
              "#ed7953"
             ],
             [
              0.7777777777777778,
              "#fb9f3a"
             ],
             [
              0.8888888888888888,
              "#fdca26"
             ],
             [
              1,
              "#f0f921"
             ]
            ],
            "type": "heatmapgl"
           }
          ],
          "histogram": [
           {
            "marker": {
             "pattern": {
              "fillmode": "overlay",
              "size": 10,
              "solidity": 0.2
             }
            },
            "type": "histogram"
           }
          ],
          "histogram2d": [
           {
            "colorbar": {
             "outlinewidth": 0,
             "ticks": ""
            },
            "colorscale": [
             [
              0,
              "#0d0887"
             ],
             [
              0.1111111111111111,
              "#46039f"
             ],
             [
              0.2222222222222222,
              "#7201a8"
             ],
             [
              0.3333333333333333,
              "#9c179e"
             ],
             [
              0.4444444444444444,
              "#bd3786"
             ],
             [
              0.5555555555555556,
              "#d8576b"
             ],
             [
              0.6666666666666666,
              "#ed7953"
             ],
             [
              0.7777777777777778,
              "#fb9f3a"
             ],
             [
              0.8888888888888888,
              "#fdca26"
             ],
             [
              1,
              "#f0f921"
             ]
            ],
            "type": "histogram2d"
           }
          ],
          "histogram2dcontour": [
           {
            "colorbar": {
             "outlinewidth": 0,
             "ticks": ""
            },
            "colorscale": [
             [
              0,
              "#0d0887"
             ],
             [
              0.1111111111111111,
              "#46039f"
             ],
             [
              0.2222222222222222,
              "#7201a8"
             ],
             [
              0.3333333333333333,
              "#9c179e"
             ],
             [
              0.4444444444444444,
              "#bd3786"
             ],
             [
              0.5555555555555556,
              "#d8576b"
             ],
             [
              0.6666666666666666,
              "#ed7953"
             ],
             [
              0.7777777777777778,
              "#fb9f3a"
             ],
             [
              0.8888888888888888,
              "#fdca26"
             ],
             [
              1,
              "#f0f921"
             ]
            ],
            "type": "histogram2dcontour"
           }
          ],
          "mesh3d": [
           {
            "colorbar": {
             "outlinewidth": 0,
             "ticks": ""
            },
            "type": "mesh3d"
           }
          ],
          "parcoords": [
           {
            "line": {
             "colorbar": {
              "outlinewidth": 0,
              "ticks": ""
             }
            },
            "type": "parcoords"
           }
          ],
          "pie": [
           {
            "automargin": true,
            "type": "pie"
           }
          ],
          "scatter": [
           {
            "fillpattern": {
             "fillmode": "overlay",
             "size": 10,
             "solidity": 0.2
            },
            "type": "scatter"
           }
          ],
          "scatter3d": [
           {
            "line": {
             "colorbar": {
              "outlinewidth": 0,
              "ticks": ""
             }
            },
            "marker": {
             "colorbar": {
              "outlinewidth": 0,
              "ticks": ""
             }
            },
            "type": "scatter3d"
           }
          ],
          "scattercarpet": [
           {
            "marker": {
             "colorbar": {
              "outlinewidth": 0,
              "ticks": ""
             }
            },
            "type": "scattercarpet"
           }
          ],
          "scattergeo": [
           {
            "marker": {
             "colorbar": {
              "outlinewidth": 0,
              "ticks": ""
             }
            },
            "type": "scattergeo"
           }
          ],
          "scattergl": [
           {
            "marker": {
             "colorbar": {
              "outlinewidth": 0,
              "ticks": ""
             }
            },
            "type": "scattergl"
           }
          ],
          "scattermapbox": [
           {
            "marker": {
             "colorbar": {
              "outlinewidth": 0,
              "ticks": ""
             }
            },
            "type": "scattermapbox"
           }
          ],
          "scatterpolar": [
           {
            "marker": {
             "colorbar": {
              "outlinewidth": 0,
              "ticks": ""
             }
            },
            "type": "scatterpolar"
           }
          ],
          "scatterpolargl": [
           {
            "marker": {
             "colorbar": {
              "outlinewidth": 0,
              "ticks": ""
             }
            },
            "type": "scatterpolargl"
           }
          ],
          "scatterternary": [
           {
            "marker": {
             "colorbar": {
              "outlinewidth": 0,
              "ticks": ""
             }
            },
            "type": "scatterternary"
           }
          ],
          "surface": [
           {
            "colorbar": {
             "outlinewidth": 0,
             "ticks": ""
            },
            "colorscale": [
             [
              0,
              "#0d0887"
             ],
             [
              0.1111111111111111,
              "#46039f"
             ],
             [
              0.2222222222222222,
              "#7201a8"
             ],
             [
              0.3333333333333333,
              "#9c179e"
             ],
             [
              0.4444444444444444,
              "#bd3786"
             ],
             [
              0.5555555555555556,
              "#d8576b"
             ],
             [
              0.6666666666666666,
              "#ed7953"
             ],
             [
              0.7777777777777778,
              "#fb9f3a"
             ],
             [
              0.8888888888888888,
              "#fdca26"
             ],
             [
              1,
              "#f0f921"
             ]
            ],
            "type": "surface"
           }
          ],
          "table": [
           {
            "cells": {
             "fill": {
              "color": "#EBF0F8"
             },
             "line": {
              "color": "white"
             }
            },
            "header": {
             "fill": {
              "color": "#C8D4E3"
             },
             "line": {
              "color": "white"
             }
            },
            "type": "table"
           }
          ]
         },
         "layout": {
          "annotationdefaults": {
           "arrowcolor": "#2a3f5f",
           "arrowhead": 0,
           "arrowwidth": 1
          },
          "autotypenumbers": "strict",
          "coloraxis": {
           "colorbar": {
            "outlinewidth": 0,
            "ticks": ""
           }
          },
          "colorscale": {
           "diverging": [
            [
             0,
             "#8e0152"
            ],
            [
             0.1,
             "#c51b7d"
            ],
            [
             0.2,
             "#de77ae"
            ],
            [
             0.3,
             "#f1b6da"
            ],
            [
             0.4,
             "#fde0ef"
            ],
            [
             0.5,
             "#f7f7f7"
            ],
            [
             0.6,
             "#e6f5d0"
            ],
            [
             0.7,
             "#b8e186"
            ],
            [
             0.8,
             "#7fbc41"
            ],
            [
             0.9,
             "#4d9221"
            ],
            [
             1,
             "#276419"
            ]
           ],
           "sequential": [
            [
             0,
             "#0d0887"
            ],
            [
             0.1111111111111111,
             "#46039f"
            ],
            [
             0.2222222222222222,
             "#7201a8"
            ],
            [
             0.3333333333333333,
             "#9c179e"
            ],
            [
             0.4444444444444444,
             "#bd3786"
            ],
            [
             0.5555555555555556,
             "#d8576b"
            ],
            [
             0.6666666666666666,
             "#ed7953"
            ],
            [
             0.7777777777777778,
             "#fb9f3a"
            ],
            [
             0.8888888888888888,
             "#fdca26"
            ],
            [
             1,
             "#f0f921"
            ]
           ],
           "sequentialminus": [
            [
             0,
             "#0d0887"
            ],
            [
             0.1111111111111111,
             "#46039f"
            ],
            [
             0.2222222222222222,
             "#7201a8"
            ],
            [
             0.3333333333333333,
             "#9c179e"
            ],
            [
             0.4444444444444444,
             "#bd3786"
            ],
            [
             0.5555555555555556,
             "#d8576b"
            ],
            [
             0.6666666666666666,
             "#ed7953"
            ],
            [
             0.7777777777777778,
             "#fb9f3a"
            ],
            [
             0.8888888888888888,
             "#fdca26"
            ],
            [
             1,
             "#f0f921"
            ]
           ]
          },
          "colorway": [
           "#636efa",
           "#EF553B",
           "#00cc96",
           "#ab63fa",
           "#FFA15A",
           "#19d3f3",
           "#FF6692",
           "#B6E880",
           "#FF97FF",
           "#FECB52"
          ],
          "font": {
           "color": "#2a3f5f"
          },
          "geo": {
           "bgcolor": "white",
           "lakecolor": "white",
           "landcolor": "#E5ECF6",
           "showlakes": true,
           "showland": true,
           "subunitcolor": "white"
          },
          "hoverlabel": {
           "align": "left"
          },
          "hovermode": "closest",
          "mapbox": {
           "style": "light"
          },
          "paper_bgcolor": "white",
          "plot_bgcolor": "#E5ECF6",
          "polar": {
           "angularaxis": {
            "gridcolor": "white",
            "linecolor": "white",
            "ticks": ""
           },
           "bgcolor": "#E5ECF6",
           "radialaxis": {
            "gridcolor": "white",
            "linecolor": "white",
            "ticks": ""
           }
          },
          "scene": {
           "xaxis": {
            "backgroundcolor": "#E5ECF6",
            "gridcolor": "white",
            "gridwidth": 2,
            "linecolor": "white",
            "showbackground": true,
            "ticks": "",
            "zerolinecolor": "white"
           },
           "yaxis": {
            "backgroundcolor": "#E5ECF6",
            "gridcolor": "white",
            "gridwidth": 2,
            "linecolor": "white",
            "showbackground": true,
            "ticks": "",
            "zerolinecolor": "white"
           },
           "zaxis": {
            "backgroundcolor": "#E5ECF6",
            "gridcolor": "white",
            "gridwidth": 2,
            "linecolor": "white",
            "showbackground": true,
            "ticks": "",
            "zerolinecolor": "white"
           }
          },
          "shapedefaults": {
           "line": {
            "color": "#2a3f5f"
           }
          },
          "ternary": {
           "aaxis": {
            "gridcolor": "white",
            "linecolor": "white",
            "ticks": ""
           },
           "baxis": {
            "gridcolor": "white",
            "linecolor": "white",
            "ticks": ""
           },
           "bgcolor": "#E5ECF6",
           "caxis": {
            "gridcolor": "white",
            "linecolor": "white",
            "ticks": ""
           }
          },
          "title": {
           "x": 0.05
          },
          "xaxis": {
           "automargin": true,
           "gridcolor": "white",
           "linecolor": "white",
           "ticks": "",
           "title": {
            "standoff": 15
           },
           "zerolinecolor": "white",
           "zerolinewidth": 2
          },
          "yaxis": {
           "automargin": true,
           "gridcolor": "white",
           "linecolor": "white",
           "ticks": "",
           "title": {
            "standoff": 15
           },
           "zerolinecolor": "white",
           "zerolinewidth": 2
          }
         }
        },
        "title": {
         "text": "Evoluția gripei în București (noiembrie - martie)",
         "x": 0.5
        },
        "xaxis": {
         "ticktext": [
          "Nov",
          "Dec",
          "Jan",
          "Feb",
          "Mar"
         ],
         "tickvals": [
          1,
          31,
          62,
          93,
          121
         ],
         "title": {
          "text": "Zile"
         }
        },
        "yaxis": {
         "title": {
          "text": "Nr persoane infectate"
         }
        }
       }
      }
     },
     "metadata": {},
     "output_type": "display_data"
    }
   ],
   "source": [
    "# plotarea rezultatelor \n",
    "zile_pe_luna = [30, 31, 31, 28, 31]\n",
    "luni = ['Nov', 'Dec', 'Jan', 'Feb', 'Mar'] \n",
    "pozitie_luna = [1] + [sum(zile_pe_luna[:i]) + 1 for i in range(1, len(zile_pe_luna))]\n",
    "\n",
    "# for i, luna in enumerate(luni):\n",
    "#     print(f\"1st {luna} is on day {pozitie_luna[i]}\")\n",
    "\n",
    "fig = go.Figure()\n",
    "\n",
    "fig.add_trace(go.Scatter(\n",
    "    x=np.arange(simulare_zile), \n",
    "    y=nr_infectati_pe_zi, \n",
    "    mode='lines', \n",
    "    name='Numar infectati in perioda noiembrie - martie', \n",
    "    line=dict(color='MediumPurple', width=2)))\n",
    "\n",
    "fig.update_layout(title=dict(text='Evoluția gripei în București (noiembrie - martie)', x=0.5),\n",
    "                   xaxis=dict(title='Zile', tickvals=pozitie_luna, ticktext=luni),\n",
    "                   yaxis_title='Nr persoane infectate',\n",
    "                   paper_bgcolor='rgba(0,0,0,0)',\n",
    "                   font=dict(family='system-ui', size=14, color='white'),\n",
    "                   plot_bgcolor='Gainsboro')\n",
    "fig.show()"
   ]
  },
  {
   "cell_type": "markdown",
   "metadata": {},
   "source": [
    "# Simularea Răspândirii Gripei în Sectoarele Bucureștiului\n",
    "\n",
    "Simularea modelează răspândirea gripei în București, împărțit pe 6 sectoare, pentru o perioadă de 150 de zile.\n",
    "\n",
    "1. **Populația și Probabilitatea de Infectare**: Fiecare sector are o populație simulată și o probabilitate de infectare aleatorie între 3% și 5%.\n",
    "   \n",
    "2. **Zile de Recuperare și Contorizarea Infecțiilor**: Inițial, toți sunt sănătoși. `nr_zile_refacere_sectoare` contorizează zilele de recuperare, iar `nr_infectati_pe_zi_sectoare` stochează zilnic numărul de infectați pe sector.\n",
    "\n",
    "3. **Simularea Infecțiilor**: \n",
    "   - În fiecare zi, pentru fiecare sector, persoanele susceptibile au o șansă de infectare.\n",
    "   - Persoanele infectate primesc zile de recuperare între 7 și 10 zile.\n",
    "   \n",
    "4. **Actualizarea Stării**: Zilele de recuperare scad zilnic pentru cei infectați, iar la final se afișează numărul zilnic de infectați pe sector.\n",
    "\n",
    "Acest model oferă o imagine a răspândirii gripei pe durata simulării în funcție de populația și probabilitatea sectorială.\n"
   ]
  },
  {
   "cell_type": "code",
   "execution_count": 83,
   "metadata": {},
   "outputs": [
    {
     "name": "stdout",
     "output_type": "stream",
     "text": [
      "Nr infectati pe zi in sectorul 1: [42, 53, 41, 26, 35, 29, 28, 24, 30, 34, 26, 27, 25, 25, 23, 41, 22, 37, 35, 26, 34, 32, 36, 28, 26, 32, 30, 30, 33, 19, 41, 33, 30, 28, 27, 30, 34, 34, 30, 33, 27, 30, 29, 34, 31, 37, 31, 31, 41, 31, 28, 41, 24, 37, 35, 37, 40, 32, 32, 34, 39, 36, 25, 36, 34, 31, 35, 21, 23, 32, 28, 36, 31, 32, 24, 31, 31, 39, 28, 44, 29, 38, 36, 32, 31, 28, 40, 38, 34, 33, 24, 27, 34, 49, 20, 33, 42, 23, 37, 29, 26, 34, 33, 30, 23, 27, 40, 33, 25, 32, 36, 34, 32, 26, 33, 36, 29, 27, 41, 33, 39, 30, 29, 34, 35, 42, 27, 26, 29, 25, 38, 40, 33, 23, 29, 24, 37, 36, 30, 30, 24, 27, 21, 34, 35, 27, 41, 25, 29, 35]\n",
      "\n",
      "Nr infectati pe zi in sectorul 2: [70, 71, 69, 70, 86, 65, 61, 61, 67, 69, 54, 64, 39, 60, 68, 66, 62, 65, 68, 66, 71, 56, 59, 56, 70, 63, 65, 56, 60, 67, 70, 67, 57, 48, 68, 58, 52, 69, 54, 54, 40, 62, 59, 67, 61, 54, 72, 71, 55, 60, 62, 51, 82, 62, 59, 51, 64, 58, 57, 63, 65, 60, 64, 73, 64, 75, 56, 54, 66, 62, 60, 68, 57, 62, 69, 54, 55, 52, 66, 57, 57, 64, 45, 61, 55, 74, 48, 69, 61, 54, 54, 55, 59, 45, 58, 61, 70, 69, 59, 66, 67, 63, 61, 71, 54, 68, 58, 73, 50, 66, 54, 61, 67, 68, 62, 46, 61, 55, 64, 69, 63, 55, 65, 56, 54, 64, 59, 60, 55, 59, 63, 67, 72, 57, 70, 69, 67, 50, 63, 67, 65, 64, 74, 60, 62, 66, 64, 52, 64, 70]\n",
      "\n",
      "Nr infectati pe zi in sectorul 3: [64, 78, 83, 60, 65, 63, 67, 69, 57, 67, 55, 74, 64, 69, 58, 61, 69, 51, 58, 69, 68, 67, 65, 55, 65, 58, 49, 62, 49, 76, 51, 65, 70, 55, 54, 60, 50, 55, 61, 64, 66, 57, 55, 68, 56, 72, 71, 63, 57, 63, 55, 77, 57, 75, 48, 66, 54, 51, 63, 59, 49, 65, 61, 67, 61, 69, 65, 59, 49, 67, 59, 81, 86, 80, 57, 57, 60, 56, 59, 67, 58, 67, 50, 61, 64, 60, 57, 57, 80, 75, 66, 62, 56, 55, 67, 61, 52, 70, 55, 65, 68, 72, 64, 63, 55, 59, 68, 64, 74, 63, 47, 58, 55, 51, 53, 47, 67, 58, 65, 79, 79, 63, 57, 48, 72, 57, 54, 60, 71, 61, 54, 64, 46, 71, 60, 56, 54, 60, 64, 67, 60, 64, 75, 65, 43, 63, 69, 70, 48, 55]\n",
      "\n",
      "Nr infectati pe zi in sectorul 4: [58, 41, 63, 46, 56, 50, 41, 43, 53, 39, 44, 39, 46, 48, 45, 50, 49, 44, 45, 43, 39, 48, 36, 55, 58, 48, 30, 27, 50, 47, 57, 44, 49, 51, 41, 53, 60, 48, 61, 46, 41, 54, 36, 39, 44, 35, 51, 43, 49, 47, 37, 50, 43, 34, 39, 50, 46, 38, 44, 37, 52, 42, 46, 49, 50, 46, 42, 44, 54, 38, 46, 48, 51, 54, 51, 50, 41, 37, 53, 44, 41, 49, 46, 53, 47, 41, 48, 45, 43, 45, 48, 47, 44, 60, 43, 57, 30, 51, 59, 40, 45, 33, 45, 47, 53, 42, 37, 49, 42, 41, 42, 50, 33, 39, 48, 66, 45, 31, 43, 46, 36, 44, 33, 50, 47, 49, 49, 49, 38, 44, 58, 42, 41, 45, 53, 47, 40, 40, 52, 45, 54, 39, 44, 54, 48, 59, 42, 40, 42, 43]\n",
      "\n",
      "Nr infectati pe zi in sectorul 5: [62, 41, 50, 56, 33, 37, 51, 48, 45, 40, 49, 40, 38, 42, 45, 38, 36, 44, 44, 44, 41, 45, 44, 50, 57, 49, 31, 47, 49, 44, 44, 38, 48, 45, 49, 43, 52, 46, 42, 42, 39, 39, 31, 43, 34, 43, 43, 36, 52, 35, 56, 44, 38, 45, 42, 39, 45, 41, 43, 54, 40, 45, 43, 52, 39, 46, 53, 42, 50, 29, 39, 50, 36, 40, 38, 47, 40, 38, 56, 58, 49, 43, 43, 47, 49, 36, 43, 32, 47, 53, 43, 31, 35, 56, 56, 33, 47, 45, 44, 42, 43, 41, 38, 47, 41, 42, 42, 52, 39, 45, 36, 30, 33, 37, 40, 35, 54, 39, 41, 40, 47, 45, 51, 46, 48, 49, 38, 51, 41, 46, 42, 48, 37, 40, 46, 48, 36, 38, 37, 51, 49, 39, 36, 41, 43, 51, 39, 47, 32, 58]\n",
      "\n",
      "Nr infectati pe zi in sectorul 6: [97, 74, 90, 79, 57, 88, 72, 64, 59, 55, 61, 65, 60, 61, 59, 58, 60, 78, 59, 59, 61, 67, 59, 70, 74, 53, 71, 66, 68, 59, 52, 66, 50, 75, 61, 50, 64, 70, 72, 80, 65, 67, 54, 59, 68, 72, 56, 57, 57, 76, 55, 66, 79, 76, 68, 54, 75, 68, 71, 61, 71, 74, 55, 63, 61, 74, 63, 68, 51, 63, 62, 63, 67, 75, 67, 61, 55, 66, 58, 69, 76, 78, 75, 84, 59, 62, 69, 72, 63, 72, 72, 49, 63, 72, 50, 72, 55, 69, 63, 66, 44, 61, 78, 64, 77, 64, 61, 64, 66, 63, 61, 54, 61, 79, 55, 64, 58, 75, 69, 59, 63, 73, 59, 60, 61, 61, 67, 62, 69, 68, 72, 58, 73, 52, 80, 63, 66, 66, 65, 60, 75, 65, 65, 66, 81, 63, 66, 63, 67, 62]\n",
      "\n"
     ]
    }
   ],
   "source": [
    "# simularea raspandirii gripei in sectoarele Bucurestiului \n",
    "populatie_simulata_sectoare = np.array([1192, 1745, 2244, 1546, 1422, 1849])  # simularea populatiei din fiecare sector\n",
    "prob_infectare_sectoare = np.random.uniform(0.03, 0.05, nr_sectoare)          # probabilitatea de infectare pentru fiecare sector\n",
    "\n",
    "nr_zile_refacere_sectoare = [np.zeros(pop, dtype=int) for pop in populatie_simulata_sectoare] \n",
    "nr_infectati_pe_zi_sectoare = [[] for _ in range(nr_sectoare)]\n",
    "\n",
    "for zi in range(simulare_zile):\n",
    "    for s in range(nr_sectoare): # pentru fiecare sector\n",
    "        posibil_infectati = nr_zile_refacere_sectoare[s] == 0 \n",
    "        sansa_infectare = np.random.rand(populatie_simulata_sectoare[s])      # determinam persoanele care pot fi infectate in sectorul respectiv\n",
    "\n",
    "        # daca sansa de infectare este mai mica decat probabilitatea de infectare, atunci persoana devine infectata\n",
    "        infectati = posibil_infectati & (sansa_infectare < prob_infectare_sectoare[s])\n",
    "        nr_infectati_pe_zi_sectoare[s].append(np.sum(infectati))\n",
    "\n",
    "        # setarea zilelor de refacere pentru persoanele infectate (intre 7-10 zile)\n",
    "        nr_zile_refacere_sectoare[s][infectati] = np.random.randint(7, 11, size=np.sum(infectati))\n",
    "\n",
    "        # decrementarea zilelor de refacere pentru persoanele care sunt inca infectate\n",
    "        nr_zile_refacere_sectoare[s][nr_zile_refacere_sectoare[s] > 0] -= 1\n",
    "\n",
    "# nr de persoane infectate in fiecare sector, in fiecare zi\n",
    "for s in range(nr_sectoare):\n",
    "    print(f\"Nr infectati pe zi in sectorul {s+1}: {nr_infectati_pe_zi_sectoare[s]}\\n\")\n"
   ]
  },
  {
   "cell_type": "markdown",
   "metadata": {},
   "source": [
    "## Rezultate și Vizualizare\n",
    "\n",
    "Acest cod estimează și vizualizează rata de infectare cu gripă în fiecare sector al Bucureștiului utilizând o hartă coropletică."
   ]
  },
  {
   "cell_type": "code",
   "execution_count": 84,
   "metadata": {},
   "outputs": [
    {
     "name": "stdout",
     "output_type": "stream",
     "text": [
      "     Sector  Infection Rate\n",
      "0  Sector 1        4.000000\n",
      "1  Sector 2        5.311175\n",
      "2  Sector 3        4.146613\n",
      "3  Sector 4        4.441785\n",
      "4  Sector 5        4.585795\n",
      "5  Sector 6        5.312061\n"
     ]
    },
    {
     "data": {
      "application/vnd.plotly.v1+json": {
       "config": {
        "plotlyServerURL": "https://plot.ly"
       },
       "data": [
        {
         "coloraxis": "coloraxis",
         "featureidkey": "properties.tags.name",
         "geo": "geo",
         "geojson": "/Users/alexandrazamfirescu/Flu_Spread_Simulation/BucurestiSectoare.geo.json",
         "hovertemplate": "Sector=%{location}<br>Infection Rate=%{z}<extra></extra>",
         "locations": [
          "Sector 1",
          "Sector 2",
          "Sector 3",
          "Sector 4",
          "Sector 5",
          "Sector 6"
         ],
         "name": "",
         "type": "choropleth",
         "z": [
          4,
          5.311174785100286,
          4.146613190730838,
          4.441785252263907,
          4.585794655414909,
          5.312060573282856
         ]
        }
       ],
       "layout": {
        "coloraxis": {
         "colorbar": {
          "title": {
           "text": "Infection Rate"
          }
         },
         "colorscale": [
          [
           0,
           "#30123b"
          ],
          [
           0.07142857142857142,
           "#4145ab"
          ],
          [
           0.14285714285714285,
           "#4675ed"
          ],
          [
           0.21428571428571427,
           "#39a2fc"
          ],
          [
           0.2857142857142857,
           "#1bcfd4"
          ],
          [
           0.35714285714285715,
           "#24eca6"
          ],
          [
           0.42857142857142855,
           "#61fc6c"
          ],
          [
           0.5,
           "#a4fc3b"
          ],
          [
           0.5714285714285714,
           "#d1e834"
          ],
          [
           0.6428571428571429,
           "#f3c63a"
          ],
          [
           0.7142857142857143,
           "#fe9b2d"
          ],
          [
           0.7857142857142857,
           "#f36315"
          ],
          [
           0.8571428571428571,
           "#d93806"
          ],
          [
           0.9285714285714286,
           "#b11901"
          ],
          [
           1,
           "#7a0402"
          ]
         ]
        },
        "geo": {
         "center": {},
         "domain": {
          "x": [
           0,
           1
          ],
          "y": [
           0,
           1
          ]
         },
         "fitbounds": "locations",
         "projection": {
          "type": "mercator"
         },
         "visible": false
        },
        "legend": {
         "tracegroupgap": 0
        },
        "margin": {
         "b": 0,
         "l": 0,
         "r": 0,
         "t": 40
        },
        "template": {
         "data": {
          "bar": [
           {
            "error_x": {
             "color": "#2a3f5f"
            },
            "error_y": {
             "color": "#2a3f5f"
            },
            "marker": {
             "line": {
              "color": "#E5ECF6",
              "width": 0.5
             },
             "pattern": {
              "fillmode": "overlay",
              "size": 10,
              "solidity": 0.2
             }
            },
            "type": "bar"
           }
          ],
          "barpolar": [
           {
            "marker": {
             "line": {
              "color": "#E5ECF6",
              "width": 0.5
             },
             "pattern": {
              "fillmode": "overlay",
              "size": 10,
              "solidity": 0.2
             }
            },
            "type": "barpolar"
           }
          ],
          "carpet": [
           {
            "aaxis": {
             "endlinecolor": "#2a3f5f",
             "gridcolor": "white",
             "linecolor": "white",
             "minorgridcolor": "white",
             "startlinecolor": "#2a3f5f"
            },
            "baxis": {
             "endlinecolor": "#2a3f5f",
             "gridcolor": "white",
             "linecolor": "white",
             "minorgridcolor": "white",
             "startlinecolor": "#2a3f5f"
            },
            "type": "carpet"
           }
          ],
          "choropleth": [
           {
            "colorbar": {
             "outlinewidth": 0,
             "ticks": ""
            },
            "type": "choropleth"
           }
          ],
          "contour": [
           {
            "colorbar": {
             "outlinewidth": 0,
             "ticks": ""
            },
            "colorscale": [
             [
              0,
              "#0d0887"
             ],
             [
              0.1111111111111111,
              "#46039f"
             ],
             [
              0.2222222222222222,
              "#7201a8"
             ],
             [
              0.3333333333333333,
              "#9c179e"
             ],
             [
              0.4444444444444444,
              "#bd3786"
             ],
             [
              0.5555555555555556,
              "#d8576b"
             ],
             [
              0.6666666666666666,
              "#ed7953"
             ],
             [
              0.7777777777777778,
              "#fb9f3a"
             ],
             [
              0.8888888888888888,
              "#fdca26"
             ],
             [
              1,
              "#f0f921"
             ]
            ],
            "type": "contour"
           }
          ],
          "contourcarpet": [
           {
            "colorbar": {
             "outlinewidth": 0,
             "ticks": ""
            },
            "type": "contourcarpet"
           }
          ],
          "heatmap": [
           {
            "colorbar": {
             "outlinewidth": 0,
             "ticks": ""
            },
            "colorscale": [
             [
              0,
              "#0d0887"
             ],
             [
              0.1111111111111111,
              "#46039f"
             ],
             [
              0.2222222222222222,
              "#7201a8"
             ],
             [
              0.3333333333333333,
              "#9c179e"
             ],
             [
              0.4444444444444444,
              "#bd3786"
             ],
             [
              0.5555555555555556,
              "#d8576b"
             ],
             [
              0.6666666666666666,
              "#ed7953"
             ],
             [
              0.7777777777777778,
              "#fb9f3a"
             ],
             [
              0.8888888888888888,
              "#fdca26"
             ],
             [
              1,
              "#f0f921"
             ]
            ],
            "type": "heatmap"
           }
          ],
          "heatmapgl": [
           {
            "colorbar": {
             "outlinewidth": 0,
             "ticks": ""
            },
            "colorscale": [
             [
              0,
              "#0d0887"
             ],
             [
              0.1111111111111111,
              "#46039f"
             ],
             [
              0.2222222222222222,
              "#7201a8"
             ],
             [
              0.3333333333333333,
              "#9c179e"
             ],
             [
              0.4444444444444444,
              "#bd3786"
             ],
             [
              0.5555555555555556,
              "#d8576b"
             ],
             [
              0.6666666666666666,
              "#ed7953"
             ],
             [
              0.7777777777777778,
              "#fb9f3a"
             ],
             [
              0.8888888888888888,
              "#fdca26"
             ],
             [
              1,
              "#f0f921"
             ]
            ],
            "type": "heatmapgl"
           }
          ],
          "histogram": [
           {
            "marker": {
             "pattern": {
              "fillmode": "overlay",
              "size": 10,
              "solidity": 0.2
             }
            },
            "type": "histogram"
           }
          ],
          "histogram2d": [
           {
            "colorbar": {
             "outlinewidth": 0,
             "ticks": ""
            },
            "colorscale": [
             [
              0,
              "#0d0887"
             ],
             [
              0.1111111111111111,
              "#46039f"
             ],
             [
              0.2222222222222222,
              "#7201a8"
             ],
             [
              0.3333333333333333,
              "#9c179e"
             ],
             [
              0.4444444444444444,
              "#bd3786"
             ],
             [
              0.5555555555555556,
              "#d8576b"
             ],
             [
              0.6666666666666666,
              "#ed7953"
             ],
             [
              0.7777777777777778,
              "#fb9f3a"
             ],
             [
              0.8888888888888888,
              "#fdca26"
             ],
             [
              1,
              "#f0f921"
             ]
            ],
            "type": "histogram2d"
           }
          ],
          "histogram2dcontour": [
           {
            "colorbar": {
             "outlinewidth": 0,
             "ticks": ""
            },
            "colorscale": [
             [
              0,
              "#0d0887"
             ],
             [
              0.1111111111111111,
              "#46039f"
             ],
             [
              0.2222222222222222,
              "#7201a8"
             ],
             [
              0.3333333333333333,
              "#9c179e"
             ],
             [
              0.4444444444444444,
              "#bd3786"
             ],
             [
              0.5555555555555556,
              "#d8576b"
             ],
             [
              0.6666666666666666,
              "#ed7953"
             ],
             [
              0.7777777777777778,
              "#fb9f3a"
             ],
             [
              0.8888888888888888,
              "#fdca26"
             ],
             [
              1,
              "#f0f921"
             ]
            ],
            "type": "histogram2dcontour"
           }
          ],
          "mesh3d": [
           {
            "colorbar": {
             "outlinewidth": 0,
             "ticks": ""
            },
            "type": "mesh3d"
           }
          ],
          "parcoords": [
           {
            "line": {
             "colorbar": {
              "outlinewidth": 0,
              "ticks": ""
             }
            },
            "type": "parcoords"
           }
          ],
          "pie": [
           {
            "automargin": true,
            "type": "pie"
           }
          ],
          "scatter": [
           {
            "fillpattern": {
             "fillmode": "overlay",
             "size": 10,
             "solidity": 0.2
            },
            "type": "scatter"
           }
          ],
          "scatter3d": [
           {
            "line": {
             "colorbar": {
              "outlinewidth": 0,
              "ticks": ""
             }
            },
            "marker": {
             "colorbar": {
              "outlinewidth": 0,
              "ticks": ""
             }
            },
            "type": "scatter3d"
           }
          ],
          "scattercarpet": [
           {
            "marker": {
             "colorbar": {
              "outlinewidth": 0,
              "ticks": ""
             }
            },
            "type": "scattercarpet"
           }
          ],
          "scattergeo": [
           {
            "marker": {
             "colorbar": {
              "outlinewidth": 0,
              "ticks": ""
             }
            },
            "type": "scattergeo"
           }
          ],
          "scattergl": [
           {
            "marker": {
             "colorbar": {
              "outlinewidth": 0,
              "ticks": ""
             }
            },
            "type": "scattergl"
           }
          ],
          "scattermapbox": [
           {
            "marker": {
             "colorbar": {
              "outlinewidth": 0,
              "ticks": ""
             }
            },
            "type": "scattermapbox"
           }
          ],
          "scatterpolar": [
           {
            "marker": {
             "colorbar": {
              "outlinewidth": 0,
              "ticks": ""
             }
            },
            "type": "scatterpolar"
           }
          ],
          "scatterpolargl": [
           {
            "marker": {
             "colorbar": {
              "outlinewidth": 0,
              "ticks": ""
             }
            },
            "type": "scatterpolargl"
           }
          ],
          "scatterternary": [
           {
            "marker": {
             "colorbar": {
              "outlinewidth": 0,
              "ticks": ""
             }
            },
            "type": "scatterternary"
           }
          ],
          "surface": [
           {
            "colorbar": {
             "outlinewidth": 0,
             "ticks": ""
            },
            "colorscale": [
             [
              0,
              "#0d0887"
             ],
             [
              0.1111111111111111,
              "#46039f"
             ],
             [
              0.2222222222222222,
              "#7201a8"
             ],
             [
              0.3333333333333333,
              "#9c179e"
             ],
             [
              0.4444444444444444,
              "#bd3786"
             ],
             [
              0.5555555555555556,
              "#d8576b"
             ],
             [
              0.6666666666666666,
              "#ed7953"
             ],
             [
              0.7777777777777778,
              "#fb9f3a"
             ],
             [
              0.8888888888888888,
              "#fdca26"
             ],
             [
              1,
              "#f0f921"
             ]
            ],
            "type": "surface"
           }
          ],
          "table": [
           {
            "cells": {
             "fill": {
              "color": "#EBF0F8"
             },
             "line": {
              "color": "white"
             }
            },
            "header": {
             "fill": {
              "color": "#C8D4E3"
             },
             "line": {
              "color": "white"
             }
            },
            "type": "table"
           }
          ]
         },
         "layout": {
          "annotationdefaults": {
           "arrowcolor": "#2a3f5f",
           "arrowhead": 0,
           "arrowwidth": 1
          },
          "autotypenumbers": "strict",
          "coloraxis": {
           "colorbar": {
            "outlinewidth": 0,
            "ticks": ""
           }
          },
          "colorscale": {
           "diverging": [
            [
             0,
             "#8e0152"
            ],
            [
             0.1,
             "#c51b7d"
            ],
            [
             0.2,
             "#de77ae"
            ],
            [
             0.3,
             "#f1b6da"
            ],
            [
             0.4,
             "#fde0ef"
            ],
            [
             0.5,
             "#f7f7f7"
            ],
            [
             0.6,
             "#e6f5d0"
            ],
            [
             0.7,
             "#b8e186"
            ],
            [
             0.8,
             "#7fbc41"
            ],
            [
             0.9,
             "#4d9221"
            ],
            [
             1,
             "#276419"
            ]
           ],
           "sequential": [
            [
             0,
             "#0d0887"
            ],
            [
             0.1111111111111111,
             "#46039f"
            ],
            [
             0.2222222222222222,
             "#7201a8"
            ],
            [
             0.3333333333333333,
             "#9c179e"
            ],
            [
             0.4444444444444444,
             "#bd3786"
            ],
            [
             0.5555555555555556,
             "#d8576b"
            ],
            [
             0.6666666666666666,
             "#ed7953"
            ],
            [
             0.7777777777777778,
             "#fb9f3a"
            ],
            [
             0.8888888888888888,
             "#fdca26"
            ],
            [
             1,
             "#f0f921"
            ]
           ],
           "sequentialminus": [
            [
             0,
             "#0d0887"
            ],
            [
             0.1111111111111111,
             "#46039f"
            ],
            [
             0.2222222222222222,
             "#7201a8"
            ],
            [
             0.3333333333333333,
             "#9c179e"
            ],
            [
             0.4444444444444444,
             "#bd3786"
            ],
            [
             0.5555555555555556,
             "#d8576b"
            ],
            [
             0.6666666666666666,
             "#ed7953"
            ],
            [
             0.7777777777777778,
             "#fb9f3a"
            ],
            [
             0.8888888888888888,
             "#fdca26"
            ],
            [
             1,
             "#f0f921"
            ]
           ]
          },
          "colorway": [
           "#636efa",
           "#EF553B",
           "#00cc96",
           "#ab63fa",
           "#FFA15A",
           "#19d3f3",
           "#FF6692",
           "#B6E880",
           "#FF97FF",
           "#FECB52"
          ],
          "font": {
           "color": "#2a3f5f"
          },
          "geo": {
           "bgcolor": "white",
           "lakecolor": "white",
           "landcolor": "#E5ECF6",
           "showlakes": true,
           "showland": true,
           "subunitcolor": "white"
          },
          "hoverlabel": {
           "align": "left"
          },
          "hovermode": "closest",
          "mapbox": {
           "style": "light"
          },
          "paper_bgcolor": "white",
          "plot_bgcolor": "#E5ECF6",
          "polar": {
           "angularaxis": {
            "gridcolor": "white",
            "linecolor": "white",
            "ticks": ""
           },
           "bgcolor": "#E5ECF6",
           "radialaxis": {
            "gridcolor": "white",
            "linecolor": "white",
            "ticks": ""
           }
          },
          "scene": {
           "xaxis": {
            "backgroundcolor": "#E5ECF6",
            "gridcolor": "white",
            "gridwidth": 2,
            "linecolor": "white",
            "showbackground": true,
            "ticks": "",
            "zerolinecolor": "white"
           },
           "yaxis": {
            "backgroundcolor": "#E5ECF6",
            "gridcolor": "white",
            "gridwidth": 2,
            "linecolor": "white",
            "showbackground": true,
            "ticks": "",
            "zerolinecolor": "white"
           },
           "zaxis": {
            "backgroundcolor": "#E5ECF6",
            "gridcolor": "white",
            "gridwidth": 2,
            "linecolor": "white",
            "showbackground": true,
            "ticks": "",
            "zerolinecolor": "white"
           }
          },
          "shapedefaults": {
           "line": {
            "color": "#2a3f5f"
           }
          },
          "ternary": {
           "aaxis": {
            "gridcolor": "white",
            "linecolor": "white",
            "ticks": ""
           },
           "baxis": {
            "gridcolor": "white",
            "linecolor": "white",
            "ticks": ""
           },
           "bgcolor": "#E5ECF6",
           "caxis": {
            "gridcolor": "white",
            "linecolor": "white",
            "ticks": ""
           }
          },
          "title": {
           "x": 0.05
          },
          "xaxis": {
           "automargin": true,
           "gridcolor": "white",
           "linecolor": "white",
           "ticks": "",
           "title": {
            "standoff": 15
           },
           "zerolinecolor": "white",
           "zerolinewidth": 2
          },
          "yaxis": {
           "automargin": true,
           "gridcolor": "white",
           "linecolor": "white",
           "ticks": "",
           "title": {
            "standoff": 15
           },
           "zerolinecolor": "white",
           "zerolinewidth": 2
          }
         }
        },
        "title": {
         "text": "Rata de infectare cu gripa in fiecare sector",
         "x": 0.5
        }
       }
      }
     },
     "metadata": {},
     "output_type": "display_data"
    }
   ],
   "source": [
    "# nr total de infectati in fiecare sector, in fiecare zi\n",
    "infectii_pe_sector_toate_zilele = [sum(nr_infectati_pe_zi_sectoare[s]) for s in range(nr_sectoare)]\n",
    "\n",
    "# rata de infectare in fiecare sector \n",
    "infectie_rate_sectoare = [infectii / populatie_simulata_sectoare[s] for s, infectii in enumerate(infectii_pe_sector_toate_zilele)] \n",
    "\n",
    "# label ul pentru fiecare sector asa cum e in GeoJSON\n",
    "label_sector = ['Sector 1', 'Sector 2', 'Sector 3', 'Sector 4', 'Sector 5', 'Sector 6']\n",
    "\n",
    "# dataframe cu rata de infectare pentru fiecare sector\n",
    "data_rate = pd.DataFrame({'Sector': label_sector, 'Infection Rate': infectie_rate_sectoare})\n",
    "print(data_rate)\n",
    "\n",
    "# incarcarea fisierului GeoJSON \n",
    "geojson_fisier = '/Users/alexandrazamfirescu/Flu_Spread_Simulation/BucurestiSectoare.geo.json'\n",
    "\n",
    "with open(geojson_fisier) as f:\n",
    "    geojson = json.load(f)\n",
    "\n",
    "# reprezentare harta coropletica \n",
    "fig = px.choropleth(\n",
    "    data_frame=data_rate,\n",
    "    geojson=geojson_fisier,\n",
    "    locations='Sector',\n",
    "    featureidkey='properties.tags.name', \n",
    "    color='Infection Rate',\n",
    "    color_continuous_scale='Turbo',\n",
    "    labels={'Infection Rate': 'Infection Rate'},\n",
    "    projection='mercator'\n",
    ")\n",
    "\n",
    "fig.update_geos(fitbounds=\"locations\", visible=False)\n",
    "fig.update_layout(\n",
    "    title=dict(text='Rata de infectare cu gripa in fiecare sector', x=0.5),\n",
    "    margin={\"r\":0, \"t\":40, \"l\":0, \"b\":0}\n",
    ")\n",
    "\n",
    "fig.show()\n"
   ]
  }
 ],
 "metadata": {
  "kernelspec": {
   "display_name": "tsimulare_env",
   "language": "python",
   "name": "python3"
  },
  "language_info": {
   "codemirror_mode": {
    "name": "ipython",
    "version": 3
   },
   "file_extension": ".py",
   "mimetype": "text/x-python",
   "name": "python",
   "nbconvert_exporter": "python",
   "pygments_lexer": "ipython3",
   "version": "3.11.10"
  }
 },
 "nbformat": 4,
 "nbformat_minor": 2
}
