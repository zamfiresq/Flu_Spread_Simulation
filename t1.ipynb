{
 "cells": [
  {
   "cell_type": "markdown",
   "metadata": {},
   "source": [
    "# Simularea răspândirii gripei în București, utilizând metoda Monte Carlo\n",
    "\n",
    "Acest proiect folosește o simulare Monte Carlo pentru a modela răspândirea gripei în București în perioada noiembrie-martie. Simularea ia în considerare probabilitatea zilnică de infectare și timpul de recuperare pentru fiecare individ din populație, împărțită pe sectoare."
   ]
  },
  {
   "cell_type": "code",
   "execution_count": 127,
   "metadata": {},
   "outputs": [],
   "source": [
    "import numpy as np\n",
    "import random\n",
    "import pandas as pd\n",
    "import plotly.express as px\n",
    "import plotly.graph_objects as go\n",
    "import json\n",
    "\n",
    "from itertools import accumulate"
   ]
  },
  {
   "cell_type": "markdown",
   "metadata": {},
   "source": [
    "## Parametrii simulării\n",
    "\n",
    "În cadrul simulării, folosim următorii parametri:\n",
    "\n",
    "- **Populația**: 10.000 de indivizi\n",
    "- **Probabilitatea de infectare**: Valoare aleatoare între 3% și 5% pentru fiecare individ\n",
    "- **Perioada de recuperare**: 7-10 zile pentru fiecare persoană infectată\n",
    "- **Durata simulării**: 150 de zile (de la 1 noiembrie la 31 martie)\n",
    "- **Sectoare**: Simularea este detaliată la nivel de sector, considerând 6 sectoare cu populații diferite.\n",
    "\n",
    "Acești parametri au fost aleși pentru a reflecta dinamica unei epidemii de gripă într-un oraș mare.\n"
   ]
  },
  {
   "cell_type": "code",
   "execution_count": 128,
   "metadata": {},
   "outputs": [],
   "source": [
    "# parametri pentru simulare\n",
    "nr_populatie = 10000\n",
    "prob_infectare = np.random.uniform(0.03, 0.05, nr_populatie)  # probabilitatea ca un individ sa se infecteze este intre 3-5%\n",
    "nr_zile_refacere = np.zeros(nr_populatie, dtype=int)         \n",
    "simulare_zile = 150                                           # nr de zile pentru care se face simularea (1 nov - 31 martie)\n",
    "nr_sectoare = 6"
   ]
  },
  {
   "cell_type": "markdown",
   "metadata": {},
   "source": [
    "# Simularea răspândirii gripei pe întreaga populație \n",
    "\n",
    "Acest cod simulează răspândirea gripei într-o populație de mărime `nr_populatie` (populația simulată pentru întreg Bucureștiul) pe o perioadă de timp definită (`simulare_zile`).\n",
    "\n",
    "1. **Calculul Zilnic al Numărului de Infectați**:\n",
    "   - `posibil_infectati`: Persoanele care nu sunt infectate (cu zile de recuperare de 0).\n",
    "   - `sansa_infectare`: Valori aleatoare pentru fiecare persoană, reprezentând șansa de infectare zilnică.\n",
    "   - `infectati`: Persoanele care devin infectate dacă șansa lor este mai mică decât probabilitatea de infectare.\n",
    "   - **Zilele de recuperare** sunt setate între 7 și 10 zile pentru cei infectați, iar numărul zilnic de infectați este stocat în `nr_infectati_pe_zi`.\n",
    "   - Zilele de recuperare sunt decrementate zilnic pentru cei infectați până când redevin susceptibili.\n",
    "\n",
    "2. **Estimarea Probabilității de Infectare**:\n",
    "   - Simulăm infecția pentru fiecare individ pe toată durata simulării.\n",
    "   - **Estimarea finală**: Probabilitatea estimată de infectare este calculată ca raport între numărul de infecții și numărul total de persoane pe toată perioada simulată.\n",
    "\n",
    "3. **Rezultate**:\n",
    "   - `nr_infectati_pe_zi` conține numărul zilnic de infectați.\n",
    "   - `estimare` afișează probabilitatea estimată de infectare.\n",
    "\n",
    "Această metodă oferă o estimare a probabilității de infectare folosind simularea Monte Carlo.\n"
   ]
  },
  {
   "cell_type": "code",
   "execution_count": 129,
   "metadata": {},
   "outputs": [
    {
     "name": "stdout",
     "output_type": "stream",
     "text": [
      "Nr infectati pe zi:  [391, 425, 386, 343, 366, 334, 317, 290, 307, 296, 312, 311, 292, 299, 306, 303, 316, 333, 294, 301, 329, 327, 308, 301, 320, 298, 307, 312, 319, 327, 308, 298, 310, 324, 300, 290, 335, 311, 301, 293, 288, 314, 352, 283, 299, 294, 313, 310, 319, 288, 287, 340, 301, 295, 300, 312, 289, 274, 308, 311, 321, 307, 305, 314, 306, 310, 315, 288, 300, 297, 259, 279, 308, 286, 271, 298, 335, 306, 332, 313, 301, 272, 331, 313, 320, 298, 322, 347, 320, 283, 289, 325, 303, 311, 308, 317, 329, 280, 303, 282, 304, 321, 318, 315, 322, 323, 327, 321, 274, 286, 282, 321, 293, 311, 282, 330, 329, 293, 306, 325, 351, 330, 302, 293, 294, 308, 304, 320, 323, 316, 313, 304, 340, 326, 270, 322, 309, 301, 330, 295, 306, 327, 304, 318, 294, 322, 294, 304, 319, 320]\n",
      "Probabilitatea estimata de infectare: 0.039653\n"
     ]
    }
   ],
   "source": [
    "# simulam raspandirea gripei penrtu toate zilele in populatia data\n",
    "nr_infectati_pe_zi = []\n",
    "\n",
    "for zi in range(simulare_zile):\n",
    "    posibil_infectati = nr_zile_refacere == 0                           # persoanele care nu sunt inca infectate\n",
    "    sansa_infectare = np.random.rand(nr_populatie) \n",
    "    infectati = posibil_infectati & (sansa_infectare < prob_infectare)  # persoane deja infectate\n",
    "    nr_infectati_pe_zi.append(np.sum(infectati))\n",
    "\n",
    "    # setam zilele de refacere pentru persoanele infectate (intre 7-10 zile)\n",
    "    nr_zile_refacere[infectati] = np.random.randint(7, 11, size=np.sum(infectati))\n",
    "\n",
    "    # decrementam zilele de refacere pentru persoanele care sunt inca infectate\n",
    "    nr_zile_refacere[nr_zile_refacere > 0] -= 1\n",
    "\n",
    "\n",
    "print(\"Nr infectati pe zi: \", nr_infectati_pe_zi)\n",
    "\n",
    "# estimam probabilitatea de infectare cu ajutorul simularii Monte Carlo\n",
    "infected_count = 0  \n",
    "\n",
    "# rulam simularea pentru fiecare zi\n",
    "for _ in range(simulare_zile):\n",
    "    for i in range(nr_populatie):                # simulam pentru fiecare individ din populatie\n",
    "        random_value = np.random.rand()          # generarea unei valori random \n",
    "        if random_value < prob_infectare[i]:     # daca valoarea random este mai mica decat probabilitatea de infectare, atunci individul este infectat\n",
    "            infected_count += 1  \n",
    "\n",
    "# estimare \n",
    "estimare = infected_count / (nr_populatie * simulare_zile)\n",
    "print(f\"Probabilitatea estimata de infectare: {estimare:.6f}\")"
   ]
  },
  {
   "cell_type": "markdown",
   "metadata": {},
   "source": [
    "## Rezultate și vizualizare\n",
    "\n",
    "Rezultatele sunt reprezentate grafic folosind librăria Plotly.\n",
    "Primul grafic figurează modul în care gripa se modifică în fiecare zi, începând din luna noiembrie, până în ultima zi din martie.\n",
    "\n",
    "Acest grafic ajută la înțelegerea modului în care gripa se răspândește în oraș.\n"
   ]
  },
  {
   "cell_type": "code",
   "execution_count": 130,
   "metadata": {},
   "outputs": [
    {
     "data": {
      "application/vnd.plotly.v1+json": {
       "config": {
        "plotlyServerURL": "https://plot.ly"
       },
       "data": [
        {
         "line": {
          "color": "MediumPurple",
          "width": 2
         },
         "mode": "lines",
         "name": "Numar infectati in perioda noiembrie - martie",
         "type": "scatter",
         "x": [
          0,
          1,
          2,
          3,
          4,
          5,
          6,
          7,
          8,
          9,
          10,
          11,
          12,
          13,
          14,
          15,
          16,
          17,
          18,
          19,
          20,
          21,
          22,
          23,
          24,
          25,
          26,
          27,
          28,
          29,
          30,
          31,
          32,
          33,
          34,
          35,
          36,
          37,
          38,
          39,
          40,
          41,
          42,
          43,
          44,
          45,
          46,
          47,
          48,
          49,
          50,
          51,
          52,
          53,
          54,
          55,
          56,
          57,
          58,
          59,
          60,
          61,
          62,
          63,
          64,
          65,
          66,
          67,
          68,
          69,
          70,
          71,
          72,
          73,
          74,
          75,
          76,
          77,
          78,
          79,
          80,
          81,
          82,
          83,
          84,
          85,
          86,
          87,
          88,
          89,
          90,
          91,
          92,
          93,
          94,
          95,
          96,
          97,
          98,
          99,
          100,
          101,
          102,
          103,
          104,
          105,
          106,
          107,
          108,
          109,
          110,
          111,
          112,
          113,
          114,
          115,
          116,
          117,
          118,
          119,
          120,
          121,
          122,
          123,
          124,
          125,
          126,
          127,
          128,
          129,
          130,
          131,
          132,
          133,
          134,
          135,
          136,
          137,
          138,
          139,
          140,
          141,
          142,
          143,
          144,
          145,
          146,
          147,
          148,
          149
         ],
         "y": [
          391,
          425,
          386,
          343,
          366,
          334,
          317,
          290,
          307,
          296,
          312,
          311,
          292,
          299,
          306,
          303,
          316,
          333,
          294,
          301,
          329,
          327,
          308,
          301,
          320,
          298,
          307,
          312,
          319,
          327,
          308,
          298,
          310,
          324,
          300,
          290,
          335,
          311,
          301,
          293,
          288,
          314,
          352,
          283,
          299,
          294,
          313,
          310,
          319,
          288,
          287,
          340,
          301,
          295,
          300,
          312,
          289,
          274,
          308,
          311,
          321,
          307,
          305,
          314,
          306,
          310,
          315,
          288,
          300,
          297,
          259,
          279,
          308,
          286,
          271,
          298,
          335,
          306,
          332,
          313,
          301,
          272,
          331,
          313,
          320,
          298,
          322,
          347,
          320,
          283,
          289,
          325,
          303,
          311,
          308,
          317,
          329,
          280,
          303,
          282,
          304,
          321,
          318,
          315,
          322,
          323,
          327,
          321,
          274,
          286,
          282,
          321,
          293,
          311,
          282,
          330,
          329,
          293,
          306,
          325,
          351,
          330,
          302,
          293,
          294,
          308,
          304,
          320,
          323,
          316,
          313,
          304,
          340,
          326,
          270,
          322,
          309,
          301,
          330,
          295,
          306,
          327,
          304,
          318,
          294,
          322,
          294,
          304,
          319,
          320
         ]
        }
       ],
       "layout": {
        "font": {
         "color": "white",
         "family": "system-ui",
         "size": 14
        },
        "paper_bgcolor": "rgba(0,0,0,0)",
        "plot_bgcolor": "Gainsboro",
        "template": {
         "data": {
          "bar": [
           {
            "error_x": {
             "color": "#2a3f5f"
            },
            "error_y": {
             "color": "#2a3f5f"
            },
            "marker": {
             "line": {
              "color": "#E5ECF6",
              "width": 0.5
             },
             "pattern": {
              "fillmode": "overlay",
              "size": 10,
              "solidity": 0.2
             }
            },
            "type": "bar"
           }
          ],
          "barpolar": [
           {
            "marker": {
             "line": {
              "color": "#E5ECF6",
              "width": 0.5
             },
             "pattern": {
              "fillmode": "overlay",
              "size": 10,
              "solidity": 0.2
             }
            },
            "type": "barpolar"
           }
          ],
          "carpet": [
           {
            "aaxis": {
             "endlinecolor": "#2a3f5f",
             "gridcolor": "white",
             "linecolor": "white",
             "minorgridcolor": "white",
             "startlinecolor": "#2a3f5f"
            },
            "baxis": {
             "endlinecolor": "#2a3f5f",
             "gridcolor": "white",
             "linecolor": "white",
             "minorgridcolor": "white",
             "startlinecolor": "#2a3f5f"
            },
            "type": "carpet"
           }
          ],
          "choropleth": [
           {
            "colorbar": {
             "outlinewidth": 0,
             "ticks": ""
            },
            "type": "choropleth"
           }
          ],
          "contour": [
           {
            "colorbar": {
             "outlinewidth": 0,
             "ticks": ""
            },
            "colorscale": [
             [
              0,
              "#0d0887"
             ],
             [
              0.1111111111111111,
              "#46039f"
             ],
             [
              0.2222222222222222,
              "#7201a8"
             ],
             [
              0.3333333333333333,
              "#9c179e"
             ],
             [
              0.4444444444444444,
              "#bd3786"
             ],
             [
              0.5555555555555556,
              "#d8576b"
             ],
             [
              0.6666666666666666,
              "#ed7953"
             ],
             [
              0.7777777777777778,
              "#fb9f3a"
             ],
             [
              0.8888888888888888,
              "#fdca26"
             ],
             [
              1,
              "#f0f921"
             ]
            ],
            "type": "contour"
           }
          ],
          "contourcarpet": [
           {
            "colorbar": {
             "outlinewidth": 0,
             "ticks": ""
            },
            "type": "contourcarpet"
           }
          ],
          "heatmap": [
           {
            "colorbar": {
             "outlinewidth": 0,
             "ticks": ""
            },
            "colorscale": [
             [
              0,
              "#0d0887"
             ],
             [
              0.1111111111111111,
              "#46039f"
             ],
             [
              0.2222222222222222,
              "#7201a8"
             ],
             [
              0.3333333333333333,
              "#9c179e"
             ],
             [
              0.4444444444444444,
              "#bd3786"
             ],
             [
              0.5555555555555556,
              "#d8576b"
             ],
             [
              0.6666666666666666,
              "#ed7953"
             ],
             [
              0.7777777777777778,
              "#fb9f3a"
             ],
             [
              0.8888888888888888,
              "#fdca26"
             ],
             [
              1,
              "#f0f921"
             ]
            ],
            "type": "heatmap"
           }
          ],
          "heatmapgl": [
           {
            "colorbar": {
             "outlinewidth": 0,
             "ticks": ""
            },
            "colorscale": [
             [
              0,
              "#0d0887"
             ],
             [
              0.1111111111111111,
              "#46039f"
             ],
             [
              0.2222222222222222,
              "#7201a8"
             ],
             [
              0.3333333333333333,
              "#9c179e"
             ],
             [
              0.4444444444444444,
              "#bd3786"
             ],
             [
              0.5555555555555556,
              "#d8576b"
             ],
             [
              0.6666666666666666,
              "#ed7953"
             ],
             [
              0.7777777777777778,
              "#fb9f3a"
             ],
             [
              0.8888888888888888,
              "#fdca26"
             ],
             [
              1,
              "#f0f921"
             ]
            ],
            "type": "heatmapgl"
           }
          ],
          "histogram": [
           {
            "marker": {
             "pattern": {
              "fillmode": "overlay",
              "size": 10,
              "solidity": 0.2
             }
            },
            "type": "histogram"
           }
          ],
          "histogram2d": [
           {
            "colorbar": {
             "outlinewidth": 0,
             "ticks": ""
            },
            "colorscale": [
             [
              0,
              "#0d0887"
             ],
             [
              0.1111111111111111,
              "#46039f"
             ],
             [
              0.2222222222222222,
              "#7201a8"
             ],
             [
              0.3333333333333333,
              "#9c179e"
             ],
             [
              0.4444444444444444,
              "#bd3786"
             ],
             [
              0.5555555555555556,
              "#d8576b"
             ],
             [
              0.6666666666666666,
              "#ed7953"
             ],
             [
              0.7777777777777778,
              "#fb9f3a"
             ],
             [
              0.8888888888888888,
              "#fdca26"
             ],
             [
              1,
              "#f0f921"
             ]
            ],
            "type": "histogram2d"
           }
          ],
          "histogram2dcontour": [
           {
            "colorbar": {
             "outlinewidth": 0,
             "ticks": ""
            },
            "colorscale": [
             [
              0,
              "#0d0887"
             ],
             [
              0.1111111111111111,
              "#46039f"
             ],
             [
              0.2222222222222222,
              "#7201a8"
             ],
             [
              0.3333333333333333,
              "#9c179e"
             ],
             [
              0.4444444444444444,
              "#bd3786"
             ],
             [
              0.5555555555555556,
              "#d8576b"
             ],
             [
              0.6666666666666666,
              "#ed7953"
             ],
             [
              0.7777777777777778,
              "#fb9f3a"
             ],
             [
              0.8888888888888888,
              "#fdca26"
             ],
             [
              1,
              "#f0f921"
             ]
            ],
            "type": "histogram2dcontour"
           }
          ],
          "mesh3d": [
           {
            "colorbar": {
             "outlinewidth": 0,
             "ticks": ""
            },
            "type": "mesh3d"
           }
          ],
          "parcoords": [
           {
            "line": {
             "colorbar": {
              "outlinewidth": 0,
              "ticks": ""
             }
            },
            "type": "parcoords"
           }
          ],
          "pie": [
           {
            "automargin": true,
            "type": "pie"
           }
          ],
          "scatter": [
           {
            "fillpattern": {
             "fillmode": "overlay",
             "size": 10,
             "solidity": 0.2
            },
            "type": "scatter"
           }
          ],
          "scatter3d": [
           {
            "line": {
             "colorbar": {
              "outlinewidth": 0,
              "ticks": ""
             }
            },
            "marker": {
             "colorbar": {
              "outlinewidth": 0,
              "ticks": ""
             }
            },
            "type": "scatter3d"
           }
          ],
          "scattercarpet": [
           {
            "marker": {
             "colorbar": {
              "outlinewidth": 0,
              "ticks": ""
             }
            },
            "type": "scattercarpet"
           }
          ],
          "scattergeo": [
           {
            "marker": {
             "colorbar": {
              "outlinewidth": 0,
              "ticks": ""
             }
            },
            "type": "scattergeo"
           }
          ],
          "scattergl": [
           {
            "marker": {
             "colorbar": {
              "outlinewidth": 0,
              "ticks": ""
             }
            },
            "type": "scattergl"
           }
          ],
          "scattermapbox": [
           {
            "marker": {
             "colorbar": {
              "outlinewidth": 0,
              "ticks": ""
             }
            },
            "type": "scattermapbox"
           }
          ],
          "scatterpolar": [
           {
            "marker": {
             "colorbar": {
              "outlinewidth": 0,
              "ticks": ""
             }
            },
            "type": "scatterpolar"
           }
          ],
          "scatterpolargl": [
           {
            "marker": {
             "colorbar": {
              "outlinewidth": 0,
              "ticks": ""
             }
            },
            "type": "scatterpolargl"
           }
          ],
          "scatterternary": [
           {
            "marker": {
             "colorbar": {
              "outlinewidth": 0,
              "ticks": ""
             }
            },
            "type": "scatterternary"
           }
          ],
          "surface": [
           {
            "colorbar": {
             "outlinewidth": 0,
             "ticks": ""
            },
            "colorscale": [
             [
              0,
              "#0d0887"
             ],
             [
              0.1111111111111111,
              "#46039f"
             ],
             [
              0.2222222222222222,
              "#7201a8"
             ],
             [
              0.3333333333333333,
              "#9c179e"
             ],
             [
              0.4444444444444444,
              "#bd3786"
             ],
             [
              0.5555555555555556,
              "#d8576b"
             ],
             [
              0.6666666666666666,
              "#ed7953"
             ],
             [
              0.7777777777777778,
              "#fb9f3a"
             ],
             [
              0.8888888888888888,
              "#fdca26"
             ],
             [
              1,
              "#f0f921"
             ]
            ],
            "type": "surface"
           }
          ],
          "table": [
           {
            "cells": {
             "fill": {
              "color": "#EBF0F8"
             },
             "line": {
              "color": "white"
             }
            },
            "header": {
             "fill": {
              "color": "#C8D4E3"
             },
             "line": {
              "color": "white"
             }
            },
            "type": "table"
           }
          ]
         },
         "layout": {
          "annotationdefaults": {
           "arrowcolor": "#2a3f5f",
           "arrowhead": 0,
           "arrowwidth": 1
          },
          "autotypenumbers": "strict",
          "coloraxis": {
           "colorbar": {
            "outlinewidth": 0,
            "ticks": ""
           }
          },
          "colorscale": {
           "diverging": [
            [
             0,
             "#8e0152"
            ],
            [
             0.1,
             "#c51b7d"
            ],
            [
             0.2,
             "#de77ae"
            ],
            [
             0.3,
             "#f1b6da"
            ],
            [
             0.4,
             "#fde0ef"
            ],
            [
             0.5,
             "#f7f7f7"
            ],
            [
             0.6,
             "#e6f5d0"
            ],
            [
             0.7,
             "#b8e186"
            ],
            [
             0.8,
             "#7fbc41"
            ],
            [
             0.9,
             "#4d9221"
            ],
            [
             1,
             "#276419"
            ]
           ],
           "sequential": [
            [
             0,
             "#0d0887"
            ],
            [
             0.1111111111111111,
             "#46039f"
            ],
            [
             0.2222222222222222,
             "#7201a8"
            ],
            [
             0.3333333333333333,
             "#9c179e"
            ],
            [
             0.4444444444444444,
             "#bd3786"
            ],
            [
             0.5555555555555556,
             "#d8576b"
            ],
            [
             0.6666666666666666,
             "#ed7953"
            ],
            [
             0.7777777777777778,
             "#fb9f3a"
            ],
            [
             0.8888888888888888,
             "#fdca26"
            ],
            [
             1,
             "#f0f921"
            ]
           ],
           "sequentialminus": [
            [
             0,
             "#0d0887"
            ],
            [
             0.1111111111111111,
             "#46039f"
            ],
            [
             0.2222222222222222,
             "#7201a8"
            ],
            [
             0.3333333333333333,
             "#9c179e"
            ],
            [
             0.4444444444444444,
             "#bd3786"
            ],
            [
             0.5555555555555556,
             "#d8576b"
            ],
            [
             0.6666666666666666,
             "#ed7953"
            ],
            [
             0.7777777777777778,
             "#fb9f3a"
            ],
            [
             0.8888888888888888,
             "#fdca26"
            ],
            [
             1,
             "#f0f921"
            ]
           ]
          },
          "colorway": [
           "#636efa",
           "#EF553B",
           "#00cc96",
           "#ab63fa",
           "#FFA15A",
           "#19d3f3",
           "#FF6692",
           "#B6E880",
           "#FF97FF",
           "#FECB52"
          ],
          "font": {
           "color": "#2a3f5f"
          },
          "geo": {
           "bgcolor": "white",
           "lakecolor": "white",
           "landcolor": "#E5ECF6",
           "showlakes": true,
           "showland": true,
           "subunitcolor": "white"
          },
          "hoverlabel": {
           "align": "left"
          },
          "hovermode": "closest",
          "mapbox": {
           "style": "light"
          },
          "paper_bgcolor": "white",
          "plot_bgcolor": "#E5ECF6",
          "polar": {
           "angularaxis": {
            "gridcolor": "white",
            "linecolor": "white",
            "ticks": ""
           },
           "bgcolor": "#E5ECF6",
           "radialaxis": {
            "gridcolor": "white",
            "linecolor": "white",
            "ticks": ""
           }
          },
          "scene": {
           "xaxis": {
            "backgroundcolor": "#E5ECF6",
            "gridcolor": "white",
            "gridwidth": 2,
            "linecolor": "white",
            "showbackground": true,
            "ticks": "",
            "zerolinecolor": "white"
           },
           "yaxis": {
            "backgroundcolor": "#E5ECF6",
            "gridcolor": "white",
            "gridwidth": 2,
            "linecolor": "white",
            "showbackground": true,
            "ticks": "",
            "zerolinecolor": "white"
           },
           "zaxis": {
            "backgroundcolor": "#E5ECF6",
            "gridcolor": "white",
            "gridwidth": 2,
            "linecolor": "white",
            "showbackground": true,
            "ticks": "",
            "zerolinecolor": "white"
           }
          },
          "shapedefaults": {
           "line": {
            "color": "#2a3f5f"
           }
          },
          "ternary": {
           "aaxis": {
            "gridcolor": "white",
            "linecolor": "white",
            "ticks": ""
           },
           "baxis": {
            "gridcolor": "white",
            "linecolor": "white",
            "ticks": ""
           },
           "bgcolor": "#E5ECF6",
           "caxis": {
            "gridcolor": "white",
            "linecolor": "white",
            "ticks": ""
           }
          },
          "title": {
           "x": 0.05
          },
          "xaxis": {
           "automargin": true,
           "gridcolor": "white",
           "linecolor": "white",
           "ticks": "",
           "title": {
            "standoff": 15
           },
           "zerolinecolor": "white",
           "zerolinewidth": 2
          },
          "yaxis": {
           "automargin": true,
           "gridcolor": "white",
           "linecolor": "white",
           "ticks": "",
           "title": {
            "standoff": 15
           },
           "zerolinecolor": "white",
           "zerolinewidth": 2
          }
         }
        },
        "title": {
         "text": "Evoluția gripei în București (noiembrie - martie)",
         "x": 0.5
        },
        "xaxis": {
         "ticktext": [
          "Nov",
          "Dec",
          "Jan",
          "Feb",
          "Mar"
         ],
         "tickvals": [
          1,
          31,
          62,
          93,
          121
         ],
         "title": {
          "text": "Zile"
         }
        },
        "yaxis": {
         "title": {
          "text": "Nr persoane infectate"
         }
        }
       }
      }
     },
     "metadata": {},
     "output_type": "display_data"
    }
   ],
   "source": [
    "# plotarea rezultatelor \n",
    "zile_pe_luna = [30, 31, 31, 28, 31]\n",
    "luni = ['Nov', 'Dec', 'Jan', 'Feb', 'Mar'] \n",
    "pozitie_luna = [1] + [sum(zile_pe_luna[:i]) + 1 for i in range(1, len(zile_pe_luna))]\n",
    "\n",
    "# for i, luna in enumerate(luni):\n",
    "#     print(f\"1st {luna} is on day {pozitie_luna[i]}\")\n",
    "\n",
    "fig = go.Figure()\n",
    "\n",
    "fig.add_trace(go.Scatter(\n",
    "    x=np.arange(simulare_zile), \n",
    "    y=nr_infectati_pe_zi, \n",
    "    mode='lines', \n",
    "    name='Numar infectati in perioda noiembrie - martie', \n",
    "    line=dict(color='MediumPurple', width=2)))\n",
    "\n",
    "fig.update_layout(title=dict(text='Evoluția gripei în București (noiembrie - martie)', x=0.5),\n",
    "                   xaxis=dict(title='Zile', tickvals=pozitie_luna, ticktext=luni),\n",
    "                   yaxis_title='Nr persoane infectate',\n",
    "                   paper_bgcolor='rgba(0,0,0,0)',\n",
    "                   font=dict(family='system-ui', size=14, color='white'),\n",
    "                   plot_bgcolor='Gainsboro')\n",
    "fig.show()"
   ]
  },
  {
   "cell_type": "markdown",
   "metadata": {},
   "source": [
    "# Simularea răspândirii gripei în sectoarele Bucureștiului\n",
    "\n",
    "Simularea modelează răspândirea gripei în București, împărțit pe 6 sectoare, pentru o perioadă de 150 de zile.\n",
    "\n",
    "1. **Populația și Probabilitatea de Infectare**: Fiecare sector are o populație simulată și o probabilitate de infectare aleatorie între 3% și 5%.\n",
    "   \n",
    "2. **Zile de Recuperare și Contorizarea Infecțiilor**: Inițial, toți sunt sănătoși. `nr_zile_refacere_sectoare` contorizează zilele de recuperare, iar `nr_infectati_pe_zi_sectoare` stochează zilnic numărul de infectați pe sector.\n",
    "\n",
    "3. **Simularea Infecțiilor**: \n",
    "   - În fiecare zi, pentru fiecare sector, persoanele susceptibile au o șansă de infectare.\n",
    "   - Persoanele infectate primesc zile de recuperare între 7 și 10 zile.\n",
    "   \n",
    "4. **Actualizarea Stării**: Zilele de recuperare scad zilnic pentru cei infectați, iar la final se afișează numărul zilnic de infectați pe sector.\n",
    "\n",
    "Acest model oferă o imagine a răspândirii gripei pe durata simulării în funcție de populația și probabilitatea sectorială.\n"
   ]
  },
  {
   "cell_type": "code",
   "execution_count": 131,
   "metadata": {},
   "outputs": [
    {
     "name": "stdout",
     "output_type": "stream",
     "text": [
      "Nr infectati pe zi in sectorul 1: [46, 48, 48, 55, 36, 31, 47, 40, 26, 36, 35, 36, 32, 38, 39, 36, 34, 46, 26, 45, 38, 30, 44, 50, 37, 34, 25, 27, 38, 38, 40, 41, 32, 41, 34, 23, 35, 43, 40, 37, 42, 48, 28, 36, 36, 32, 38, 38, 29, 40, 41, 33, 31, 36, 36, 42, 42, 43, 25, 42, 38, 40, 31, 31, 31, 38, 35, 39, 44, 39, 30, 39, 38, 34, 37, 28, 43, 41, 26, 36, 31, 34, 44, 29, 31, 37, 35, 39, 47, 36, 38, 35, 31, 41, 26, 35, 35, 38, 32, 38, 34, 44, 48, 41, 35, 30, 34, 44, 34, 36, 39, 37, 26, 41, 33, 28, 44, 38, 39, 30, 42, 29, 37, 35, 44, 36, 42, 33, 30, 32, 39, 40, 29, 34, 41, 31, 41, 34, 33, 36, 29, 42, 37, 41, 26, 38, 43, 34, 33, 39]\n",
      "\n",
      "Nr infectati pe zi in sectorul 2: [81, 83, 71, 61, 45, 68, 73, 63, 57, 59, 56, 54, 64, 66, 65, 61, 64, 65, 60, 66, 51, 57, 64, 63, 69, 61, 68, 71, 58, 71, 58, 54, 58, 69, 65, 64, 60, 55, 59, 64, 60, 48, 55, 50, 58, 62, 72, 64, 64, 62, 69, 67, 60, 63, 50, 53, 53, 60, 88, 49, 56, 53, 64, 57, 60, 61, 59, 59, 57, 58, 64, 64, 76, 67, 49, 57, 65, 64, 65, 62, 54, 58, 48, 62, 62, 71, 45, 49, 68, 68, 54, 65, 55, 74, 67, 51, 66, 69, 59, 70, 47, 51, 68, 62, 63, 52, 61, 58, 59, 61, 66, 51, 60, 65, 66, 51, 66, 57, 59, 61, 67, 70, 68, 52, 56, 62, 51, 51, 76, 58, 63, 65, 64, 63, 54, 47, 50, 71, 52, 60, 72, 63, 56, 68, 53, 64, 53, 54, 54, 56]\n",
      "\n",
      "Nr infectati pe zi in sectorul 3: [68, 77, 66, 62, 40, 74, 57, 51, 46, 79, 65, 55, 55, 40, 54, 59, 61, 45, 57, 62, 57, 51, 46, 63, 50, 62, 48, 50, 70, 51, 48, 44, 47, 61, 62, 46, 46, 56, 58, 64, 56, 63, 56, 53, 51, 54, 52, 59, 56, 60, 50, 53, 57, 50, 60, 44, 64, 53, 45, 58, 67, 52, 55, 66, 54, 57, 46, 64, 55, 62, 58, 62, 59, 57, 59, 57, 56, 61, 50, 63, 56, 45, 47, 53, 58, 61, 59, 58, 55, 53, 65, 56, 66, 60, 57, 65, 56, 43, 55, 46, 50, 50, 61, 61, 53, 65, 52, 58, 57, 58, 56, 54, 65, 54, 46, 69, 60, 60, 66, 48, 70, 59, 40, 55, 47, 50, 69, 65, 60, 61, 68, 46, 55, 50, 49, 45, 53, 55, 63, 58, 66, 54, 55, 54, 70, 52, 63, 56, 64, 43]\n",
      "\n",
      "Nr infectati pe zi in sectorul 4: [51, 54, 48, 46, 49, 49, 55, 45, 47, 63, 50, 46, 44, 42, 39, 42, 41, 42, 34, 52, 48, 55, 45, 49, 50, 48, 45, 42, 38, 48, 41, 36, 43, 44, 40, 45, 49, 58, 32, 68, 46, 42, 39, 51, 46, 39, 36, 51, 45, 53, 46, 50, 42, 65, 39, 47, 38, 48, 43, 48, 37, 44, 36, 46, 52, 34, 45, 47, 45, 44, 40, 46, 50, 47, 47, 54, 48, 41, 42, 49, 44, 37, 37, 45, 45, 35, 51, 53, 42, 50, 43, 40, 35, 40, 49, 61, 47, 57, 47, 41, 40, 38, 49, 43, 55, 41, 47, 50, 40, 36, 48, 42, 42, 53, 39, 47, 58, 43, 36, 38, 42, 43, 29, 56, 42, 50, 41, 47, 53, 38, 63, 50, 52, 50, 40, 40, 43, 43, 55, 34, 51, 46, 41, 39, 42, 56, 42, 50, 33, 64]\n",
      "\n",
      "Nr infectati pe zi in sectorul 5: [60, 66, 50, 47, 61, 37, 40, 44, 48, 44, 42, 38, 40, 54, 53, 39, 43, 56, 34, 43, 42, 45, 33, 52, 53, 44, 43, 51, 39, 53, 32, 35, 42, 38, 34, 54, 47, 39, 39, 43, 39, 35, 37, 41, 46, 50, 43, 32, 42, 56, 44, 43, 42, 46, 42, 41, 37, 58, 42, 45, 35, 43, 49, 53, 60, 41, 50, 39, 49, 43, 53, 61, 42, 42, 45, 32, 33, 36, 45, 62, 43, 43, 38, 37, 47, 56, 40, 36, 43, 47, 41, 46, 39, 52, 35, 54, 49, 45, 45, 39, 43, 41, 48, 48, 50, 50, 55, 30, 51, 37, 37, 37, 33, 41, 58, 44, 50, 48, 28, 44, 46, 36, 45, 35, 52, 37, 47, 55, 34, 43, 35, 33, 43, 35, 54, 33, 60, 42, 47, 37, 47, 40, 46, 29, 49, 41, 44, 45, 43, 42]\n",
      "\n",
      "Nr infectati pe zi in sectorul 6: [64, 75, 69, 50, 39, 58, 68, 53, 53, 48, 39, 50, 61, 41, 52, 65, 59, 45, 53, 36, 64, 49, 51, 51, 55, 50, 57, 54, 66, 57, 44, 59, 61, 47, 45, 59, 50, 53, 58, 51, 53, 49, 55, 43, 49, 55, 46, 54, 52, 59, 54, 43, 54, 57, 48, 51, 43, 41, 47, 51, 52, 46, 49, 53, 63, 50, 50, 55, 51, 51, 54, 61, 48, 60, 45, 58, 58, 51, 39, 53, 49, 48, 62, 47, 54, 62, 64, 43, 67, 52, 47, 35, 53, 44, 60, 50, 58, 57, 53, 47, 57, 51, 47, 62, 49, 64, 40, 51, 48, 46, 46, 54, 44, 53, 59, 45, 60, 55, 60, 60, 63, 54, 59, 56, 57, 56, 57, 53, 52, 55, 49, 47, 48, 61, 60, 48, 61, 48, 46, 48, 72, 57, 56, 54, 50, 50, 61, 49, 51, 46]\n",
      "\n"
     ]
    }
   ],
   "source": [
    "# simularea raspandirii gripei in sectoarele Bucurestiului \n",
    "populatie_simulata_sectoare = np.array([1192, 1745, 2244, 1546, 1422, 1849])  # simularea populatiei din fiecare sector\n",
    "prob_infectare_sectoare = np.random.uniform(0.03, 0.05, nr_sectoare)          # probabilitatea de infectare pentru fiecare sector\n",
    "\n",
    "nr_zile_refacere_sectoare = [np.zeros(pop, dtype=int) for pop in populatie_simulata_sectoare] \n",
    "nr_infectati_pe_zi_sectoare = [[] for _ in range(nr_sectoare)]\n",
    "\n",
    "for zi in range(simulare_zile):\n",
    "    for s in range(nr_sectoare): # pentru fiecare sector\n",
    "        posibil_infectati = nr_zile_refacere_sectoare[s] == 0 \n",
    "        sansa_infectare = np.random.rand(populatie_simulata_sectoare[s])      # determinam persoanele care pot fi infectate in sectorul respectiv\n",
    "\n",
    "        # daca sansa de infectare este mai mica decat probabilitatea de infectare, atunci persoana devine infectata\n",
    "        infectati = posibil_infectati & (sansa_infectare < prob_infectare_sectoare[s])\n",
    "        nr_infectati_pe_zi_sectoare[s].append(np.sum(infectati))\n",
    "\n",
    "        # setarea zilelor de refacere pentru persoanele infectate (intre 7-10 zile)\n",
    "        nr_zile_refacere_sectoare[s][infectati] = np.random.randint(7, 11, size=np.sum(infectati))\n",
    "\n",
    "        # decrementarea zilelor de refacere pentru persoanele care sunt inca infectate\n",
    "        nr_zile_refacere_sectoare[s][nr_zile_refacere_sectoare[s] > 0] -= 1\n",
    "\n",
    "# nr de persoane infectate in fiecare sector, in fiecare zi\n",
    "for s in range(nr_sectoare):\n",
    "    print(f\"Nr infectati pe zi in sectorul {s+1}: {nr_infectati_pe_zi_sectoare[s]}\\n\")\n"
   ]
  },
  {
   "cell_type": "markdown",
   "metadata": {},
   "source": [
    "## Rezultate și Vizualizare\n",
    "\n",
    "Acest cod estimează și vizualizează rata de infectare cu gripă în fiecare sector al Bucureștiului utilizând o hartă coropletică."
   ]
  },
  {
   "cell_type": "code",
   "execution_count": 132,
   "metadata": {},
   "outputs": [
    {
     "name": "stdout",
     "output_type": "stream",
     "text": [
      "     Sector  Infection Rate\n",
      "0  Sector 1        4.605705\n",
      "1  Sector 2        5.236103\n",
      "2  Sector 3        3.769608\n",
      "3  Sector 4        4.417853\n",
      "4  Sector 5        4.637131\n",
      "5  Sector 6        4.292591\n"
     ]
    },
    {
     "data": {
      "application/vnd.plotly.v1+json": {
       "config": {
        "plotlyServerURL": "https://plot.ly"
       },
       "data": [
        {
         "coloraxis": "coloraxis",
         "featureidkey": "properties.tags.name",
         "geo": "geo",
         "geojson": "/Users/alexandrazamfirescu/Flu_Spread_Simulation/BucurestiSectoare.geo.json",
         "hovertemplate": "Sector=%{location}<br>Infection Rate=%{z}<extra></extra>",
         "locations": [
          "Sector 1",
          "Sector 2",
          "Sector 3",
          "Sector 4",
          "Sector 5",
          "Sector 6"
         ],
         "name": "",
         "type": "choropleth",
         "z": [
          4.605704697986577,
          5.236103151862464,
          3.769607843137255,
          4.417852522639069,
          4.637130801687764,
          4.292590589507842
         ]
        }
       ],
       "layout": {
        "coloraxis": {
         "colorbar": {
          "title": {
           "text": "Infection Rate"
          }
         },
         "colorscale": [
          [
           0,
           "#30123b"
          ],
          [
           0.07142857142857142,
           "#4145ab"
          ],
          [
           0.14285714285714285,
           "#4675ed"
          ],
          [
           0.21428571428571427,
           "#39a2fc"
          ],
          [
           0.2857142857142857,
           "#1bcfd4"
          ],
          [
           0.35714285714285715,
           "#24eca6"
          ],
          [
           0.42857142857142855,
           "#61fc6c"
          ],
          [
           0.5,
           "#a4fc3b"
          ],
          [
           0.5714285714285714,
           "#d1e834"
          ],
          [
           0.6428571428571429,
           "#f3c63a"
          ],
          [
           0.7142857142857143,
           "#fe9b2d"
          ],
          [
           0.7857142857142857,
           "#f36315"
          ],
          [
           0.8571428571428571,
           "#d93806"
          ],
          [
           0.9285714285714286,
           "#b11901"
          ],
          [
           1,
           "#7a0402"
          ]
         ]
        },
        "geo": {
         "center": {},
         "domain": {
          "x": [
           0,
           1
          ],
          "y": [
           0,
           1
          ]
         },
         "fitbounds": "locations",
         "projection": {
          "type": "mercator"
         },
         "visible": false
        },
        "legend": {
         "tracegroupgap": 0
        },
        "margin": {
         "b": 0,
         "l": 0,
         "r": 0,
         "t": 40
        },
        "template": {
         "data": {
          "bar": [
           {
            "error_x": {
             "color": "#2a3f5f"
            },
            "error_y": {
             "color": "#2a3f5f"
            },
            "marker": {
             "line": {
              "color": "#E5ECF6",
              "width": 0.5
             },
             "pattern": {
              "fillmode": "overlay",
              "size": 10,
              "solidity": 0.2
             }
            },
            "type": "bar"
           }
          ],
          "barpolar": [
           {
            "marker": {
             "line": {
              "color": "#E5ECF6",
              "width": 0.5
             },
             "pattern": {
              "fillmode": "overlay",
              "size": 10,
              "solidity": 0.2
             }
            },
            "type": "barpolar"
           }
          ],
          "carpet": [
           {
            "aaxis": {
             "endlinecolor": "#2a3f5f",
             "gridcolor": "white",
             "linecolor": "white",
             "minorgridcolor": "white",
             "startlinecolor": "#2a3f5f"
            },
            "baxis": {
             "endlinecolor": "#2a3f5f",
             "gridcolor": "white",
             "linecolor": "white",
             "minorgridcolor": "white",
             "startlinecolor": "#2a3f5f"
            },
            "type": "carpet"
           }
          ],
          "choropleth": [
           {
            "colorbar": {
             "outlinewidth": 0,
             "ticks": ""
            },
            "type": "choropleth"
           }
          ],
          "contour": [
           {
            "colorbar": {
             "outlinewidth": 0,
             "ticks": ""
            },
            "colorscale": [
             [
              0,
              "#0d0887"
             ],
             [
              0.1111111111111111,
              "#46039f"
             ],
             [
              0.2222222222222222,
              "#7201a8"
             ],
             [
              0.3333333333333333,
              "#9c179e"
             ],
             [
              0.4444444444444444,
              "#bd3786"
             ],
             [
              0.5555555555555556,
              "#d8576b"
             ],
             [
              0.6666666666666666,
              "#ed7953"
             ],
             [
              0.7777777777777778,
              "#fb9f3a"
             ],
             [
              0.8888888888888888,
              "#fdca26"
             ],
             [
              1,
              "#f0f921"
             ]
            ],
            "type": "contour"
           }
          ],
          "contourcarpet": [
           {
            "colorbar": {
             "outlinewidth": 0,
             "ticks": ""
            },
            "type": "contourcarpet"
           }
          ],
          "heatmap": [
           {
            "colorbar": {
             "outlinewidth": 0,
             "ticks": ""
            },
            "colorscale": [
             [
              0,
              "#0d0887"
             ],
             [
              0.1111111111111111,
              "#46039f"
             ],
             [
              0.2222222222222222,
              "#7201a8"
             ],
             [
              0.3333333333333333,
              "#9c179e"
             ],
             [
              0.4444444444444444,
              "#bd3786"
             ],
             [
              0.5555555555555556,
              "#d8576b"
             ],
             [
              0.6666666666666666,
              "#ed7953"
             ],
             [
              0.7777777777777778,
              "#fb9f3a"
             ],
             [
              0.8888888888888888,
              "#fdca26"
             ],
             [
              1,
              "#f0f921"
             ]
            ],
            "type": "heatmap"
           }
          ],
          "heatmapgl": [
           {
            "colorbar": {
             "outlinewidth": 0,
             "ticks": ""
            },
            "colorscale": [
             [
              0,
              "#0d0887"
             ],
             [
              0.1111111111111111,
              "#46039f"
             ],
             [
              0.2222222222222222,
              "#7201a8"
             ],
             [
              0.3333333333333333,
              "#9c179e"
             ],
             [
              0.4444444444444444,
              "#bd3786"
             ],
             [
              0.5555555555555556,
              "#d8576b"
             ],
             [
              0.6666666666666666,
              "#ed7953"
             ],
             [
              0.7777777777777778,
              "#fb9f3a"
             ],
             [
              0.8888888888888888,
              "#fdca26"
             ],
             [
              1,
              "#f0f921"
             ]
            ],
            "type": "heatmapgl"
           }
          ],
          "histogram": [
           {
            "marker": {
             "pattern": {
              "fillmode": "overlay",
              "size": 10,
              "solidity": 0.2
             }
            },
            "type": "histogram"
           }
          ],
          "histogram2d": [
           {
            "colorbar": {
             "outlinewidth": 0,
             "ticks": ""
            },
            "colorscale": [
             [
              0,
              "#0d0887"
             ],
             [
              0.1111111111111111,
              "#46039f"
             ],
             [
              0.2222222222222222,
              "#7201a8"
             ],
             [
              0.3333333333333333,
              "#9c179e"
             ],
             [
              0.4444444444444444,
              "#bd3786"
             ],
             [
              0.5555555555555556,
              "#d8576b"
             ],
             [
              0.6666666666666666,
              "#ed7953"
             ],
             [
              0.7777777777777778,
              "#fb9f3a"
             ],
             [
              0.8888888888888888,
              "#fdca26"
             ],
             [
              1,
              "#f0f921"
             ]
            ],
            "type": "histogram2d"
           }
          ],
          "histogram2dcontour": [
           {
            "colorbar": {
             "outlinewidth": 0,
             "ticks": ""
            },
            "colorscale": [
             [
              0,
              "#0d0887"
             ],
             [
              0.1111111111111111,
              "#46039f"
             ],
             [
              0.2222222222222222,
              "#7201a8"
             ],
             [
              0.3333333333333333,
              "#9c179e"
             ],
             [
              0.4444444444444444,
              "#bd3786"
             ],
             [
              0.5555555555555556,
              "#d8576b"
             ],
             [
              0.6666666666666666,
              "#ed7953"
             ],
             [
              0.7777777777777778,
              "#fb9f3a"
             ],
             [
              0.8888888888888888,
              "#fdca26"
             ],
             [
              1,
              "#f0f921"
             ]
            ],
            "type": "histogram2dcontour"
           }
          ],
          "mesh3d": [
           {
            "colorbar": {
             "outlinewidth": 0,
             "ticks": ""
            },
            "type": "mesh3d"
           }
          ],
          "parcoords": [
           {
            "line": {
             "colorbar": {
              "outlinewidth": 0,
              "ticks": ""
             }
            },
            "type": "parcoords"
           }
          ],
          "pie": [
           {
            "automargin": true,
            "type": "pie"
           }
          ],
          "scatter": [
           {
            "fillpattern": {
             "fillmode": "overlay",
             "size": 10,
             "solidity": 0.2
            },
            "type": "scatter"
           }
          ],
          "scatter3d": [
           {
            "line": {
             "colorbar": {
              "outlinewidth": 0,
              "ticks": ""
             }
            },
            "marker": {
             "colorbar": {
              "outlinewidth": 0,
              "ticks": ""
             }
            },
            "type": "scatter3d"
           }
          ],
          "scattercarpet": [
           {
            "marker": {
             "colorbar": {
              "outlinewidth": 0,
              "ticks": ""
             }
            },
            "type": "scattercarpet"
           }
          ],
          "scattergeo": [
           {
            "marker": {
             "colorbar": {
              "outlinewidth": 0,
              "ticks": ""
             }
            },
            "type": "scattergeo"
           }
          ],
          "scattergl": [
           {
            "marker": {
             "colorbar": {
              "outlinewidth": 0,
              "ticks": ""
             }
            },
            "type": "scattergl"
           }
          ],
          "scattermapbox": [
           {
            "marker": {
             "colorbar": {
              "outlinewidth": 0,
              "ticks": ""
             }
            },
            "type": "scattermapbox"
           }
          ],
          "scatterpolar": [
           {
            "marker": {
             "colorbar": {
              "outlinewidth": 0,
              "ticks": ""
             }
            },
            "type": "scatterpolar"
           }
          ],
          "scatterpolargl": [
           {
            "marker": {
             "colorbar": {
              "outlinewidth": 0,
              "ticks": ""
             }
            },
            "type": "scatterpolargl"
           }
          ],
          "scatterternary": [
           {
            "marker": {
             "colorbar": {
              "outlinewidth": 0,
              "ticks": ""
             }
            },
            "type": "scatterternary"
           }
          ],
          "surface": [
           {
            "colorbar": {
             "outlinewidth": 0,
             "ticks": ""
            },
            "colorscale": [
             [
              0,
              "#0d0887"
             ],
             [
              0.1111111111111111,
              "#46039f"
             ],
             [
              0.2222222222222222,
              "#7201a8"
             ],
             [
              0.3333333333333333,
              "#9c179e"
             ],
             [
              0.4444444444444444,
              "#bd3786"
             ],
             [
              0.5555555555555556,
              "#d8576b"
             ],
             [
              0.6666666666666666,
              "#ed7953"
             ],
             [
              0.7777777777777778,
              "#fb9f3a"
             ],
             [
              0.8888888888888888,
              "#fdca26"
             ],
             [
              1,
              "#f0f921"
             ]
            ],
            "type": "surface"
           }
          ],
          "table": [
           {
            "cells": {
             "fill": {
              "color": "#EBF0F8"
             },
             "line": {
              "color": "white"
             }
            },
            "header": {
             "fill": {
              "color": "#C8D4E3"
             },
             "line": {
              "color": "white"
             }
            },
            "type": "table"
           }
          ]
         },
         "layout": {
          "annotationdefaults": {
           "arrowcolor": "#2a3f5f",
           "arrowhead": 0,
           "arrowwidth": 1
          },
          "autotypenumbers": "strict",
          "coloraxis": {
           "colorbar": {
            "outlinewidth": 0,
            "ticks": ""
           }
          },
          "colorscale": {
           "diverging": [
            [
             0,
             "#8e0152"
            ],
            [
             0.1,
             "#c51b7d"
            ],
            [
             0.2,
             "#de77ae"
            ],
            [
             0.3,
             "#f1b6da"
            ],
            [
             0.4,
             "#fde0ef"
            ],
            [
             0.5,
             "#f7f7f7"
            ],
            [
             0.6,
             "#e6f5d0"
            ],
            [
             0.7,
             "#b8e186"
            ],
            [
             0.8,
             "#7fbc41"
            ],
            [
             0.9,
             "#4d9221"
            ],
            [
             1,
             "#276419"
            ]
           ],
           "sequential": [
            [
             0,
             "#0d0887"
            ],
            [
             0.1111111111111111,
             "#46039f"
            ],
            [
             0.2222222222222222,
             "#7201a8"
            ],
            [
             0.3333333333333333,
             "#9c179e"
            ],
            [
             0.4444444444444444,
             "#bd3786"
            ],
            [
             0.5555555555555556,
             "#d8576b"
            ],
            [
             0.6666666666666666,
             "#ed7953"
            ],
            [
             0.7777777777777778,
             "#fb9f3a"
            ],
            [
             0.8888888888888888,
             "#fdca26"
            ],
            [
             1,
             "#f0f921"
            ]
           ],
           "sequentialminus": [
            [
             0,
             "#0d0887"
            ],
            [
             0.1111111111111111,
             "#46039f"
            ],
            [
             0.2222222222222222,
             "#7201a8"
            ],
            [
             0.3333333333333333,
             "#9c179e"
            ],
            [
             0.4444444444444444,
             "#bd3786"
            ],
            [
             0.5555555555555556,
             "#d8576b"
            ],
            [
             0.6666666666666666,
             "#ed7953"
            ],
            [
             0.7777777777777778,
             "#fb9f3a"
            ],
            [
             0.8888888888888888,
             "#fdca26"
            ],
            [
             1,
             "#f0f921"
            ]
           ]
          },
          "colorway": [
           "#636efa",
           "#EF553B",
           "#00cc96",
           "#ab63fa",
           "#FFA15A",
           "#19d3f3",
           "#FF6692",
           "#B6E880",
           "#FF97FF",
           "#FECB52"
          ],
          "font": {
           "color": "#2a3f5f"
          },
          "geo": {
           "bgcolor": "white",
           "lakecolor": "white",
           "landcolor": "#E5ECF6",
           "showlakes": true,
           "showland": true,
           "subunitcolor": "white"
          },
          "hoverlabel": {
           "align": "left"
          },
          "hovermode": "closest",
          "mapbox": {
           "style": "light"
          },
          "paper_bgcolor": "white",
          "plot_bgcolor": "#E5ECF6",
          "polar": {
           "angularaxis": {
            "gridcolor": "white",
            "linecolor": "white",
            "ticks": ""
           },
           "bgcolor": "#E5ECF6",
           "radialaxis": {
            "gridcolor": "white",
            "linecolor": "white",
            "ticks": ""
           }
          },
          "scene": {
           "xaxis": {
            "backgroundcolor": "#E5ECF6",
            "gridcolor": "white",
            "gridwidth": 2,
            "linecolor": "white",
            "showbackground": true,
            "ticks": "",
            "zerolinecolor": "white"
           },
           "yaxis": {
            "backgroundcolor": "#E5ECF6",
            "gridcolor": "white",
            "gridwidth": 2,
            "linecolor": "white",
            "showbackground": true,
            "ticks": "",
            "zerolinecolor": "white"
           },
           "zaxis": {
            "backgroundcolor": "#E5ECF6",
            "gridcolor": "white",
            "gridwidth": 2,
            "linecolor": "white",
            "showbackground": true,
            "ticks": "",
            "zerolinecolor": "white"
           }
          },
          "shapedefaults": {
           "line": {
            "color": "#2a3f5f"
           }
          },
          "ternary": {
           "aaxis": {
            "gridcolor": "white",
            "linecolor": "white",
            "ticks": ""
           },
           "baxis": {
            "gridcolor": "white",
            "linecolor": "white",
            "ticks": ""
           },
           "bgcolor": "#E5ECF6",
           "caxis": {
            "gridcolor": "white",
            "linecolor": "white",
            "ticks": ""
           }
          },
          "title": {
           "x": 0.05
          },
          "xaxis": {
           "automargin": true,
           "gridcolor": "white",
           "linecolor": "white",
           "ticks": "",
           "title": {
            "standoff": 15
           },
           "zerolinecolor": "white",
           "zerolinewidth": 2
          },
          "yaxis": {
           "automargin": true,
           "gridcolor": "white",
           "linecolor": "white",
           "ticks": "",
           "title": {
            "standoff": 15
           },
           "zerolinecolor": "white",
           "zerolinewidth": 2
          }
         }
        },
        "title": {
         "text": "Rata de infectare cu gripa in fiecare sector",
         "x": 0.5
        }
       }
      }
     },
     "metadata": {},
     "output_type": "display_data"
    }
   ],
   "source": [
    "# nr total de infectati in fiecare sector, in fiecare zi\n",
    "infectii_pe_sector_toate_zilele = [sum(nr_infectati_pe_zi_sectoare[s]) for s in range(nr_sectoare)]\n",
    "\n",
    "# rata de infectare in fiecare sector \n",
    "infectie_rate_sectoare = [infectii / populatie_simulata_sectoare[s] for s, infectii in enumerate(infectii_pe_sector_toate_zilele)] \n",
    "\n",
    "# label ul pentru fiecare sector asa cum e in GeoJSON\n",
    "label_sector = ['Sector 1', 'Sector 2', 'Sector 3', 'Sector 4', 'Sector 5', 'Sector 6']\n",
    "\n",
    "# dataframe cu rata de infectare pentru fiecare sector\n",
    "data_rate = pd.DataFrame({'Sector': label_sector, 'Infection Rate': infectie_rate_sectoare})\n",
    "print(data_rate)\n",
    "\n",
    "# incarcarea fisierului GeoJSON \n",
    "geojson_fisier = '/Users/alexandrazamfirescu/Flu_Spread_Simulation/BucurestiSectoare.geo.json'\n",
    "\n",
    "with open(geojson_fisier) as f:\n",
    "    geojson = json.load(f)\n",
    "\n",
    "# reprezentare harta coropletica \n",
    "fig = px.choropleth(\n",
    "    data_frame=data_rate,\n",
    "    geojson=geojson_fisier,\n",
    "    locations='Sector',\n",
    "    featureidkey='properties.tags.name', \n",
    "    color='Infection Rate',\n",
    "    color_continuous_scale='Turbo',\n",
    "    labels={'Infection Rate': 'Infection Rate'},\n",
    "    projection='mercator'\n",
    ")\n",
    "\n",
    "fig.update_geos(fitbounds=\"locations\", visible=False)\n",
    "fig.update_layout(\n",
    "    title=dict(text='Rata de infectare cu gripa in fiecare sector', x=0.5),\n",
    "    margin={\"r\":0, \"t\":40, \"l\":0, \"b\":0}\n",
    ")\n",
    "\n",
    "fig.show()\n"
   ]
  },
  {
   "cell_type": "markdown",
   "metadata": {},
   "source": [
    "## Concluzii\n",
    "\n",
    "Această simulare oferă o estimare a răspândirii gripei în București, ținând cont de factori specifici fiecărui sector. Deși modelul este o simplificare, acesta poate fi extins pentru a include alți factori, cum ar fi mobilitatea între sectoare sau intervențiile de sănătate publică. Rezultatele pot fi utilizate pentru a evalua riscurile de epidemie în funcție de parametrii de infectare și recuperare.\n",
    "\n",
    "Prin utilizarea metodei Monte Carlo, simularea captează variabilitatea zilnică a răspândirii gripei și poate fi utilizată pentru predicții și analize epidemiologice în viitor.\n"
   ]
  }
 ],
 "metadata": {
  "kernelspec": {
   "display_name": "tsimulare_env",
   "language": "python",
   "name": "python3"
  },
  "language_info": {
   "codemirror_mode": {
    "name": "ipython",
    "version": 3
   },
   "file_extension": ".py",
   "mimetype": "text/x-python",
   "name": "python",
   "nbconvert_exporter": "python",
   "pygments_lexer": "ipython3",
   "version": "3.11.10"
  }
 },
 "nbformat": 4,
 "nbformat_minor": 2
}
