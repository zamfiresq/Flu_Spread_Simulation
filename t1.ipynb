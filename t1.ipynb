{
 "cells": [
  {
   "cell_type": "markdown",
   "metadata": {},
   "source": [
    "\n",
    "# **Modeling Flu Spread in Bucharest using Monte Carlo Simulation** #\n",
    "\n",
    "\n",
    "##### The aim of this project is to model the spread of the flu in Bucharest using the Monte Carlo method to understand the dynamics of a virus in a crowded city. #####"
   ]
  },
  {
   "cell_type": "code",
   "execution_count": 7,
   "metadata": {},
   "outputs": [],
   "source": [
    "import numpy as np\n",
    "import random\n",
    "import pandas as pd\n",
    "import plotly.express as px\n",
    "import plotly.graph_objects as go\n",
    "import json"
   ]
  },
  {
   "cell_type": "markdown",
   "metadata": {},
   "source": [
    "##### In this simulation model for Bucharest, we used a sample population of 10,000 individuals, with an estimated probability of infection between 3-5% per contact and an average recovery time of 7-10 days. The simulation is carried out over a 90-day period to cover a typical influenza season, allowing to observe the evolution of the spread of infection in a large city. ##### "
   ]
  },
  {
   "cell_type": "code",
   "execution_count": 8,
   "metadata": {},
   "outputs": [],
   "source": [
    "# Parameters for the simulation\n",
    "nr_populatie = 10000\n",
    "prob_infectare = np.random.uniform(0.03, 0.05, nr_populatie)  # Probability of infection per individual\n",
    "nr_zile_refacere = np.zeros(nr_populatie, dtype=int)         \n",
    "simulare_zile = 150                                           # Number of simulation days (1 nov - 31 mar)\n",
    "nr_sectoare = 6\n",
    "nr_simulari = 1000 "
   ]
  },
  {
   "cell_type": "code",
   "execution_count": 13,
   "metadata": {},
   "outputs": [
    {
     "name": "stdout",
     "output_type": "stream",
     "text": [
      "Nr infectati pe zi:  [293, 296, 318, 319, 314, 322, 367, 270, 321, 300, 299, 309, 327, 303, 313, 293, 314, 299, 315, 306, 317, 311, 304, 302, 316, 306, 306, 287, 325, 311, 311, 299, 303, 331, 292, 333, 291, 310, 328, 305, 311, 275, 312, 286, 258, 319, 316, 317, 317, 257, 300, 305, 300, 311, 346, 326, 304, 299, 283, 323, 306, 325, 327, 316, 282, 302, 287, 330, 325, 331, 341, 315, 279, 292, 344, 274, 307, 324, 307, 316, 324, 257, 310, 287, 307, 333, 308, 298, 271, 306, 293, 323, 305, 300, 334, 303, 286, 303, 301, 305, 299, 305, 298, 334, 293, 329, 306, 296, 297, 287, 331, 305, 319, 318, 321, 270, 291, 318, 263, 324, 320, 313, 311, 289, 294, 292, 321, 305, 306, 332, 302, 292, 308, 286, 294, 291, 323, 293, 295, 315, 314, 321, 278, 310, 292, 283, 311, 295, 316, 325]\n",
      "Estimated Probability of Infection: 0.0399\n",
      "\n"
     ]
    }
   ],
   "source": [
    "# Simulation of the spread of the virus in the population every day\n",
    "nr_infectati_pe_zi = []\n",
    "\n",
    "for zi in range(simulare_zile):\n",
    "    posibil_infectati = nr_zile_refacere == 0  # Not currently recovering\n",
    "    sansa_infectare = np.random.rand(nr_populatie) \n",
    "    infectati = posibil_infectati & (sansa_infectare < prob_infectare)  # If random number is less than infection probability\n",
    "    nr_infectati_pe_zi.append(np.sum(infectati))\n",
    "\n",
    "    # Set recovery days for newly infected individuals\n",
    "    nr_zile_refacere[infectati] = np.random.randint(7, 11, size=np.sum(infectati))\n",
    "\n",
    "    # Decrease recovery days for all those recovering\n",
    "    nr_zile_refacere[nr_zile_refacere > 0] -= 1\n",
    "\n",
    "# Display results\n",
    "print(\"Nr infectati pe zi: \", nr_infectati_pe_zi)\n",
    "\n",
    "\n",
    "\n",
    "# Probability Estimation Using Monte Carlo Method\n",
    "infected_count = 0  # Count of favorable outcomes\n",
    "\n",
    "# Run trials for estimating infection probability\n",
    "for _ in range(nr_simulari):\n",
    "    # Simulate each individual's infection status\n",
    "    for i in range(nr_populatie):\n",
    "        random_value = np.random.rand()  # Generate a random number for this individual\n",
    "        if random_value < prob_infectare[i]:  # Compare with individual infection probability\n",
    "            infected_count += 1  # Increment count if infected\n",
    "\n",
    "# Estimate probability\n",
    "estimated_probability = infected_count / (nr_simulari * nr_populatie)  \n",
    "print(f\"Estimated Probability of Infection: {estimated_probability:.4f}\")"
   ]
  },
  {
   "cell_type": "code",
   "execution_count": 10,
   "metadata": {},
   "outputs": [
    {
     "data": {
      "application/vnd.plotly.v1+json": {
       "config": {
        "plotlyServerURL": "https://plot.ly"
       },
       "data": [
        {
         "line": {
          "color": "MediumPurple",
          "width": 2
         },
         "mode": "lines",
         "name": "Numar infectati in perioda noiembrie - martie",
         "type": "scatter",
         "x": [
          0,
          1,
          2,
          3,
          4,
          5,
          6,
          7,
          8,
          9,
          10,
          11,
          12,
          13,
          14,
          15,
          16,
          17,
          18,
          19,
          20,
          21,
          22,
          23,
          24,
          25,
          26,
          27,
          28,
          29,
          30,
          31,
          32,
          33,
          34,
          35,
          36,
          37,
          38,
          39,
          40,
          41,
          42,
          43,
          44,
          45,
          46,
          47,
          48,
          49,
          50,
          51,
          52,
          53,
          54,
          55,
          56,
          57,
          58,
          59,
          60,
          61,
          62,
          63,
          64,
          65,
          66,
          67,
          68,
          69,
          70,
          71,
          72,
          73,
          74,
          75,
          76,
          77,
          78,
          79,
          80,
          81,
          82,
          83,
          84,
          85,
          86,
          87,
          88,
          89,
          90,
          91,
          92,
          93,
          94,
          95,
          96,
          97,
          98,
          99,
          100,
          101,
          102,
          103,
          104,
          105,
          106,
          107,
          108,
          109,
          110,
          111,
          112,
          113,
          114,
          115,
          116,
          117,
          118,
          119,
          120,
          121,
          122,
          123,
          124,
          125,
          126,
          127,
          128,
          129,
          130,
          131,
          132,
          133,
          134,
          135,
          136,
          137,
          138,
          139,
          140,
          141,
          142,
          143,
          144,
          145,
          146,
          147,
          148,
          149
         ],
         "y": [
          395,
          407,
          395,
          346,
          345,
          304,
          300,
          314,
          305,
          307,
          284,
          287,
          320,
          339,
          327,
          315,
          286,
          344,
          304,
          302,
          309,
          318,
          311,
          307,
          271,
          332,
          284,
          295,
          311,
          279,
          332,
          313,
          299,
          311,
          297,
          299,
          283,
          316,
          331,
          305,
          321,
          319,
          301,
          314,
          303,
          300,
          296,
          330,
          308,
          306,
          298,
          320,
          281,
          312,
          340,
          298,
          313,
          325,
          308,
          290,
          323,
          289,
          291,
          291,
          311,
          322,
          353,
          299,
          285,
          318,
          317,
          315,
          280,
          331,
          312,
          292,
          315,
          323,
          311,
          312,
          318,
          299,
          304,
          295,
          283,
          322,
          322,
          308,
          296,
          319,
          291,
          310,
          293,
          289,
          274,
          333,
          308,
          300,
          313,
          329,
          303,
          306,
          298,
          302,
          298,
          284,
          286,
          301,
          289,
          327,
          306,
          331,
          301,
          310,
          310,
          315,
          313,
          314,
          311,
          321,
          296,
          290,
          286,
          322,
          299,
          292,
          347,
          317,
          273,
          300,
          300,
          292,
          290,
          318,
          307,
          274,
          315,
          298,
          306,
          282,
          307,
          291,
          314,
          271,
          321,
          317,
          337,
          321,
          306,
          321
         ]
        }
       ],
       "layout": {
        "font": {
         "color": "white",
         "family": "system-ui",
         "size": 14
        },
        "paper_bgcolor": "rgba(0,0,0,0)",
        "plot_bgcolor": "Gainsboro",
        "template": {
         "data": {
          "bar": [
           {
            "error_x": {
             "color": "#2a3f5f"
            },
            "error_y": {
             "color": "#2a3f5f"
            },
            "marker": {
             "line": {
              "color": "#E5ECF6",
              "width": 0.5
             },
             "pattern": {
              "fillmode": "overlay",
              "size": 10,
              "solidity": 0.2
             }
            },
            "type": "bar"
           }
          ],
          "barpolar": [
           {
            "marker": {
             "line": {
              "color": "#E5ECF6",
              "width": 0.5
             },
             "pattern": {
              "fillmode": "overlay",
              "size": 10,
              "solidity": 0.2
             }
            },
            "type": "barpolar"
           }
          ],
          "carpet": [
           {
            "aaxis": {
             "endlinecolor": "#2a3f5f",
             "gridcolor": "white",
             "linecolor": "white",
             "minorgridcolor": "white",
             "startlinecolor": "#2a3f5f"
            },
            "baxis": {
             "endlinecolor": "#2a3f5f",
             "gridcolor": "white",
             "linecolor": "white",
             "minorgridcolor": "white",
             "startlinecolor": "#2a3f5f"
            },
            "type": "carpet"
           }
          ],
          "choropleth": [
           {
            "colorbar": {
             "outlinewidth": 0,
             "ticks": ""
            },
            "type": "choropleth"
           }
          ],
          "contour": [
           {
            "colorbar": {
             "outlinewidth": 0,
             "ticks": ""
            },
            "colorscale": [
             [
              0,
              "#0d0887"
             ],
             [
              0.1111111111111111,
              "#46039f"
             ],
             [
              0.2222222222222222,
              "#7201a8"
             ],
             [
              0.3333333333333333,
              "#9c179e"
             ],
             [
              0.4444444444444444,
              "#bd3786"
             ],
             [
              0.5555555555555556,
              "#d8576b"
             ],
             [
              0.6666666666666666,
              "#ed7953"
             ],
             [
              0.7777777777777778,
              "#fb9f3a"
             ],
             [
              0.8888888888888888,
              "#fdca26"
             ],
             [
              1,
              "#f0f921"
             ]
            ],
            "type": "contour"
           }
          ],
          "contourcarpet": [
           {
            "colorbar": {
             "outlinewidth": 0,
             "ticks": ""
            },
            "type": "contourcarpet"
           }
          ],
          "heatmap": [
           {
            "colorbar": {
             "outlinewidth": 0,
             "ticks": ""
            },
            "colorscale": [
             [
              0,
              "#0d0887"
             ],
             [
              0.1111111111111111,
              "#46039f"
             ],
             [
              0.2222222222222222,
              "#7201a8"
             ],
             [
              0.3333333333333333,
              "#9c179e"
             ],
             [
              0.4444444444444444,
              "#bd3786"
             ],
             [
              0.5555555555555556,
              "#d8576b"
             ],
             [
              0.6666666666666666,
              "#ed7953"
             ],
             [
              0.7777777777777778,
              "#fb9f3a"
             ],
             [
              0.8888888888888888,
              "#fdca26"
             ],
             [
              1,
              "#f0f921"
             ]
            ],
            "type": "heatmap"
           }
          ],
          "heatmapgl": [
           {
            "colorbar": {
             "outlinewidth": 0,
             "ticks": ""
            },
            "colorscale": [
             [
              0,
              "#0d0887"
             ],
             [
              0.1111111111111111,
              "#46039f"
             ],
             [
              0.2222222222222222,
              "#7201a8"
             ],
             [
              0.3333333333333333,
              "#9c179e"
             ],
             [
              0.4444444444444444,
              "#bd3786"
             ],
             [
              0.5555555555555556,
              "#d8576b"
             ],
             [
              0.6666666666666666,
              "#ed7953"
             ],
             [
              0.7777777777777778,
              "#fb9f3a"
             ],
             [
              0.8888888888888888,
              "#fdca26"
             ],
             [
              1,
              "#f0f921"
             ]
            ],
            "type": "heatmapgl"
           }
          ],
          "histogram": [
           {
            "marker": {
             "pattern": {
              "fillmode": "overlay",
              "size": 10,
              "solidity": 0.2
             }
            },
            "type": "histogram"
           }
          ],
          "histogram2d": [
           {
            "colorbar": {
             "outlinewidth": 0,
             "ticks": ""
            },
            "colorscale": [
             [
              0,
              "#0d0887"
             ],
             [
              0.1111111111111111,
              "#46039f"
             ],
             [
              0.2222222222222222,
              "#7201a8"
             ],
             [
              0.3333333333333333,
              "#9c179e"
             ],
             [
              0.4444444444444444,
              "#bd3786"
             ],
             [
              0.5555555555555556,
              "#d8576b"
             ],
             [
              0.6666666666666666,
              "#ed7953"
             ],
             [
              0.7777777777777778,
              "#fb9f3a"
             ],
             [
              0.8888888888888888,
              "#fdca26"
             ],
             [
              1,
              "#f0f921"
             ]
            ],
            "type": "histogram2d"
           }
          ],
          "histogram2dcontour": [
           {
            "colorbar": {
             "outlinewidth": 0,
             "ticks": ""
            },
            "colorscale": [
             [
              0,
              "#0d0887"
             ],
             [
              0.1111111111111111,
              "#46039f"
             ],
             [
              0.2222222222222222,
              "#7201a8"
             ],
             [
              0.3333333333333333,
              "#9c179e"
             ],
             [
              0.4444444444444444,
              "#bd3786"
             ],
             [
              0.5555555555555556,
              "#d8576b"
             ],
             [
              0.6666666666666666,
              "#ed7953"
             ],
             [
              0.7777777777777778,
              "#fb9f3a"
             ],
             [
              0.8888888888888888,
              "#fdca26"
             ],
             [
              1,
              "#f0f921"
             ]
            ],
            "type": "histogram2dcontour"
           }
          ],
          "mesh3d": [
           {
            "colorbar": {
             "outlinewidth": 0,
             "ticks": ""
            },
            "type": "mesh3d"
           }
          ],
          "parcoords": [
           {
            "line": {
             "colorbar": {
              "outlinewidth": 0,
              "ticks": ""
             }
            },
            "type": "parcoords"
           }
          ],
          "pie": [
           {
            "automargin": true,
            "type": "pie"
           }
          ],
          "scatter": [
           {
            "fillpattern": {
             "fillmode": "overlay",
             "size": 10,
             "solidity": 0.2
            },
            "type": "scatter"
           }
          ],
          "scatter3d": [
           {
            "line": {
             "colorbar": {
              "outlinewidth": 0,
              "ticks": ""
             }
            },
            "marker": {
             "colorbar": {
              "outlinewidth": 0,
              "ticks": ""
             }
            },
            "type": "scatter3d"
           }
          ],
          "scattercarpet": [
           {
            "marker": {
             "colorbar": {
              "outlinewidth": 0,
              "ticks": ""
             }
            },
            "type": "scattercarpet"
           }
          ],
          "scattergeo": [
           {
            "marker": {
             "colorbar": {
              "outlinewidth": 0,
              "ticks": ""
             }
            },
            "type": "scattergeo"
           }
          ],
          "scattergl": [
           {
            "marker": {
             "colorbar": {
              "outlinewidth": 0,
              "ticks": ""
             }
            },
            "type": "scattergl"
           }
          ],
          "scattermapbox": [
           {
            "marker": {
             "colorbar": {
              "outlinewidth": 0,
              "ticks": ""
             }
            },
            "type": "scattermapbox"
           }
          ],
          "scatterpolar": [
           {
            "marker": {
             "colorbar": {
              "outlinewidth": 0,
              "ticks": ""
             }
            },
            "type": "scatterpolar"
           }
          ],
          "scatterpolargl": [
           {
            "marker": {
             "colorbar": {
              "outlinewidth": 0,
              "ticks": ""
             }
            },
            "type": "scatterpolargl"
           }
          ],
          "scatterternary": [
           {
            "marker": {
             "colorbar": {
              "outlinewidth": 0,
              "ticks": ""
             }
            },
            "type": "scatterternary"
           }
          ],
          "surface": [
           {
            "colorbar": {
             "outlinewidth": 0,
             "ticks": ""
            },
            "colorscale": [
             [
              0,
              "#0d0887"
             ],
             [
              0.1111111111111111,
              "#46039f"
             ],
             [
              0.2222222222222222,
              "#7201a8"
             ],
             [
              0.3333333333333333,
              "#9c179e"
             ],
             [
              0.4444444444444444,
              "#bd3786"
             ],
             [
              0.5555555555555556,
              "#d8576b"
             ],
             [
              0.6666666666666666,
              "#ed7953"
             ],
             [
              0.7777777777777778,
              "#fb9f3a"
             ],
             [
              0.8888888888888888,
              "#fdca26"
             ],
             [
              1,
              "#f0f921"
             ]
            ],
            "type": "surface"
           }
          ],
          "table": [
           {
            "cells": {
             "fill": {
              "color": "#EBF0F8"
             },
             "line": {
              "color": "white"
             }
            },
            "header": {
             "fill": {
              "color": "#C8D4E3"
             },
             "line": {
              "color": "white"
             }
            },
            "type": "table"
           }
          ]
         },
         "layout": {
          "annotationdefaults": {
           "arrowcolor": "#2a3f5f",
           "arrowhead": 0,
           "arrowwidth": 1
          },
          "autotypenumbers": "strict",
          "coloraxis": {
           "colorbar": {
            "outlinewidth": 0,
            "ticks": ""
           }
          },
          "colorscale": {
           "diverging": [
            [
             0,
             "#8e0152"
            ],
            [
             0.1,
             "#c51b7d"
            ],
            [
             0.2,
             "#de77ae"
            ],
            [
             0.3,
             "#f1b6da"
            ],
            [
             0.4,
             "#fde0ef"
            ],
            [
             0.5,
             "#f7f7f7"
            ],
            [
             0.6,
             "#e6f5d0"
            ],
            [
             0.7,
             "#b8e186"
            ],
            [
             0.8,
             "#7fbc41"
            ],
            [
             0.9,
             "#4d9221"
            ],
            [
             1,
             "#276419"
            ]
           ],
           "sequential": [
            [
             0,
             "#0d0887"
            ],
            [
             0.1111111111111111,
             "#46039f"
            ],
            [
             0.2222222222222222,
             "#7201a8"
            ],
            [
             0.3333333333333333,
             "#9c179e"
            ],
            [
             0.4444444444444444,
             "#bd3786"
            ],
            [
             0.5555555555555556,
             "#d8576b"
            ],
            [
             0.6666666666666666,
             "#ed7953"
            ],
            [
             0.7777777777777778,
             "#fb9f3a"
            ],
            [
             0.8888888888888888,
             "#fdca26"
            ],
            [
             1,
             "#f0f921"
            ]
           ],
           "sequentialminus": [
            [
             0,
             "#0d0887"
            ],
            [
             0.1111111111111111,
             "#46039f"
            ],
            [
             0.2222222222222222,
             "#7201a8"
            ],
            [
             0.3333333333333333,
             "#9c179e"
            ],
            [
             0.4444444444444444,
             "#bd3786"
            ],
            [
             0.5555555555555556,
             "#d8576b"
            ],
            [
             0.6666666666666666,
             "#ed7953"
            ],
            [
             0.7777777777777778,
             "#fb9f3a"
            ],
            [
             0.8888888888888888,
             "#fdca26"
            ],
            [
             1,
             "#f0f921"
            ]
           ]
          },
          "colorway": [
           "#636efa",
           "#EF553B",
           "#00cc96",
           "#ab63fa",
           "#FFA15A",
           "#19d3f3",
           "#FF6692",
           "#B6E880",
           "#FF97FF",
           "#FECB52"
          ],
          "font": {
           "color": "#2a3f5f"
          },
          "geo": {
           "bgcolor": "white",
           "lakecolor": "white",
           "landcolor": "#E5ECF6",
           "showlakes": true,
           "showland": true,
           "subunitcolor": "white"
          },
          "hoverlabel": {
           "align": "left"
          },
          "hovermode": "closest",
          "mapbox": {
           "style": "light"
          },
          "paper_bgcolor": "white",
          "plot_bgcolor": "#E5ECF6",
          "polar": {
           "angularaxis": {
            "gridcolor": "white",
            "linecolor": "white",
            "ticks": ""
           },
           "bgcolor": "#E5ECF6",
           "radialaxis": {
            "gridcolor": "white",
            "linecolor": "white",
            "ticks": ""
           }
          },
          "scene": {
           "xaxis": {
            "backgroundcolor": "#E5ECF6",
            "gridcolor": "white",
            "gridwidth": 2,
            "linecolor": "white",
            "showbackground": true,
            "ticks": "",
            "zerolinecolor": "white"
           },
           "yaxis": {
            "backgroundcolor": "#E5ECF6",
            "gridcolor": "white",
            "gridwidth": 2,
            "linecolor": "white",
            "showbackground": true,
            "ticks": "",
            "zerolinecolor": "white"
           },
           "zaxis": {
            "backgroundcolor": "#E5ECF6",
            "gridcolor": "white",
            "gridwidth": 2,
            "linecolor": "white",
            "showbackground": true,
            "ticks": "",
            "zerolinecolor": "white"
           }
          },
          "shapedefaults": {
           "line": {
            "color": "#2a3f5f"
           }
          },
          "ternary": {
           "aaxis": {
            "gridcolor": "white",
            "linecolor": "white",
            "ticks": ""
           },
           "baxis": {
            "gridcolor": "white",
            "linecolor": "white",
            "ticks": ""
           },
           "bgcolor": "#E5ECF6",
           "caxis": {
            "gridcolor": "white",
            "linecolor": "white",
            "ticks": ""
           }
          },
          "title": {
           "x": 0.05
          },
          "xaxis": {
           "automargin": true,
           "gridcolor": "white",
           "linecolor": "white",
           "ticks": "",
           "title": {
            "standoff": 15
           },
           "zerolinecolor": "white",
           "zerolinewidth": 2
          },
          "yaxis": {
           "automargin": true,
           "gridcolor": "white",
           "linecolor": "white",
           "ticks": "",
           "title": {
            "standoff": 15
           },
           "zerolinecolor": "white",
           "zerolinewidth": 2
          }
         }
        },
        "title": {
         "text": "Evolutia gripei in Bucuresti (noiembrie - martie)",
         "x": 0.5
        },
        "xaxis": {
         "ticktext": [
          "Nov",
          "Dec",
          "Jan",
          "Feb",
          "Mar"
         ],
         "tickvals": [
          0,
          31,
          62,
          84,
          124
         ],
         "title": {
          "text": "Zile"
         }
        },
        "yaxis": {
         "title": {
          "text": "Nr persoane infectate"
         }
        }
       }
      }
     },
     "metadata": {},
     "output_type": "display_data"
    }
   ],
   "source": [
    "# Plotting the evolution of infected numbers each day\n",
    "zile_pe_luna = [30, 31, 31, 28, 31]\n",
    "luni = ['Nov', 'Dec', 'Jan', 'Feb', 'Mar'] \n",
    "pozitie_luna = [i * zile_pe_luna[i] for i in range(len(zile_pe_luna))]\n",
    "\n",
    "fig = go.Figure()\n",
    "\n",
    "fig.add_trace(go.Scatter(\n",
    "    x=np.arange(simulare_zile), \n",
    "    y=nr_infectati_pe_zi, \n",
    "    mode='lines', \n",
    "    name='Numar infectati in perioda noiembrie - martie', \n",
    "    line=dict(color='MediumPurple', width=2)))\n",
    "\n",
    "fig.update_layout(title=dict(text='Evolutia gripei in Bucuresti (noiembrie - martie)', x=0.5),\n",
    "                   xaxis=dict(title='Zile', tickvals=pozitie_luna, ticktext=luni),\n",
    "                   yaxis_title='Nr persoane infectate',\n",
    "                   paper_bgcolor='rgba(0,0,0,0)',\n",
    "                   font=dict(family='system-ui', size=14, color='white'),\n",
    "                   plot_bgcolor='Gainsboro', )\n",
    "fig.show()"
   ]
  },
  {
   "cell_type": "code",
   "execution_count": 14,
   "metadata": {},
   "outputs": [
    {
     "name": "stdout",
     "output_type": "stream",
     "text": [
      "Nr infectati pe zi in sectorul 1: [50, 37, 34, 45, 35, 25, 38, 27, 28, 31, 41, 30, 36, 35, 39, 32, 33, 35, 41, 30, 37, 34, 35, 43, 26, 35, 27, 34, 30, 38, 26, 19, 34, 37, 33, 32, 38, 35, 42, 43, 29, 37, 34, 33, 33, 38, 29, 42, 38, 26, 35, 39, 39, 36, 30, 38, 29, 24, 30, 31, 37, 28, 33, 34, 37, 30, 37, 39, 33, 26, 36, 34, 32, 35, 32, 39, 39, 36, 35, 35, 33, 36, 22, 43, 32, 31, 21, 33, 29, 38, 41, 30, 30, 44, 29, 36, 35, 43, 38, 24, 26, 36, 40, 33, 33, 38, 23, 46, 29, 28, 31, 35, 25, 33, 30, 39, 28, 29, 38, 34, 35, 37, 32, 33, 36, 41, 34, 46, 28, 37, 24, 43, 27, 31, 29, 33, 34, 27, 27, 39, 27, 32, 26, 35, 39, 36, 31, 36, 36, 31]\n",
      "\n",
      "Nr infectati pe zi in sectorul 2: [60, 64, 66, 61, 52, 60, 51, 41, 49, 43, 43, 49, 57, 45, 56, 51, 45, 49, 51, 47, 52, 46, 53, 48, 51, 45, 45, 51, 52, 50, 44, 55, 54, 51, 51, 53, 60, 44, 61, 39, 51, 42, 63, 51, 54, 55, 47, 55, 41, 64, 56, 59, 48, 59, 47, 65, 51, 44, 56, 45, 57, 49, 49, 57, 48, 47, 51, 42, 60, 51, 50, 62, 37, 55, 47, 39, 59, 53, 43, 56, 52, 37, 40, 50, 46, 51, 44, 48, 62, 61, 46, 59, 51, 65, 57, 49, 47, 59, 32, 44, 43, 56, 58, 67, 52, 51, 39, 50, 50, 53, 44, 58, 61, 48, 58, 50, 40, 45, 48, 59, 43, 46, 52, 52, 49, 54, 52, 46, 50, 56, 54, 57, 50, 57, 45, 55, 48, 51, 40, 52, 57, 49, 61, 50, 52, 41, 52, 48, 48, 53]\n",
      "\n",
      "Nr infectati pe zi in sectorul 3: [107, 90, 89, 81, 81, 87, 77, 72, 83, 72, 65, 71, 80, 70, 78, 79, 68, 84, 89, 72, 73, 83, 86, 71, 85, 71, 89, 78, 74, 54, 92, 67, 74, 70, 75, 72, 98, 58, 78, 78, 76, 86, 88, 73, 85, 83, 71, 79, 83, 72, 61, 74, 70, 74, 88, 72, 64, 69, 71, 80, 73, 75, 74, 82, 80, 78, 84, 64, 73, 68, 67, 83, 82, 96, 73, 75, 81, 78, 80, 75, 74, 66, 80, 77, 75, 81, 80, 78, 64, 66, 86, 73, 82, 78, 90, 67, 78, 70, 71, 69, 74, 67, 79, 77, 86, 69, 82, 81, 88, 66, 86, 72, 84, 80, 82, 84, 82, 82, 86, 90, 68, 74, 78, 79, 65, 86, 89, 85, 65, 77, 65, 71, 87, 68, 80, 79, 79, 77, 62, 75, 66, 85, 79, 66, 81, 81, 87, 64, 80, 69]\n",
      "\n",
      "Nr infectati pe zi in sectorul 4: [75, 76, 65, 64, 52, 59, 48, 58, 54, 57, 59, 46, 53, 53, 55, 63, 64, 53, 56, 51, 60, 64, 66, 58, 57, 67, 66, 43, 59, 56, 55, 57, 45, 62, 59, 56, 52, 59, 57, 55, 48, 60, 53, 58, 52, 65, 60, 49, 63, 64, 46, 59, 49, 61, 63, 50, 56, 71, 69, 64, 47, 61, 50, 61, 61, 55, 48, 44, 53, 59, 50, 52, 67, 47, 50, 58, 53, 61, 55, 60, 50, 61, 49, 64, 55, 45, 62, 60, 58, 56, 56, 50, 51, 56, 66, 50, 65, 49, 45, 51, 50, 63, 54, 52, 54, 68, 44, 48, 46, 63, 65, 56, 52, 55, 62, 57, 57, 66, 49, 48, 49, 63, 58, 67, 59, 56, 53, 47, 48, 66, 60, 65, 54, 56, 52, 55, 57, 59, 70, 56, 68, 49, 65, 55, 53, 42, 58, 52, 48, 55]\n",
      "\n",
      "Nr infectati pe zi in sectorul 5: [44, 34, 42, 37, 45, 33, 48, 39, 34, 33, 32, 35, 38, 43, 36, 39, 44, 34, 40, 21, 38, 29, 28, 42, 32, 36, 44, 38, 31, 31, 30, 38, 31, 42, 33, 36, 47, 29, 36, 31, 43, 38, 33, 35, 29, 36, 40, 32, 42, 44, 39, 39, 32, 31, 39, 32, 31, 27, 33, 53, 27, 34, 42, 50, 37, 28, 34, 31, 29, 32, 45, 27, 41, 28, 31, 35, 36, 32, 40, 32, 43, 33, 30, 24, 47, 31, 23, 23, 43, 36, 33, 41, 34, 37, 35, 46, 36, 39, 36, 32, 34, 26, 35, 36, 33, 47, 33, 42, 41, 39, 39, 32, 41, 38, 28, 42, 36, 41, 27, 36, 41, 31, 31, 32, 35, 29, 33, 27, 30, 39, 40, 35, 30, 32, 43, 31, 27, 32, 33, 25, 35, 36, 37, 28, 31, 25, 31, 42, 33, 32]\n",
      "\n",
      "Nr infectati pe zi in sectorul 6: [73, 61, 56, 55, 61, 60, 59, 51, 57, 49, 35, 54, 50, 44, 51, 56, 42, 58, 55, 52, 54, 63, 62, 46, 55, 59, 62, 60, 58, 58, 53, 60, 58, 51, 58, 57, 36, 55, 57, 41, 57, 60, 56, 49, 64, 54, 43, 65, 60, 46, 54, 50, 48, 61, 49, 52, 35, 51, 60, 65, 64, 51, 49, 52, 38, 51, 58, 52, 58, 60, 56, 59, 68, 49, 45, 74, 62, 73, 47, 52, 54, 59, 48, 58, 52, 44, 63, 42, 39, 55, 60, 65, 53, 64, 52, 80, 55, 44, 49, 54, 48, 46, 51, 64, 61, 45, 61, 43, 53, 49, 49, 61, 71, 54, 54, 55, 54, 51, 41, 57, 45, 48, 73, 59, 52, 51, 43, 49, 50, 43, 46, 53, 62, 59, 46, 48, 46, 50, 55, 55, 56, 63, 48, 61, 52, 44, 44, 59, 61, 43]\n",
      "\n"
     ]
    }
   ],
   "source": [
    "# Simulation parameters per sector\n",
    "populatie_simulata_sectoare = np.array([1192, 1745, 2244, 1546, 1422, 1849])  # Simulated population for each sector\n",
    "prob_infectare_sectoare = np.random.uniform(0.03, 0.05, nr_sectoare)          # Infection probability per sector\n",
    "\n",
    "# Initialize recovery arrays for each sector\n",
    "nr_zile_refacere_sectoare = [np.zeros(pop, dtype=int) for pop in populatie_simulata_sectoare]\n",
    "\n",
    "# List to hold the number of infected individuals per day for each sector\n",
    "nr_infectati_pe_zi_sectoare = [[] for _ in range(nr_sectoare)]\n",
    "\n",
    "for zi in range(simulare_zile):\n",
    "    for s in range(nr_sectoare):\n",
    "        # Determine those who are susceptible to infection (not recovering)\n",
    "        posibil_infectati = nr_zile_refacere_sectoare[s] == 0\n",
    "        sansa_infectare = np.random.rand(populatie_simulata_sectoare[s])\n",
    "\n",
    "        # Determine new infections\n",
    "        infectati = posibil_infectati & (sansa_infectare < prob_infectare_sectoare[s])\n",
    "        nr_infectati_pe_zi_sectoare[s].append(np.sum(infectati))\n",
    "\n",
    "        # Set recovery days for newly infected individuals\n",
    "        nr_zile_refacere_sectoare[s][infectati] = np.random.randint(7, 11, size=np.sum(infectati))\n",
    "\n",
    "        # Decrement recovery days for those who are still in recovery\n",
    "        nr_zile_refacere_sectoare[s][nr_zile_refacere_sectoare[s] > 0] -= 1\n",
    "\n",
    "# Display results for each district\n",
    "for s in range(nr_sectoare):\n",
    "    print(f\"Nr infectati pe zi in sectorul {s+1}: {nr_infectati_pe_zi_sectoare[s]}\\n\")\n"
   ]
  },
  {
   "cell_type": "code",
   "execution_count": 12,
   "metadata": {},
   "outputs": [
    {
     "name": "stdout",
     "output_type": "stream",
     "text": [
      "     Sector  Infection Rate\n",
      "0  Sector 1        4.979027\n",
      "1  Sector 2        5.431519\n",
      "2  Sector 3        4.028075\n",
      "3  Sector 4        3.730918\n",
      "4  Sector 5        5.142757\n",
      "5  Sector 6        5.396971\n"
     ]
    },
    {
     "data": {
      "application/vnd.plotly.v1+json": {
       "config": {
        "plotlyServerURL": "https://plot.ly"
       },
       "data": [
        {
         "coloraxis": "coloraxis",
         "featureidkey": "properties.tags.name",
         "geo": "geo",
         "geojson": "/Users/alexandrazamfirescu/Bucharest_Streets/Flu_Spread_Simulation/BucurestiSectoare.geo.json",
         "hovertemplate": "Sector=%{location}<br>Infection Rate=%{z}<extra></extra>",
         "locations": [
          "Sector 1",
          "Sector 2",
          "Sector 3",
          "Sector 4",
          "Sector 5",
          "Sector 6"
         ],
         "name": "",
         "type": "choropleth",
         "z": [
          4.979026845637584,
          5.431518624641834,
          4.028074866310161,
          3.7309184993531694,
          5.142756680731364,
          5.39697133585722
         ]
        }
       ],
       "layout": {
        "coloraxis": {
         "colorbar": {
          "title": {
           "text": "Infection Rate"
          }
         },
         "colorscale": [
          [
           0,
           "#30123b"
          ],
          [
           0.07142857142857142,
           "#4145ab"
          ],
          [
           0.14285714285714285,
           "#4675ed"
          ],
          [
           0.21428571428571427,
           "#39a2fc"
          ],
          [
           0.2857142857142857,
           "#1bcfd4"
          ],
          [
           0.35714285714285715,
           "#24eca6"
          ],
          [
           0.42857142857142855,
           "#61fc6c"
          ],
          [
           0.5,
           "#a4fc3b"
          ],
          [
           0.5714285714285714,
           "#d1e834"
          ],
          [
           0.6428571428571429,
           "#f3c63a"
          ],
          [
           0.7142857142857143,
           "#fe9b2d"
          ],
          [
           0.7857142857142857,
           "#f36315"
          ],
          [
           0.8571428571428571,
           "#d93806"
          ],
          [
           0.9285714285714286,
           "#b11901"
          ],
          [
           1,
           "#7a0402"
          ]
         ]
        },
        "geo": {
         "center": {},
         "domain": {
          "x": [
           0,
           1
          ],
          "y": [
           0,
           1
          ]
         },
         "fitbounds": "locations",
         "projection": {
          "type": "mercator"
         },
         "visible": false
        },
        "legend": {
         "tracegroupgap": 0
        },
        "margin": {
         "b": 0,
         "l": 0,
         "r": 0,
         "t": 40
        },
        "template": {
         "data": {
          "bar": [
           {
            "error_x": {
             "color": "#2a3f5f"
            },
            "error_y": {
             "color": "#2a3f5f"
            },
            "marker": {
             "line": {
              "color": "#E5ECF6",
              "width": 0.5
             },
             "pattern": {
              "fillmode": "overlay",
              "size": 10,
              "solidity": 0.2
             }
            },
            "type": "bar"
           }
          ],
          "barpolar": [
           {
            "marker": {
             "line": {
              "color": "#E5ECF6",
              "width": 0.5
             },
             "pattern": {
              "fillmode": "overlay",
              "size": 10,
              "solidity": 0.2
             }
            },
            "type": "barpolar"
           }
          ],
          "carpet": [
           {
            "aaxis": {
             "endlinecolor": "#2a3f5f",
             "gridcolor": "white",
             "linecolor": "white",
             "minorgridcolor": "white",
             "startlinecolor": "#2a3f5f"
            },
            "baxis": {
             "endlinecolor": "#2a3f5f",
             "gridcolor": "white",
             "linecolor": "white",
             "minorgridcolor": "white",
             "startlinecolor": "#2a3f5f"
            },
            "type": "carpet"
           }
          ],
          "choropleth": [
           {
            "colorbar": {
             "outlinewidth": 0,
             "ticks": ""
            },
            "type": "choropleth"
           }
          ],
          "contour": [
           {
            "colorbar": {
             "outlinewidth": 0,
             "ticks": ""
            },
            "colorscale": [
             [
              0,
              "#0d0887"
             ],
             [
              0.1111111111111111,
              "#46039f"
             ],
             [
              0.2222222222222222,
              "#7201a8"
             ],
             [
              0.3333333333333333,
              "#9c179e"
             ],
             [
              0.4444444444444444,
              "#bd3786"
             ],
             [
              0.5555555555555556,
              "#d8576b"
             ],
             [
              0.6666666666666666,
              "#ed7953"
             ],
             [
              0.7777777777777778,
              "#fb9f3a"
             ],
             [
              0.8888888888888888,
              "#fdca26"
             ],
             [
              1,
              "#f0f921"
             ]
            ],
            "type": "contour"
           }
          ],
          "contourcarpet": [
           {
            "colorbar": {
             "outlinewidth": 0,
             "ticks": ""
            },
            "type": "contourcarpet"
           }
          ],
          "heatmap": [
           {
            "colorbar": {
             "outlinewidth": 0,
             "ticks": ""
            },
            "colorscale": [
             [
              0,
              "#0d0887"
             ],
             [
              0.1111111111111111,
              "#46039f"
             ],
             [
              0.2222222222222222,
              "#7201a8"
             ],
             [
              0.3333333333333333,
              "#9c179e"
             ],
             [
              0.4444444444444444,
              "#bd3786"
             ],
             [
              0.5555555555555556,
              "#d8576b"
             ],
             [
              0.6666666666666666,
              "#ed7953"
             ],
             [
              0.7777777777777778,
              "#fb9f3a"
             ],
             [
              0.8888888888888888,
              "#fdca26"
             ],
             [
              1,
              "#f0f921"
             ]
            ],
            "type": "heatmap"
           }
          ],
          "heatmapgl": [
           {
            "colorbar": {
             "outlinewidth": 0,
             "ticks": ""
            },
            "colorscale": [
             [
              0,
              "#0d0887"
             ],
             [
              0.1111111111111111,
              "#46039f"
             ],
             [
              0.2222222222222222,
              "#7201a8"
             ],
             [
              0.3333333333333333,
              "#9c179e"
             ],
             [
              0.4444444444444444,
              "#bd3786"
             ],
             [
              0.5555555555555556,
              "#d8576b"
             ],
             [
              0.6666666666666666,
              "#ed7953"
             ],
             [
              0.7777777777777778,
              "#fb9f3a"
             ],
             [
              0.8888888888888888,
              "#fdca26"
             ],
             [
              1,
              "#f0f921"
             ]
            ],
            "type": "heatmapgl"
           }
          ],
          "histogram": [
           {
            "marker": {
             "pattern": {
              "fillmode": "overlay",
              "size": 10,
              "solidity": 0.2
             }
            },
            "type": "histogram"
           }
          ],
          "histogram2d": [
           {
            "colorbar": {
             "outlinewidth": 0,
             "ticks": ""
            },
            "colorscale": [
             [
              0,
              "#0d0887"
             ],
             [
              0.1111111111111111,
              "#46039f"
             ],
             [
              0.2222222222222222,
              "#7201a8"
             ],
             [
              0.3333333333333333,
              "#9c179e"
             ],
             [
              0.4444444444444444,
              "#bd3786"
             ],
             [
              0.5555555555555556,
              "#d8576b"
             ],
             [
              0.6666666666666666,
              "#ed7953"
             ],
             [
              0.7777777777777778,
              "#fb9f3a"
             ],
             [
              0.8888888888888888,
              "#fdca26"
             ],
             [
              1,
              "#f0f921"
             ]
            ],
            "type": "histogram2d"
           }
          ],
          "histogram2dcontour": [
           {
            "colorbar": {
             "outlinewidth": 0,
             "ticks": ""
            },
            "colorscale": [
             [
              0,
              "#0d0887"
             ],
             [
              0.1111111111111111,
              "#46039f"
             ],
             [
              0.2222222222222222,
              "#7201a8"
             ],
             [
              0.3333333333333333,
              "#9c179e"
             ],
             [
              0.4444444444444444,
              "#bd3786"
             ],
             [
              0.5555555555555556,
              "#d8576b"
             ],
             [
              0.6666666666666666,
              "#ed7953"
             ],
             [
              0.7777777777777778,
              "#fb9f3a"
             ],
             [
              0.8888888888888888,
              "#fdca26"
             ],
             [
              1,
              "#f0f921"
             ]
            ],
            "type": "histogram2dcontour"
           }
          ],
          "mesh3d": [
           {
            "colorbar": {
             "outlinewidth": 0,
             "ticks": ""
            },
            "type": "mesh3d"
           }
          ],
          "parcoords": [
           {
            "line": {
             "colorbar": {
              "outlinewidth": 0,
              "ticks": ""
             }
            },
            "type": "parcoords"
           }
          ],
          "pie": [
           {
            "automargin": true,
            "type": "pie"
           }
          ],
          "scatter": [
           {
            "fillpattern": {
             "fillmode": "overlay",
             "size": 10,
             "solidity": 0.2
            },
            "type": "scatter"
           }
          ],
          "scatter3d": [
           {
            "line": {
             "colorbar": {
              "outlinewidth": 0,
              "ticks": ""
             }
            },
            "marker": {
             "colorbar": {
              "outlinewidth": 0,
              "ticks": ""
             }
            },
            "type": "scatter3d"
           }
          ],
          "scattercarpet": [
           {
            "marker": {
             "colorbar": {
              "outlinewidth": 0,
              "ticks": ""
             }
            },
            "type": "scattercarpet"
           }
          ],
          "scattergeo": [
           {
            "marker": {
             "colorbar": {
              "outlinewidth": 0,
              "ticks": ""
             }
            },
            "type": "scattergeo"
           }
          ],
          "scattergl": [
           {
            "marker": {
             "colorbar": {
              "outlinewidth": 0,
              "ticks": ""
             }
            },
            "type": "scattergl"
           }
          ],
          "scattermapbox": [
           {
            "marker": {
             "colorbar": {
              "outlinewidth": 0,
              "ticks": ""
             }
            },
            "type": "scattermapbox"
           }
          ],
          "scatterpolar": [
           {
            "marker": {
             "colorbar": {
              "outlinewidth": 0,
              "ticks": ""
             }
            },
            "type": "scatterpolar"
           }
          ],
          "scatterpolargl": [
           {
            "marker": {
             "colorbar": {
              "outlinewidth": 0,
              "ticks": ""
             }
            },
            "type": "scatterpolargl"
           }
          ],
          "scatterternary": [
           {
            "marker": {
             "colorbar": {
              "outlinewidth": 0,
              "ticks": ""
             }
            },
            "type": "scatterternary"
           }
          ],
          "surface": [
           {
            "colorbar": {
             "outlinewidth": 0,
             "ticks": ""
            },
            "colorscale": [
             [
              0,
              "#0d0887"
             ],
             [
              0.1111111111111111,
              "#46039f"
             ],
             [
              0.2222222222222222,
              "#7201a8"
             ],
             [
              0.3333333333333333,
              "#9c179e"
             ],
             [
              0.4444444444444444,
              "#bd3786"
             ],
             [
              0.5555555555555556,
              "#d8576b"
             ],
             [
              0.6666666666666666,
              "#ed7953"
             ],
             [
              0.7777777777777778,
              "#fb9f3a"
             ],
             [
              0.8888888888888888,
              "#fdca26"
             ],
             [
              1,
              "#f0f921"
             ]
            ],
            "type": "surface"
           }
          ],
          "table": [
           {
            "cells": {
             "fill": {
              "color": "#EBF0F8"
             },
             "line": {
              "color": "white"
             }
            },
            "header": {
             "fill": {
              "color": "#C8D4E3"
             },
             "line": {
              "color": "white"
             }
            },
            "type": "table"
           }
          ]
         },
         "layout": {
          "annotationdefaults": {
           "arrowcolor": "#2a3f5f",
           "arrowhead": 0,
           "arrowwidth": 1
          },
          "autotypenumbers": "strict",
          "coloraxis": {
           "colorbar": {
            "outlinewidth": 0,
            "ticks": ""
           }
          },
          "colorscale": {
           "diverging": [
            [
             0,
             "#8e0152"
            ],
            [
             0.1,
             "#c51b7d"
            ],
            [
             0.2,
             "#de77ae"
            ],
            [
             0.3,
             "#f1b6da"
            ],
            [
             0.4,
             "#fde0ef"
            ],
            [
             0.5,
             "#f7f7f7"
            ],
            [
             0.6,
             "#e6f5d0"
            ],
            [
             0.7,
             "#b8e186"
            ],
            [
             0.8,
             "#7fbc41"
            ],
            [
             0.9,
             "#4d9221"
            ],
            [
             1,
             "#276419"
            ]
           ],
           "sequential": [
            [
             0,
             "#0d0887"
            ],
            [
             0.1111111111111111,
             "#46039f"
            ],
            [
             0.2222222222222222,
             "#7201a8"
            ],
            [
             0.3333333333333333,
             "#9c179e"
            ],
            [
             0.4444444444444444,
             "#bd3786"
            ],
            [
             0.5555555555555556,
             "#d8576b"
            ],
            [
             0.6666666666666666,
             "#ed7953"
            ],
            [
             0.7777777777777778,
             "#fb9f3a"
            ],
            [
             0.8888888888888888,
             "#fdca26"
            ],
            [
             1,
             "#f0f921"
            ]
           ],
           "sequentialminus": [
            [
             0,
             "#0d0887"
            ],
            [
             0.1111111111111111,
             "#46039f"
            ],
            [
             0.2222222222222222,
             "#7201a8"
            ],
            [
             0.3333333333333333,
             "#9c179e"
            ],
            [
             0.4444444444444444,
             "#bd3786"
            ],
            [
             0.5555555555555556,
             "#d8576b"
            ],
            [
             0.6666666666666666,
             "#ed7953"
            ],
            [
             0.7777777777777778,
             "#fb9f3a"
            ],
            [
             0.8888888888888888,
             "#fdca26"
            ],
            [
             1,
             "#f0f921"
            ]
           ]
          },
          "colorway": [
           "#636efa",
           "#EF553B",
           "#00cc96",
           "#ab63fa",
           "#FFA15A",
           "#19d3f3",
           "#FF6692",
           "#B6E880",
           "#FF97FF",
           "#FECB52"
          ],
          "font": {
           "color": "#2a3f5f"
          },
          "geo": {
           "bgcolor": "white",
           "lakecolor": "white",
           "landcolor": "#E5ECF6",
           "showlakes": true,
           "showland": true,
           "subunitcolor": "white"
          },
          "hoverlabel": {
           "align": "left"
          },
          "hovermode": "closest",
          "mapbox": {
           "style": "light"
          },
          "paper_bgcolor": "white",
          "plot_bgcolor": "#E5ECF6",
          "polar": {
           "angularaxis": {
            "gridcolor": "white",
            "linecolor": "white",
            "ticks": ""
           },
           "bgcolor": "#E5ECF6",
           "radialaxis": {
            "gridcolor": "white",
            "linecolor": "white",
            "ticks": ""
           }
          },
          "scene": {
           "xaxis": {
            "backgroundcolor": "#E5ECF6",
            "gridcolor": "white",
            "gridwidth": 2,
            "linecolor": "white",
            "showbackground": true,
            "ticks": "",
            "zerolinecolor": "white"
           },
           "yaxis": {
            "backgroundcolor": "#E5ECF6",
            "gridcolor": "white",
            "gridwidth": 2,
            "linecolor": "white",
            "showbackground": true,
            "ticks": "",
            "zerolinecolor": "white"
           },
           "zaxis": {
            "backgroundcolor": "#E5ECF6",
            "gridcolor": "white",
            "gridwidth": 2,
            "linecolor": "white",
            "showbackground": true,
            "ticks": "",
            "zerolinecolor": "white"
           }
          },
          "shapedefaults": {
           "line": {
            "color": "#2a3f5f"
           }
          },
          "ternary": {
           "aaxis": {
            "gridcolor": "white",
            "linecolor": "white",
            "ticks": ""
           },
           "baxis": {
            "gridcolor": "white",
            "linecolor": "white",
            "ticks": ""
           },
           "bgcolor": "#E5ECF6",
           "caxis": {
            "gridcolor": "white",
            "linecolor": "white",
            "ticks": ""
           }
          },
          "title": {
           "x": 0.05
          },
          "xaxis": {
           "automargin": true,
           "gridcolor": "white",
           "linecolor": "white",
           "ticks": "",
           "title": {
            "standoff": 15
           },
           "zerolinecolor": "white",
           "zerolinewidth": 2
          },
          "yaxis": {
           "automargin": true,
           "gridcolor": "white",
           "linecolor": "white",
           "ticks": "",
           "title": {
            "standoff": 15
           },
           "zerolinecolor": "white",
           "zerolinewidth": 2
          }
         }
        },
        "title": {
         "text": "Rata de infectare cu gripa in fiecare sector",
         "x": 0.5
        }
       }
      }
     },
     "metadata": {},
     "output_type": "display_data"
    }
   ],
   "source": [
    "# Calculate total infections for each sector\n",
    "infectii_pe_sector_toate_zilele = [sum(nr_infectati_pe_zi_sectoare[s]) for s in range(nr_sectoare)]\n",
    "\n",
    "# Calculate infection rates for each sector\n",
    "infectie_rate_sectoare = [infectii / populatie_simulata_sectoare[s] for s, infectii in enumerate(infectii_pe_sector_toate_zilele)] \n",
    "\n",
    "# Define sector labels that match the GeoJSON\n",
    "idx_sector = ['Sector 1', 'Sector 2', 'Sector 3', 'Sector 4', 'Sector 5', 'Sector 6']\n",
    "\n",
    "# Create a DataFrame with the sector labels and infection rates\n",
    "data_rate = pd.DataFrame({'Sector': idx_sector, 'Infection Rate': infectie_rate_sectoare})\n",
    "print(data_rate)\n",
    "\n",
    "# Load the GeoJSON file for Bucharest sectors\n",
    "geojson_fisier = '/Users/alexandrazamfirescu/Bucharest_Streets/Flu_Spread_Simulation/BucurestiSectoare.geo.json'\n",
    "\n",
    "with open(geojson_fisier) as f:\n",
    "    geojson = json.load(f)\n",
    "\n",
    "# Plot the choropleth map for infection rates\n",
    "fig = px.choropleth(\n",
    "    data_frame=data_rate,\n",
    "    geojson=geojson_fisier,\n",
    "    locations='Sector',\n",
    "    featureidkey='properties.tags.name',  # Ensure this matches your GeoJSON\n",
    "    color='Infection Rate',\n",
    "    color_continuous_scale='Turbo',\n",
    "    labels={'Infection Rate': 'Infection Rate'},\n",
    "    projection='mercator'\n",
    ")\n",
    "fig.update_geos(fitbounds=\"locations\", visible=False)\n",
    "fig.update_layout(\n",
    "    title=dict(text='Rata de infectare cu gripa in fiecare sector', x=0.5),\n",
    "    margin={\"r\":0, \"t\":40, \"l\":0, \"b\":0}\n",
    ")\n",
    "fig.show()\n"
   ]
  }
 ],
 "metadata": {
  "kernelspec": {
   "display_name": "tsimulare_env",
   "language": "python",
   "name": "python3"
  },
  "language_info": {
   "codemirror_mode": {
    "name": "ipython",
    "version": 3
   },
   "file_extension": ".py",
   "mimetype": "text/x-python",
   "name": "python",
   "nbconvert_exporter": "python",
   "pygments_lexer": "ipython3",
   "version": "3.11.10"
  }
 },
 "nbformat": 4,
 "nbformat_minor": 2
}
