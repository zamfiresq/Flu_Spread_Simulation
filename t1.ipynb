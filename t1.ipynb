{
 "cells": [
  {
   "cell_type": "markdown",
   "metadata": {},
   "source": [
    "\n",
    "# **Modeling Flu Spread in Bucharest using Monte Carlo Simulation** #\n",
    "\n",
    "\n",
    "##### The aim of this project is to model the spread of the flu in Bucharest using the Monte Carlo method to understand the dynamics of a virus in a crowded city. #####"
   ]
  },
  {
   "cell_type": "code",
   "execution_count": 57,
   "metadata": {},
   "outputs": [],
   "source": [
    "import numpy as np\n",
    "import random\n",
    "import pandas as pd\n",
    "import plotly.express as px\n",
    "import plotly.graph_objects as go\n",
    "import json"
   ]
  },
  {
   "cell_type": "markdown",
   "metadata": {},
   "source": [
    "##### In this simulation model for Bucharest, we used a sample population of 10,000 individuals, with an estimated probability of infection between 3-5% per contact and an average recovery time of 7-10 days. The simulation is carried out over a 90-day period to cover a typical influenza season, allowing to observe the evolution of the spread of infection in a large city. ##### "
   ]
  },
  {
   "cell_type": "code",
   "execution_count": 58,
   "metadata": {},
   "outputs": [],
   "source": [
    "# Parameters for the simulation\n",
    "nr_populatie = 10000\n",
    "prob_infectare = np.random.uniform(0.03, 0.06, nr_populatie)  # Probability of infection per individual \n",
    "nr_zile_refacere = np.zeros(nr_populatie, dtype=int)         \n",
    "simulare_zile = 150                                           # Number of simulation days (1 nov - 31 mar)\n",
    "nr_sectoare = 6\n",
    "nr_simulari = 1000 "
   ]
  },
  {
   "cell_type": "code",
   "execution_count": 59,
   "metadata": {},
   "outputs": [
    {
     "name": "stdout",
     "output_type": "stream",
     "text": [
      "Nr infectati pe zi:  [458, 429, 383, 402, 388, 356, 326, 311, 342, 322, 342, 319, 346, 351, 313, 318, 372, 327, 337, 332, 355, 325, 335, 346, 341, 330, 334, 318, 335, 330, 304, 356, 319, 311, 352, 348, 346, 317, 343, 321, 372, 308, 331, 327, 324, 359, 344, 342, 322, 345, 321, 368, 334, 361, 319, 337, 321, 319, 277, 350, 337, 350, 334, 344, 339, 313, 354, 365, 323, 331, 349, 328, 342, 341, 347, 329, 323, 338, 321, 342, 349, 337, 356, 331, 293, 342, 326, 313, 337, 371, 295, 357, 332, 328, 323, 330, 289, 372, 348, 356, 308, 321, 352, 320, 339, 353, 326, 337, 326, 344, 328, 349, 335, 352, 318, 334, 327, 326, 326, 378, 358, 360, 340, 332, 346, 337, 352, 318, 338, 331, 324, 337, 317, 304, 331, 343, 300, 321, 348, 352, 318, 327, 326, 326, 336, 366, 312, 308, 323, 294]\n",
      "Estimated Probability of Infection: 0.0450\n"
     ]
    }
   ],
   "source": [
    "# Simulation of the spread of the virus in the population every day\n",
    "nr_infectati_pe_zi = []\n",
    "\n",
    "for zi in range(simulare_zile):\n",
    "    posibil_infectati = nr_zile_refacere == 0  # Not currently recovering\n",
    "    sansa_infectare = np.random.rand(nr_populatie) \n",
    "    infectati = posibil_infectati & (sansa_infectare < prob_infectare)  # If random number is less than infection probability\n",
    "    nr_infectati_pe_zi.append(np.sum(infectati))\n",
    "\n",
    "    # Set recovery days for newly infected individuals\n",
    "    nr_zile_refacere[infectati] = np.random.randint(7, 11, size=np.sum(infectati))\n",
    "\n",
    "    # Decrease recovery days for all those recovering\n",
    "    nr_zile_refacere[nr_zile_refacere > 0] -= 1\n",
    "\n",
    "# Display results\n",
    "print(\"Nr infectati pe zi: \", nr_infectati_pe_zi)\n",
    "\n",
    "\n",
    "\n",
    "# Probability Estimation Using Monte Carlo Method\n",
    "infected_count = 0  # Count of favorable outcomes\n",
    "\n",
    "# Run trials for estimating infection probability\n",
    "for _ in range(nr_simulari):\n",
    "    # Simulate each individual's infection status\n",
    "    for i in range(nr_populatie):\n",
    "        random_value = np.random.rand()  # Generate a random number for this individual\n",
    "        if random_value < prob_infectare[i]:  # Compare with individual infection probability\n",
    "            infected_count += 1  # Increment count if infected\n",
    "\n",
    "# Estimate probability\n",
    "estimated_probability = infected_count / (nr_simulari * nr_populatie)  \n",
    "print(f\"Estimated Probability of Infection: {estimated_probability:.4f}\")"
   ]
  },
  {
   "cell_type": "code",
   "execution_count": 60,
   "metadata": {},
   "outputs": [
    {
     "data": {
      "application/vnd.plotly.v1+json": {
       "config": {
        "plotlyServerURL": "https://plot.ly"
       },
       "data": [
        {
         "line": {
          "color": "MediumPurple",
          "width": 2
         },
         "mode": "lines",
         "name": "Numar infectati in perioda noiembrie - martie",
         "type": "scatter",
         "x": [
          0,
          1,
          2,
          3,
          4,
          5,
          6,
          7,
          8,
          9,
          10,
          11,
          12,
          13,
          14,
          15,
          16,
          17,
          18,
          19,
          20,
          21,
          22,
          23,
          24,
          25,
          26,
          27,
          28,
          29,
          30,
          31,
          32,
          33,
          34,
          35,
          36,
          37,
          38,
          39,
          40,
          41,
          42,
          43,
          44,
          45,
          46,
          47,
          48,
          49,
          50,
          51,
          52,
          53,
          54,
          55,
          56,
          57,
          58,
          59,
          60,
          61,
          62,
          63,
          64,
          65,
          66,
          67,
          68,
          69,
          70,
          71,
          72,
          73,
          74,
          75,
          76,
          77,
          78,
          79,
          80,
          81,
          82,
          83,
          84,
          85,
          86,
          87,
          88,
          89,
          90,
          91,
          92,
          93,
          94,
          95,
          96,
          97,
          98,
          99,
          100,
          101,
          102,
          103,
          104,
          105,
          106,
          107,
          108,
          109,
          110,
          111,
          112,
          113,
          114,
          115,
          116,
          117,
          118,
          119,
          120,
          121,
          122,
          123,
          124,
          125,
          126,
          127,
          128,
          129,
          130,
          131,
          132,
          133,
          134,
          135,
          136,
          137,
          138,
          139,
          140,
          141,
          142,
          143,
          144,
          145,
          146,
          147,
          148,
          149
         ],
         "y": [
          458,
          429,
          383,
          402,
          388,
          356,
          326,
          311,
          342,
          322,
          342,
          319,
          346,
          351,
          313,
          318,
          372,
          327,
          337,
          332,
          355,
          325,
          335,
          346,
          341,
          330,
          334,
          318,
          335,
          330,
          304,
          356,
          319,
          311,
          352,
          348,
          346,
          317,
          343,
          321,
          372,
          308,
          331,
          327,
          324,
          359,
          344,
          342,
          322,
          345,
          321,
          368,
          334,
          361,
          319,
          337,
          321,
          319,
          277,
          350,
          337,
          350,
          334,
          344,
          339,
          313,
          354,
          365,
          323,
          331,
          349,
          328,
          342,
          341,
          347,
          329,
          323,
          338,
          321,
          342,
          349,
          337,
          356,
          331,
          293,
          342,
          326,
          313,
          337,
          371,
          295,
          357,
          332,
          328,
          323,
          330,
          289,
          372,
          348,
          356,
          308,
          321,
          352,
          320,
          339,
          353,
          326,
          337,
          326,
          344,
          328,
          349,
          335,
          352,
          318,
          334,
          327,
          326,
          326,
          378,
          358,
          360,
          340,
          332,
          346,
          337,
          352,
          318,
          338,
          331,
          324,
          337,
          317,
          304,
          331,
          343,
          300,
          321,
          348,
          352,
          318,
          327,
          326,
          326,
          336,
          366,
          312,
          308,
          323,
          294
         ]
        }
       ],
       "layout": {
        "font": {
         "color": "white",
         "family": "system-ui",
         "size": 14
        },
        "paper_bgcolor": "rgba(0,0,0,0)",
        "plot_bgcolor": "Gainsboro",
        "template": {
         "data": {
          "bar": [
           {
            "error_x": {
             "color": "#2a3f5f"
            },
            "error_y": {
             "color": "#2a3f5f"
            },
            "marker": {
             "line": {
              "color": "#E5ECF6",
              "width": 0.5
             },
             "pattern": {
              "fillmode": "overlay",
              "size": 10,
              "solidity": 0.2
             }
            },
            "type": "bar"
           }
          ],
          "barpolar": [
           {
            "marker": {
             "line": {
              "color": "#E5ECF6",
              "width": 0.5
             },
             "pattern": {
              "fillmode": "overlay",
              "size": 10,
              "solidity": 0.2
             }
            },
            "type": "barpolar"
           }
          ],
          "carpet": [
           {
            "aaxis": {
             "endlinecolor": "#2a3f5f",
             "gridcolor": "white",
             "linecolor": "white",
             "minorgridcolor": "white",
             "startlinecolor": "#2a3f5f"
            },
            "baxis": {
             "endlinecolor": "#2a3f5f",
             "gridcolor": "white",
             "linecolor": "white",
             "minorgridcolor": "white",
             "startlinecolor": "#2a3f5f"
            },
            "type": "carpet"
           }
          ],
          "choropleth": [
           {
            "colorbar": {
             "outlinewidth": 0,
             "ticks": ""
            },
            "type": "choropleth"
           }
          ],
          "contour": [
           {
            "colorbar": {
             "outlinewidth": 0,
             "ticks": ""
            },
            "colorscale": [
             [
              0,
              "#0d0887"
             ],
             [
              0.1111111111111111,
              "#46039f"
             ],
             [
              0.2222222222222222,
              "#7201a8"
             ],
             [
              0.3333333333333333,
              "#9c179e"
             ],
             [
              0.4444444444444444,
              "#bd3786"
             ],
             [
              0.5555555555555556,
              "#d8576b"
             ],
             [
              0.6666666666666666,
              "#ed7953"
             ],
             [
              0.7777777777777778,
              "#fb9f3a"
             ],
             [
              0.8888888888888888,
              "#fdca26"
             ],
             [
              1,
              "#f0f921"
             ]
            ],
            "type": "contour"
           }
          ],
          "contourcarpet": [
           {
            "colorbar": {
             "outlinewidth": 0,
             "ticks": ""
            },
            "type": "contourcarpet"
           }
          ],
          "heatmap": [
           {
            "colorbar": {
             "outlinewidth": 0,
             "ticks": ""
            },
            "colorscale": [
             [
              0,
              "#0d0887"
             ],
             [
              0.1111111111111111,
              "#46039f"
             ],
             [
              0.2222222222222222,
              "#7201a8"
             ],
             [
              0.3333333333333333,
              "#9c179e"
             ],
             [
              0.4444444444444444,
              "#bd3786"
             ],
             [
              0.5555555555555556,
              "#d8576b"
             ],
             [
              0.6666666666666666,
              "#ed7953"
             ],
             [
              0.7777777777777778,
              "#fb9f3a"
             ],
             [
              0.8888888888888888,
              "#fdca26"
             ],
             [
              1,
              "#f0f921"
             ]
            ],
            "type": "heatmap"
           }
          ],
          "heatmapgl": [
           {
            "colorbar": {
             "outlinewidth": 0,
             "ticks": ""
            },
            "colorscale": [
             [
              0,
              "#0d0887"
             ],
             [
              0.1111111111111111,
              "#46039f"
             ],
             [
              0.2222222222222222,
              "#7201a8"
             ],
             [
              0.3333333333333333,
              "#9c179e"
             ],
             [
              0.4444444444444444,
              "#bd3786"
             ],
             [
              0.5555555555555556,
              "#d8576b"
             ],
             [
              0.6666666666666666,
              "#ed7953"
             ],
             [
              0.7777777777777778,
              "#fb9f3a"
             ],
             [
              0.8888888888888888,
              "#fdca26"
             ],
             [
              1,
              "#f0f921"
             ]
            ],
            "type": "heatmapgl"
           }
          ],
          "histogram": [
           {
            "marker": {
             "pattern": {
              "fillmode": "overlay",
              "size": 10,
              "solidity": 0.2
             }
            },
            "type": "histogram"
           }
          ],
          "histogram2d": [
           {
            "colorbar": {
             "outlinewidth": 0,
             "ticks": ""
            },
            "colorscale": [
             [
              0,
              "#0d0887"
             ],
             [
              0.1111111111111111,
              "#46039f"
             ],
             [
              0.2222222222222222,
              "#7201a8"
             ],
             [
              0.3333333333333333,
              "#9c179e"
             ],
             [
              0.4444444444444444,
              "#bd3786"
             ],
             [
              0.5555555555555556,
              "#d8576b"
             ],
             [
              0.6666666666666666,
              "#ed7953"
             ],
             [
              0.7777777777777778,
              "#fb9f3a"
             ],
             [
              0.8888888888888888,
              "#fdca26"
             ],
             [
              1,
              "#f0f921"
             ]
            ],
            "type": "histogram2d"
           }
          ],
          "histogram2dcontour": [
           {
            "colorbar": {
             "outlinewidth": 0,
             "ticks": ""
            },
            "colorscale": [
             [
              0,
              "#0d0887"
             ],
             [
              0.1111111111111111,
              "#46039f"
             ],
             [
              0.2222222222222222,
              "#7201a8"
             ],
             [
              0.3333333333333333,
              "#9c179e"
             ],
             [
              0.4444444444444444,
              "#bd3786"
             ],
             [
              0.5555555555555556,
              "#d8576b"
             ],
             [
              0.6666666666666666,
              "#ed7953"
             ],
             [
              0.7777777777777778,
              "#fb9f3a"
             ],
             [
              0.8888888888888888,
              "#fdca26"
             ],
             [
              1,
              "#f0f921"
             ]
            ],
            "type": "histogram2dcontour"
           }
          ],
          "mesh3d": [
           {
            "colorbar": {
             "outlinewidth": 0,
             "ticks": ""
            },
            "type": "mesh3d"
           }
          ],
          "parcoords": [
           {
            "line": {
             "colorbar": {
              "outlinewidth": 0,
              "ticks": ""
             }
            },
            "type": "parcoords"
           }
          ],
          "pie": [
           {
            "automargin": true,
            "type": "pie"
           }
          ],
          "scatter": [
           {
            "fillpattern": {
             "fillmode": "overlay",
             "size": 10,
             "solidity": 0.2
            },
            "type": "scatter"
           }
          ],
          "scatter3d": [
           {
            "line": {
             "colorbar": {
              "outlinewidth": 0,
              "ticks": ""
             }
            },
            "marker": {
             "colorbar": {
              "outlinewidth": 0,
              "ticks": ""
             }
            },
            "type": "scatter3d"
           }
          ],
          "scattercarpet": [
           {
            "marker": {
             "colorbar": {
              "outlinewidth": 0,
              "ticks": ""
             }
            },
            "type": "scattercarpet"
           }
          ],
          "scattergeo": [
           {
            "marker": {
             "colorbar": {
              "outlinewidth": 0,
              "ticks": ""
             }
            },
            "type": "scattergeo"
           }
          ],
          "scattergl": [
           {
            "marker": {
             "colorbar": {
              "outlinewidth": 0,
              "ticks": ""
             }
            },
            "type": "scattergl"
           }
          ],
          "scattermapbox": [
           {
            "marker": {
             "colorbar": {
              "outlinewidth": 0,
              "ticks": ""
             }
            },
            "type": "scattermapbox"
           }
          ],
          "scatterpolar": [
           {
            "marker": {
             "colorbar": {
              "outlinewidth": 0,
              "ticks": ""
             }
            },
            "type": "scatterpolar"
           }
          ],
          "scatterpolargl": [
           {
            "marker": {
             "colorbar": {
              "outlinewidth": 0,
              "ticks": ""
             }
            },
            "type": "scatterpolargl"
           }
          ],
          "scatterternary": [
           {
            "marker": {
             "colorbar": {
              "outlinewidth": 0,
              "ticks": ""
             }
            },
            "type": "scatterternary"
           }
          ],
          "surface": [
           {
            "colorbar": {
             "outlinewidth": 0,
             "ticks": ""
            },
            "colorscale": [
             [
              0,
              "#0d0887"
             ],
             [
              0.1111111111111111,
              "#46039f"
             ],
             [
              0.2222222222222222,
              "#7201a8"
             ],
             [
              0.3333333333333333,
              "#9c179e"
             ],
             [
              0.4444444444444444,
              "#bd3786"
             ],
             [
              0.5555555555555556,
              "#d8576b"
             ],
             [
              0.6666666666666666,
              "#ed7953"
             ],
             [
              0.7777777777777778,
              "#fb9f3a"
             ],
             [
              0.8888888888888888,
              "#fdca26"
             ],
             [
              1,
              "#f0f921"
             ]
            ],
            "type": "surface"
           }
          ],
          "table": [
           {
            "cells": {
             "fill": {
              "color": "#EBF0F8"
             },
             "line": {
              "color": "white"
             }
            },
            "header": {
             "fill": {
              "color": "#C8D4E3"
             },
             "line": {
              "color": "white"
             }
            },
            "type": "table"
           }
          ]
         },
         "layout": {
          "annotationdefaults": {
           "arrowcolor": "#2a3f5f",
           "arrowhead": 0,
           "arrowwidth": 1
          },
          "autotypenumbers": "strict",
          "coloraxis": {
           "colorbar": {
            "outlinewidth": 0,
            "ticks": ""
           }
          },
          "colorscale": {
           "diverging": [
            [
             0,
             "#8e0152"
            ],
            [
             0.1,
             "#c51b7d"
            ],
            [
             0.2,
             "#de77ae"
            ],
            [
             0.3,
             "#f1b6da"
            ],
            [
             0.4,
             "#fde0ef"
            ],
            [
             0.5,
             "#f7f7f7"
            ],
            [
             0.6,
             "#e6f5d0"
            ],
            [
             0.7,
             "#b8e186"
            ],
            [
             0.8,
             "#7fbc41"
            ],
            [
             0.9,
             "#4d9221"
            ],
            [
             1,
             "#276419"
            ]
           ],
           "sequential": [
            [
             0,
             "#0d0887"
            ],
            [
             0.1111111111111111,
             "#46039f"
            ],
            [
             0.2222222222222222,
             "#7201a8"
            ],
            [
             0.3333333333333333,
             "#9c179e"
            ],
            [
             0.4444444444444444,
             "#bd3786"
            ],
            [
             0.5555555555555556,
             "#d8576b"
            ],
            [
             0.6666666666666666,
             "#ed7953"
            ],
            [
             0.7777777777777778,
             "#fb9f3a"
            ],
            [
             0.8888888888888888,
             "#fdca26"
            ],
            [
             1,
             "#f0f921"
            ]
           ],
           "sequentialminus": [
            [
             0,
             "#0d0887"
            ],
            [
             0.1111111111111111,
             "#46039f"
            ],
            [
             0.2222222222222222,
             "#7201a8"
            ],
            [
             0.3333333333333333,
             "#9c179e"
            ],
            [
             0.4444444444444444,
             "#bd3786"
            ],
            [
             0.5555555555555556,
             "#d8576b"
            ],
            [
             0.6666666666666666,
             "#ed7953"
            ],
            [
             0.7777777777777778,
             "#fb9f3a"
            ],
            [
             0.8888888888888888,
             "#fdca26"
            ],
            [
             1,
             "#f0f921"
            ]
           ]
          },
          "colorway": [
           "#636efa",
           "#EF553B",
           "#00cc96",
           "#ab63fa",
           "#FFA15A",
           "#19d3f3",
           "#FF6692",
           "#B6E880",
           "#FF97FF",
           "#FECB52"
          ],
          "font": {
           "color": "#2a3f5f"
          },
          "geo": {
           "bgcolor": "white",
           "lakecolor": "white",
           "landcolor": "#E5ECF6",
           "showlakes": true,
           "showland": true,
           "subunitcolor": "white"
          },
          "hoverlabel": {
           "align": "left"
          },
          "hovermode": "closest",
          "mapbox": {
           "style": "light"
          },
          "paper_bgcolor": "white",
          "plot_bgcolor": "#E5ECF6",
          "polar": {
           "angularaxis": {
            "gridcolor": "white",
            "linecolor": "white",
            "ticks": ""
           },
           "bgcolor": "#E5ECF6",
           "radialaxis": {
            "gridcolor": "white",
            "linecolor": "white",
            "ticks": ""
           }
          },
          "scene": {
           "xaxis": {
            "backgroundcolor": "#E5ECF6",
            "gridcolor": "white",
            "gridwidth": 2,
            "linecolor": "white",
            "showbackground": true,
            "ticks": "",
            "zerolinecolor": "white"
           },
           "yaxis": {
            "backgroundcolor": "#E5ECF6",
            "gridcolor": "white",
            "gridwidth": 2,
            "linecolor": "white",
            "showbackground": true,
            "ticks": "",
            "zerolinecolor": "white"
           },
           "zaxis": {
            "backgroundcolor": "#E5ECF6",
            "gridcolor": "white",
            "gridwidth": 2,
            "linecolor": "white",
            "showbackground": true,
            "ticks": "",
            "zerolinecolor": "white"
           }
          },
          "shapedefaults": {
           "line": {
            "color": "#2a3f5f"
           }
          },
          "ternary": {
           "aaxis": {
            "gridcolor": "white",
            "linecolor": "white",
            "ticks": ""
           },
           "baxis": {
            "gridcolor": "white",
            "linecolor": "white",
            "ticks": ""
           },
           "bgcolor": "#E5ECF6",
           "caxis": {
            "gridcolor": "white",
            "linecolor": "white",
            "ticks": ""
           }
          },
          "title": {
           "x": 0.05
          },
          "xaxis": {
           "automargin": true,
           "gridcolor": "white",
           "linecolor": "white",
           "ticks": "",
           "title": {
            "standoff": 15
           },
           "zerolinecolor": "white",
           "zerolinewidth": 2
          },
          "yaxis": {
           "automargin": true,
           "gridcolor": "white",
           "linecolor": "white",
           "ticks": "",
           "title": {
            "standoff": 15
           },
           "zerolinecolor": "white",
           "zerolinewidth": 2
          }
         }
        },
        "title": {
         "text": "Evolutia gripei in Bucuresti (noiembrie - martie)",
         "x": 0.5
        },
        "xaxis": {
         "ticktext": [
          "Nov",
          "Dec",
          "Jan",
          "Feb",
          "Mar"
         ],
         "tickvals": [
          0,
          31,
          62,
          84,
          124
         ],
         "title": {
          "text": "Zile"
         }
        },
        "yaxis": {
         "title": {
          "text": "Nr persoane infectate"
         }
        }
       }
      }
     },
     "metadata": {},
     "output_type": "display_data"
    }
   ],
   "source": [
    "# Plotting the evolution of infected numbers each day\n",
    "zile_pe_luna = [30, 31, 31, 28, 31]\n",
    "luni = ['Nov', 'Dec', 'Jan', 'Feb', 'Mar'] \n",
    "pozitie_luna = [i * zile_pe_luna[i] for i in range(len(zile_pe_luna))]\n",
    "\n",
    "fig = go.Figure()\n",
    "\n",
    "fig.add_trace(go.Scatter(\n",
    "    x=np.arange(simulare_zile), \n",
    "    y=nr_infectati_pe_zi, \n",
    "    mode='lines', \n",
    "    name='Numar infectati in perioda noiembrie - martie', \n",
    "    line=dict(color='MediumPurple', width=2)))\n",
    "\n",
    "fig.update_layout(title=dict(text='Evolutia gripei in Bucuresti (noiembrie - martie)', x=0.5),\n",
    "                   xaxis=dict(title='Zile', tickvals=pozitie_luna, ticktext=luni),\n",
    "                   yaxis_title='Nr persoane infectate',\n",
    "                   paper_bgcolor='rgba(0,0,0,0)',\n",
    "                   font=dict(family='system-ui', size=14, color='white'),\n",
    "                   plot_bgcolor='Gainsboro', )\n",
    "fig.show()"
   ]
  },
  {
   "cell_type": "code",
   "execution_count": 61,
   "metadata": {},
   "outputs": [
    {
     "name": "stdout",
     "output_type": "stream",
     "text": [
      "Nr infectati pe zi in sectorul 1: [51, 51, 37, 38, 48, 45, 36, 49, 37, 33, 27, 52, 35, 38, 42, 34, 30, 32, 32, 33, 30, 36, 47, 39, 28, 30, 35, 36, 37, 44, 36, 36, 38, 45, 35, 44, 32, 50, 37, 44, 43, 32, 34, 31, 44, 38, 49, 42, 37, 41, 38, 30, 32, 42, 41, 34, 44, 46, 36, 42, 32, 40, 48, 39, 38, 40, 27, 31, 41, 39, 31, 39, 31, 37, 33, 48, 37, 43, 47, 32, 43, 27, 31, 38, 40, 45, 29, 33, 33, 41, 41, 35, 30, 39, 45, 36, 28, 40, 46, 41, 33, 28, 29, 39, 39, 34, 38, 48, 33, 43, 39, 54, 32, 37, 36, 42, 45, 39, 47, 30, 45, 47, 37, 32, 43, 38, 36, 44, 35, 33, 51, 38, 40, 37, 45, 35, 30, 49, 39, 38, 45, 37, 37, 33, 40, 34, 40, 44, 42, 29]\n",
      "\n",
      "Nr infectati pe zi in sectorul 2: [60, 43, 52, 57, 56, 47, 59, 52, 47, 36, 44, 47, 44, 50, 40, 46, 39, 51, 52, 54, 50, 56, 50, 38, 52, 48, 52, 44, 45, 55, 49, 46, 53, 44, 64, 48, 54, 53, 49, 44, 47, 47, 52, 39, 49, 45, 47, 47, 46, 37, 48, 40, 45, 57, 48, 42, 46, 45, 49, 41, 42, 45, 61, 44, 47, 41, 58, 40, 48, 43, 49, 47, 55, 49, 58, 49, 52, 60, 48, 41, 43, 43, 48, 53, 54, 44, 40, 40, 49, 27, 59, 57, 60, 45, 42, 50, 58, 67, 44, 40, 49, 49, 48, 43, 42, 40, 56, 47, 57, 57, 39, 47, 51, 44, 42, 52, 39, 49, 58, 39, 49, 38, 44, 46, 46, 55, 49, 49, 49, 44, 37, 52, 42, 58, 50, 50, 55, 45, 62, 60, 51, 39, 57, 47, 39, 44, 49, 36, 44, 55]\n",
      "\n",
      "Nr infectati pe zi in sectorul 3: [104, 97, 111, 80, 91, 77, 86, 65, 75, 61, 76, 78, 65, 86, 85, 68, 73, 73, 74, 70, 63, 71, 73, 85, 82, 80, 70, 59, 73, 86, 75, 84, 88, 94, 82, 79, 80, 62, 84, 69, 80, 94, 92, 64, 88, 86, 78, 82, 60, 80, 68, 66, 73, 62, 76, 89, 73, 72, 69, 82, 77, 89, 87, 86, 73, 61, 80, 83, 82, 80, 75, 78, 66, 86, 71, 68, 91, 75, 94, 77, 70, 77, 77, 81, 81, 97, 81, 81, 72, 79, 82, 77, 80, 65, 58, 80, 73, 78, 73, 65, 81, 73, 73, 95, 77, 85, 68, 75, 70, 87, 74, 79, 88, 83, 78, 80, 82, 63, 64, 77, 75, 78, 53, 85, 81, 81, 77, 79, 64, 75, 72, 74, 83, 64, 87, 75, 85, 75, 67, 71, 77, 76, 65, 70, 68, 82, 84, 73, 70, 73]\n",
      "\n",
      "Nr infectati pe zi in sectorul 4: [48, 43, 49, 51, 47, 45, 42, 39, 50, 31, 51, 47, 63, 40, 47, 29, 44, 39, 48, 35, 44, 45, 36, 50, 53, 49, 43, 45, 43, 58, 43, 50, 44, 43, 49, 41, 49, 48, 43, 33, 45, 50, 44, 45, 31, 39, 31, 50, 48, 47, 42, 45, 50, 50, 43, 34, 47, 36, 37, 49, 44, 59, 48, 44, 53, 34, 38, 29, 44, 35, 39, 35, 43, 54, 48, 58, 45, 49, 31, 40, 45, 48, 29, 39, 35, 30, 38, 47, 54, 39, 67, 43, 37, 51, 35, 62, 39, 49, 54, 37, 45, 42, 35, 49, 35, 38, 34, 47, 40, 50, 41, 47, 48, 39, 53, 50, 55, 47, 40, 46, 44, 45, 51, 40, 41, 34, 48, 43, 38, 47, 49, 32, 41, 41, 46, 41, 47, 53, 52, 46, 57, 50, 46, 42, 51, 42, 50, 45, 44, 32]\n",
      "\n",
      "Nr infectati pe zi in sectorul 5: [40, 47, 36, 43, 36, 24, 19, 35, 36, 33, 34, 38, 38, 25, 20, 37, 45, 27, 36, 33, 36, 42, 41, 40, 28, 45, 42, 39, 27, 29, 49, 36, 40, 42, 38, 46, 36, 34, 30, 34, 39, 29, 44, 33, 31, 38, 41, 49, 29, 32, 48, 34, 30, 40, 36, 33, 33, 38, 33, 31, 39, 29, 40, 41, 36, 29, 32, 31, 43, 40, 29, 40, 38, 26, 34, 19, 35, 30, 41, 50, 36, 38, 37, 36, 29, 41, 32, 36, 36, 37, 29, 31, 45, 31, 23, 32, 38, 41, 43, 23, 34, 38, 35, 32, 27, 31, 31, 38, 36, 30, 45, 41, 32, 30, 36, 42, 42, 36, 41, 43, 34, 35, 33, 30, 42, 36, 38, 38, 31, 33, 37, 35, 40, 39, 41, 41, 35, 31, 39, 28, 42, 34, 41, 36, 35, 31, 41, 33, 32, 32]\n",
      "\n",
      "Nr infectati pe zi in sectorul 6: [54, 59, 49, 66, 48, 59, 58, 63, 49, 49, 45, 54, 50, 49, 57, 44, 55, 52, 47, 44, 52, 33, 49, 39, 51, 46, 49, 57, 47, 46, 54, 48, 60, 48, 60, 48, 50, 54, 53, 46, 47, 44, 38, 42, 53, 48, 52, 54, 51, 47, 60, 51, 49, 49, 62, 39, 51, 46, 36, 31, 46, 50, 40, 56, 47, 59, 50, 52, 48, 57, 57, 42, 51, 41, 52, 53, 44, 58, 55, 48, 38, 55, 43, 40, 59, 51, 50, 37, 44, 55, 64, 48, 48, 46, 40, 52, 50, 53, 47, 58, 53, 42, 51, 43, 59, 61, 44, 51, 47, 41, 41, 51, 45, 47, 59, 52, 55, 50, 54, 55, 47, 45, 36, 47, 58, 42, 44, 63, 51, 33, 55, 62, 50, 36, 48, 50, 40, 45, 46, 52, 47, 51, 36, 46, 47, 52, 32, 48, 49, 51]\n",
      "\n"
     ]
    }
   ],
   "source": [
    "# Simulation parameters per sector\n",
    "populatie_simulata_sectoare = np.array([1192, 1745, 2244, 1546, 1422, 1849])  # Simulated population for each sector\n",
    "prob_infectare_sectoare = np.random.uniform(0.03, 0.05, nr_sectoare)          # Infection probability per sector\n",
    "\n",
    "# Initialize recovery arrays for each sector\n",
    "nr_zile_refacere_sectoare = [np.zeros(pop, dtype=int) for pop in populatie_simulata_sectoare]\n",
    "\n",
    "# List to hold the number of infected individuals per day for each sector\n",
    "nr_infectati_pe_zi_sectoare = [[] for _ in range(nr_sectoare)]\n",
    "\n",
    "for zi in range(simulare_zile):\n",
    "    for s in range(nr_sectoare):\n",
    "        # Determine those who are susceptible to infection (not recovering)\n",
    "        posibil_infectati = nr_zile_refacere_sectoare[s] == 0\n",
    "        sansa_infectare = np.random.rand(populatie_simulata_sectoare[s])\n",
    "\n",
    "        # Determine new infections\n",
    "        infectati = posibil_infectati & (sansa_infectare < prob_infectare_sectoare[s])\n",
    "        nr_infectati_pe_zi_sectoare[s].append(np.sum(infectati))\n",
    "\n",
    "        # Set recovery days for newly infected individuals\n",
    "        nr_zile_refacere_sectoare[s][infectati] = np.random.randint(7, 11, size=np.sum(infectati))\n",
    "\n",
    "        # Decrement recovery days for those who are still in recovery\n",
    "        nr_zile_refacere_sectoare[s][nr_zile_refacere_sectoare[s] > 0] -= 1\n",
    "\n",
    "# Display results for each district\n",
    "for s in range(nr_sectoare):\n",
    "    print(f\"Nr infectati pe zi in sectorul {s+1}: {nr_infectati_pe_zi_sectoare[s]}\\n\")\n"
   ]
  },
  {
   "cell_type": "code",
   "execution_count": 62,
   "metadata": {},
   "outputs": [
    {
     "name": "stdout",
     "output_type": "stream",
     "text": [
      "     Sector  Infection Rate\n",
      "0  Sector 1        4.821309\n",
      "1  Sector 2        4.135244\n",
      "2  Sector 3        5.153743\n",
      "3  Sector 4        4.286546\n",
      "4  Sector 5        3.759494\n",
      "5  Sector 6        3.994051\n"
     ]
    },
    {
     "data": {
      "application/vnd.plotly.v1+json": {
       "config": {
        "plotlyServerURL": "https://plot.ly"
       },
       "data": [
        {
         "coloraxis": "coloraxis",
         "featureidkey": "properties.tags.name",
         "geo": "geo",
         "geojson": "/Users/alexandrazamfirescu/Bucharest_Streets/Flu_Spread_Simulation/BucurestiSectoare.geo.json",
         "hovertemplate": "Sector=%{location}<br>Infection Rate=%{z}<extra></extra>",
         "locations": [
          "Sector 1",
          "Sector 2",
          "Sector 3",
          "Sector 4",
          "Sector 5",
          "Sector 6"
         ],
         "name": "",
         "type": "choropleth",
         "z": [
          4.821308724832215,
          4.135243553008596,
          5.153743315508021,
          4.286545924967658,
          3.759493670886076,
          3.9940508382909683
         ]
        }
       ],
       "layout": {
        "coloraxis": {
         "colorbar": {
          "title": {
           "text": "Infection Rate"
          }
         },
         "colorscale": [
          [
           0,
           "#30123b"
          ],
          [
           0.07142857142857142,
           "#4145ab"
          ],
          [
           0.14285714285714285,
           "#4675ed"
          ],
          [
           0.21428571428571427,
           "#39a2fc"
          ],
          [
           0.2857142857142857,
           "#1bcfd4"
          ],
          [
           0.35714285714285715,
           "#24eca6"
          ],
          [
           0.42857142857142855,
           "#61fc6c"
          ],
          [
           0.5,
           "#a4fc3b"
          ],
          [
           0.5714285714285714,
           "#d1e834"
          ],
          [
           0.6428571428571429,
           "#f3c63a"
          ],
          [
           0.7142857142857143,
           "#fe9b2d"
          ],
          [
           0.7857142857142857,
           "#f36315"
          ],
          [
           0.8571428571428571,
           "#d93806"
          ],
          [
           0.9285714285714286,
           "#b11901"
          ],
          [
           1,
           "#7a0402"
          ]
         ]
        },
        "geo": {
         "center": {},
         "domain": {
          "x": [
           0,
           1
          ],
          "y": [
           0,
           1
          ]
         },
         "fitbounds": "locations",
         "projection": {
          "type": "mercator"
         },
         "visible": false
        },
        "legend": {
         "tracegroupgap": 0
        },
        "margin": {
         "b": 0,
         "l": 0,
         "r": 0,
         "t": 40
        },
        "template": {
         "data": {
          "bar": [
           {
            "error_x": {
             "color": "#2a3f5f"
            },
            "error_y": {
             "color": "#2a3f5f"
            },
            "marker": {
             "line": {
              "color": "#E5ECF6",
              "width": 0.5
             },
             "pattern": {
              "fillmode": "overlay",
              "size": 10,
              "solidity": 0.2
             }
            },
            "type": "bar"
           }
          ],
          "barpolar": [
           {
            "marker": {
             "line": {
              "color": "#E5ECF6",
              "width": 0.5
             },
             "pattern": {
              "fillmode": "overlay",
              "size": 10,
              "solidity": 0.2
             }
            },
            "type": "barpolar"
           }
          ],
          "carpet": [
           {
            "aaxis": {
             "endlinecolor": "#2a3f5f",
             "gridcolor": "white",
             "linecolor": "white",
             "minorgridcolor": "white",
             "startlinecolor": "#2a3f5f"
            },
            "baxis": {
             "endlinecolor": "#2a3f5f",
             "gridcolor": "white",
             "linecolor": "white",
             "minorgridcolor": "white",
             "startlinecolor": "#2a3f5f"
            },
            "type": "carpet"
           }
          ],
          "choropleth": [
           {
            "colorbar": {
             "outlinewidth": 0,
             "ticks": ""
            },
            "type": "choropleth"
           }
          ],
          "contour": [
           {
            "colorbar": {
             "outlinewidth": 0,
             "ticks": ""
            },
            "colorscale": [
             [
              0,
              "#0d0887"
             ],
             [
              0.1111111111111111,
              "#46039f"
             ],
             [
              0.2222222222222222,
              "#7201a8"
             ],
             [
              0.3333333333333333,
              "#9c179e"
             ],
             [
              0.4444444444444444,
              "#bd3786"
             ],
             [
              0.5555555555555556,
              "#d8576b"
             ],
             [
              0.6666666666666666,
              "#ed7953"
             ],
             [
              0.7777777777777778,
              "#fb9f3a"
             ],
             [
              0.8888888888888888,
              "#fdca26"
             ],
             [
              1,
              "#f0f921"
             ]
            ],
            "type": "contour"
           }
          ],
          "contourcarpet": [
           {
            "colorbar": {
             "outlinewidth": 0,
             "ticks": ""
            },
            "type": "contourcarpet"
           }
          ],
          "heatmap": [
           {
            "colorbar": {
             "outlinewidth": 0,
             "ticks": ""
            },
            "colorscale": [
             [
              0,
              "#0d0887"
             ],
             [
              0.1111111111111111,
              "#46039f"
             ],
             [
              0.2222222222222222,
              "#7201a8"
             ],
             [
              0.3333333333333333,
              "#9c179e"
             ],
             [
              0.4444444444444444,
              "#bd3786"
             ],
             [
              0.5555555555555556,
              "#d8576b"
             ],
             [
              0.6666666666666666,
              "#ed7953"
             ],
             [
              0.7777777777777778,
              "#fb9f3a"
             ],
             [
              0.8888888888888888,
              "#fdca26"
             ],
             [
              1,
              "#f0f921"
             ]
            ],
            "type": "heatmap"
           }
          ],
          "heatmapgl": [
           {
            "colorbar": {
             "outlinewidth": 0,
             "ticks": ""
            },
            "colorscale": [
             [
              0,
              "#0d0887"
             ],
             [
              0.1111111111111111,
              "#46039f"
             ],
             [
              0.2222222222222222,
              "#7201a8"
             ],
             [
              0.3333333333333333,
              "#9c179e"
             ],
             [
              0.4444444444444444,
              "#bd3786"
             ],
             [
              0.5555555555555556,
              "#d8576b"
             ],
             [
              0.6666666666666666,
              "#ed7953"
             ],
             [
              0.7777777777777778,
              "#fb9f3a"
             ],
             [
              0.8888888888888888,
              "#fdca26"
             ],
             [
              1,
              "#f0f921"
             ]
            ],
            "type": "heatmapgl"
           }
          ],
          "histogram": [
           {
            "marker": {
             "pattern": {
              "fillmode": "overlay",
              "size": 10,
              "solidity": 0.2
             }
            },
            "type": "histogram"
           }
          ],
          "histogram2d": [
           {
            "colorbar": {
             "outlinewidth": 0,
             "ticks": ""
            },
            "colorscale": [
             [
              0,
              "#0d0887"
             ],
             [
              0.1111111111111111,
              "#46039f"
             ],
             [
              0.2222222222222222,
              "#7201a8"
             ],
             [
              0.3333333333333333,
              "#9c179e"
             ],
             [
              0.4444444444444444,
              "#bd3786"
             ],
             [
              0.5555555555555556,
              "#d8576b"
             ],
             [
              0.6666666666666666,
              "#ed7953"
             ],
             [
              0.7777777777777778,
              "#fb9f3a"
             ],
             [
              0.8888888888888888,
              "#fdca26"
             ],
             [
              1,
              "#f0f921"
             ]
            ],
            "type": "histogram2d"
           }
          ],
          "histogram2dcontour": [
           {
            "colorbar": {
             "outlinewidth": 0,
             "ticks": ""
            },
            "colorscale": [
             [
              0,
              "#0d0887"
             ],
             [
              0.1111111111111111,
              "#46039f"
             ],
             [
              0.2222222222222222,
              "#7201a8"
             ],
             [
              0.3333333333333333,
              "#9c179e"
             ],
             [
              0.4444444444444444,
              "#bd3786"
             ],
             [
              0.5555555555555556,
              "#d8576b"
             ],
             [
              0.6666666666666666,
              "#ed7953"
             ],
             [
              0.7777777777777778,
              "#fb9f3a"
             ],
             [
              0.8888888888888888,
              "#fdca26"
             ],
             [
              1,
              "#f0f921"
             ]
            ],
            "type": "histogram2dcontour"
           }
          ],
          "mesh3d": [
           {
            "colorbar": {
             "outlinewidth": 0,
             "ticks": ""
            },
            "type": "mesh3d"
           }
          ],
          "parcoords": [
           {
            "line": {
             "colorbar": {
              "outlinewidth": 0,
              "ticks": ""
             }
            },
            "type": "parcoords"
           }
          ],
          "pie": [
           {
            "automargin": true,
            "type": "pie"
           }
          ],
          "scatter": [
           {
            "fillpattern": {
             "fillmode": "overlay",
             "size": 10,
             "solidity": 0.2
            },
            "type": "scatter"
           }
          ],
          "scatter3d": [
           {
            "line": {
             "colorbar": {
              "outlinewidth": 0,
              "ticks": ""
             }
            },
            "marker": {
             "colorbar": {
              "outlinewidth": 0,
              "ticks": ""
             }
            },
            "type": "scatter3d"
           }
          ],
          "scattercarpet": [
           {
            "marker": {
             "colorbar": {
              "outlinewidth": 0,
              "ticks": ""
             }
            },
            "type": "scattercarpet"
           }
          ],
          "scattergeo": [
           {
            "marker": {
             "colorbar": {
              "outlinewidth": 0,
              "ticks": ""
             }
            },
            "type": "scattergeo"
           }
          ],
          "scattergl": [
           {
            "marker": {
             "colorbar": {
              "outlinewidth": 0,
              "ticks": ""
             }
            },
            "type": "scattergl"
           }
          ],
          "scattermapbox": [
           {
            "marker": {
             "colorbar": {
              "outlinewidth": 0,
              "ticks": ""
             }
            },
            "type": "scattermapbox"
           }
          ],
          "scatterpolar": [
           {
            "marker": {
             "colorbar": {
              "outlinewidth": 0,
              "ticks": ""
             }
            },
            "type": "scatterpolar"
           }
          ],
          "scatterpolargl": [
           {
            "marker": {
             "colorbar": {
              "outlinewidth": 0,
              "ticks": ""
             }
            },
            "type": "scatterpolargl"
           }
          ],
          "scatterternary": [
           {
            "marker": {
             "colorbar": {
              "outlinewidth": 0,
              "ticks": ""
             }
            },
            "type": "scatterternary"
           }
          ],
          "surface": [
           {
            "colorbar": {
             "outlinewidth": 0,
             "ticks": ""
            },
            "colorscale": [
             [
              0,
              "#0d0887"
             ],
             [
              0.1111111111111111,
              "#46039f"
             ],
             [
              0.2222222222222222,
              "#7201a8"
             ],
             [
              0.3333333333333333,
              "#9c179e"
             ],
             [
              0.4444444444444444,
              "#bd3786"
             ],
             [
              0.5555555555555556,
              "#d8576b"
             ],
             [
              0.6666666666666666,
              "#ed7953"
             ],
             [
              0.7777777777777778,
              "#fb9f3a"
             ],
             [
              0.8888888888888888,
              "#fdca26"
             ],
             [
              1,
              "#f0f921"
             ]
            ],
            "type": "surface"
           }
          ],
          "table": [
           {
            "cells": {
             "fill": {
              "color": "#EBF0F8"
             },
             "line": {
              "color": "white"
             }
            },
            "header": {
             "fill": {
              "color": "#C8D4E3"
             },
             "line": {
              "color": "white"
             }
            },
            "type": "table"
           }
          ]
         },
         "layout": {
          "annotationdefaults": {
           "arrowcolor": "#2a3f5f",
           "arrowhead": 0,
           "arrowwidth": 1
          },
          "autotypenumbers": "strict",
          "coloraxis": {
           "colorbar": {
            "outlinewidth": 0,
            "ticks": ""
           }
          },
          "colorscale": {
           "diverging": [
            [
             0,
             "#8e0152"
            ],
            [
             0.1,
             "#c51b7d"
            ],
            [
             0.2,
             "#de77ae"
            ],
            [
             0.3,
             "#f1b6da"
            ],
            [
             0.4,
             "#fde0ef"
            ],
            [
             0.5,
             "#f7f7f7"
            ],
            [
             0.6,
             "#e6f5d0"
            ],
            [
             0.7,
             "#b8e186"
            ],
            [
             0.8,
             "#7fbc41"
            ],
            [
             0.9,
             "#4d9221"
            ],
            [
             1,
             "#276419"
            ]
           ],
           "sequential": [
            [
             0,
             "#0d0887"
            ],
            [
             0.1111111111111111,
             "#46039f"
            ],
            [
             0.2222222222222222,
             "#7201a8"
            ],
            [
             0.3333333333333333,
             "#9c179e"
            ],
            [
             0.4444444444444444,
             "#bd3786"
            ],
            [
             0.5555555555555556,
             "#d8576b"
            ],
            [
             0.6666666666666666,
             "#ed7953"
            ],
            [
             0.7777777777777778,
             "#fb9f3a"
            ],
            [
             0.8888888888888888,
             "#fdca26"
            ],
            [
             1,
             "#f0f921"
            ]
           ],
           "sequentialminus": [
            [
             0,
             "#0d0887"
            ],
            [
             0.1111111111111111,
             "#46039f"
            ],
            [
             0.2222222222222222,
             "#7201a8"
            ],
            [
             0.3333333333333333,
             "#9c179e"
            ],
            [
             0.4444444444444444,
             "#bd3786"
            ],
            [
             0.5555555555555556,
             "#d8576b"
            ],
            [
             0.6666666666666666,
             "#ed7953"
            ],
            [
             0.7777777777777778,
             "#fb9f3a"
            ],
            [
             0.8888888888888888,
             "#fdca26"
            ],
            [
             1,
             "#f0f921"
            ]
           ]
          },
          "colorway": [
           "#636efa",
           "#EF553B",
           "#00cc96",
           "#ab63fa",
           "#FFA15A",
           "#19d3f3",
           "#FF6692",
           "#B6E880",
           "#FF97FF",
           "#FECB52"
          ],
          "font": {
           "color": "#2a3f5f"
          },
          "geo": {
           "bgcolor": "white",
           "lakecolor": "white",
           "landcolor": "#E5ECF6",
           "showlakes": true,
           "showland": true,
           "subunitcolor": "white"
          },
          "hoverlabel": {
           "align": "left"
          },
          "hovermode": "closest",
          "mapbox": {
           "style": "light"
          },
          "paper_bgcolor": "white",
          "plot_bgcolor": "#E5ECF6",
          "polar": {
           "angularaxis": {
            "gridcolor": "white",
            "linecolor": "white",
            "ticks": ""
           },
           "bgcolor": "#E5ECF6",
           "radialaxis": {
            "gridcolor": "white",
            "linecolor": "white",
            "ticks": ""
           }
          },
          "scene": {
           "xaxis": {
            "backgroundcolor": "#E5ECF6",
            "gridcolor": "white",
            "gridwidth": 2,
            "linecolor": "white",
            "showbackground": true,
            "ticks": "",
            "zerolinecolor": "white"
           },
           "yaxis": {
            "backgroundcolor": "#E5ECF6",
            "gridcolor": "white",
            "gridwidth": 2,
            "linecolor": "white",
            "showbackground": true,
            "ticks": "",
            "zerolinecolor": "white"
           },
           "zaxis": {
            "backgroundcolor": "#E5ECF6",
            "gridcolor": "white",
            "gridwidth": 2,
            "linecolor": "white",
            "showbackground": true,
            "ticks": "",
            "zerolinecolor": "white"
           }
          },
          "shapedefaults": {
           "line": {
            "color": "#2a3f5f"
           }
          },
          "ternary": {
           "aaxis": {
            "gridcolor": "white",
            "linecolor": "white",
            "ticks": ""
           },
           "baxis": {
            "gridcolor": "white",
            "linecolor": "white",
            "ticks": ""
           },
           "bgcolor": "#E5ECF6",
           "caxis": {
            "gridcolor": "white",
            "linecolor": "white",
            "ticks": ""
           }
          },
          "title": {
           "x": 0.05
          },
          "xaxis": {
           "automargin": true,
           "gridcolor": "white",
           "linecolor": "white",
           "ticks": "",
           "title": {
            "standoff": 15
           },
           "zerolinecolor": "white",
           "zerolinewidth": 2
          },
          "yaxis": {
           "automargin": true,
           "gridcolor": "white",
           "linecolor": "white",
           "ticks": "",
           "title": {
            "standoff": 15
           },
           "zerolinecolor": "white",
           "zerolinewidth": 2
          }
         }
        },
        "title": {
         "text": "Rata de infectare cu gripa in fiecare sector",
         "x": 0.5
        }
       }
      }
     },
     "metadata": {},
     "output_type": "display_data"
    }
   ],
   "source": [
    "# Calculate total infections for each sector\n",
    "infectii_pe_sector_toate_zilele = [sum(nr_infectati_pe_zi_sectoare[s]) for s in range(nr_sectoare)]\n",
    "\n",
    "# Calculate infection rates for each sector\n",
    "infectie_rate_sectoare = [infectii / populatie_simulata_sectoare[s] for s, infectii in enumerate(infectii_pe_sector_toate_zilele)] \n",
    "\n",
    "# Define sector labels that match the GeoJSON\n",
    "idx_sector = ['Sector 1', 'Sector 2', 'Sector 3', 'Sector 4', 'Sector 5', 'Sector 6']\n",
    "\n",
    "# Create a DataFrame with the sector labels and infection rates\n",
    "data_rate = pd.DataFrame({'Sector': idx_sector, 'Infection Rate': infectie_rate_sectoare})\n",
    "print(data_rate)\n",
    "\n",
    "# Load the GeoJSON file for Bucharest sectors\n",
    "geojson_fisier = '/Users/alexandrazamfirescu/Bucharest_Streets/Flu_Spread_Simulation/BucurestiSectoare.geo.json'\n",
    "\n",
    "with open(geojson_fisier) as f:\n",
    "    geojson = json.load(f)\n",
    "\n",
    "# Plot the choropleth map for infection rates\n",
    "fig = px.choropleth(\n",
    "    data_frame=data_rate,\n",
    "    geojson=geojson_fisier,\n",
    "    locations='Sector',\n",
    "    featureidkey='properties.tags.name',  # Ensure this matches your GeoJSON\n",
    "    color='Infection Rate',\n",
    "    color_continuous_scale='Turbo',\n",
    "    labels={'Infection Rate': 'Infection Rate'},\n",
    "    projection='mercator'\n",
    ")\n",
    "fig.update_geos(fitbounds=\"locations\", visible=False)\n",
    "fig.update_layout(\n",
    "    title=dict(text='Rata de infectare cu gripa in fiecare sector', x=0.5),\n",
    "    margin={\"r\":0, \"t\":40, \"l\":0, \"b\":0}\n",
    ")\n",
    "fig.show()\n"
   ]
  }
 ],
 "metadata": {
  "kernelspec": {
   "display_name": "tsimulare_env",
   "language": "python",
   "name": "python3"
  },
  "language_info": {
   "codemirror_mode": {
    "name": "ipython",
    "version": 3
   },
   "file_extension": ".py",
   "mimetype": "text/x-python",
   "name": "python",
   "nbconvert_exporter": "python",
   "pygments_lexer": "ipython3",
   "version": "3.11.10"
  }
 },
 "nbformat": 4,
 "nbformat_minor": 2
}
