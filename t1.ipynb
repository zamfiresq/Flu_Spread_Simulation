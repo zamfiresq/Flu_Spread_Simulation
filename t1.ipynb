{
 "cells": [
  {
   "cell_type": "markdown",
   "metadata": {},
   "source": [
    "# Simularea răspândirii gripei în București, utilizând metoda Monte Carlo\n",
    "\n",
    "Acest proiect folosește o simulare Monte Carlo pentru a modela răspândirea gripei în București în perioada noiembrie-martie. Simularea ia în considerare probabilitatea zilnică de infectare și timpul de recuperare pentru fiecare individ din populație, împărțită pe sectoare."
   ]
  },
  {
   "cell_type": "code",
   "execution_count": 163,
   "metadata": {},
   "outputs": [],
   "source": [
    "import numpy as np\n",
    "import random\n",
    "import pandas as pd\n",
    "import plotly.express as px\n",
    "import plotly.graph_objects as go\n",
    "import json\n",
    "\n",
    "from itertools import accumulate"
   ]
  },
  {
   "cell_type": "markdown",
   "metadata": {},
   "source": [
    "## Parametrii simulării\n",
    "\n",
    "În cadrul simulării, folosim următorii parametri:\n",
    "\n",
    "- **Populația**: 10.000 de indivizi\n",
    "- **Probabilitatea de infectare**: Valoare aleatoare între 3% și 5% pentru fiecare individ\n",
    "- **Perioada de recuperare**: 7-10 zile pentru fiecare persoană infectată\n",
    "- **Durata simulării**: 150 de zile (de la 1 noiembrie la 31 martie)\n",
    "- **Sectoare**: Simularea este detaliată la nivel de sector, considerând 6 sectoare cu populații diferite.\n",
    "\n",
    "Acești parametri au fost aleși pentru a reflecta dinamica unei epidemii de gripă într-un oraș mare.\n"
   ]
  },
  {
   "cell_type": "code",
   "execution_count": 164,
   "metadata": {},
   "outputs": [],
   "source": [
    "# parametri pentru simulare\n",
    "nr_populatie = 10000\n",
    "prob_infectare = np.random.uniform(0.03, 0.05, nr_populatie)  # probabilitatea ca un individ sa se infecteze este intre 3-5%\n",
    "nr_zile_refacere = np.zeros(nr_populatie, dtype=int)         \n",
    "simulare_zile = 150                                           # nr de zile pentru care se face simularea (1 nov - 31 martie)\n",
    "nr_sectoare = 6"
   ]
  },
  {
   "cell_type": "markdown",
   "metadata": {},
   "source": [
    "# Simularea răspândirii gripei pe întreaga populație \n",
    "\n",
    "Acest cod simulează răspândirea gripei într-o populație de mărime `nr_populatie` (populația simulată pentru întreg Bucureștiul) pe o perioadă de timp definită (`simulare_zile`).\n",
    "\n",
    "1. **Calculul Zilnic al Numărului de Infectați**:\n",
    "   - `posibil_infectati`: Persoanele care nu sunt infectate (cu zile de recuperare de 0).\n",
    "   - `sansa_infectare`: Valori aleatoare pentru fiecare persoană, reprezentând șansa de infectare zilnică.\n",
    "   - `infectati`: Persoanele care devin infectate dacă șansa lor este mai mică decât probabilitatea de infectare.\n",
    "   - **Zilele de recuperare** sunt setate între 7 și 10 zile pentru cei infectați, iar numărul zilnic de infectați este stocat în `nr_infectati_pe_zi`.\n",
    "   - Zilele de recuperare sunt decrementate zilnic pentru cei infectați până când redevin susceptibili.\n",
    "\n",
    "2. **Estimarea Probabilității de Infectare**:\n",
    "   - Simulăm infecția pentru fiecare individ pe toată durata simulării.\n",
    "   - **Estimarea finală**: Probabilitatea estimată de infectare este calculată ca raport între numărul de infecții și numărul total de persoane pe toată perioada simulată.\n",
    "\n",
    "3. **Rezultate**:\n",
    "   - `nr_infectati_pe_zi` conține numărul zilnic de infectați.\n",
    "   - `estimare` afișează probabilitatea estimată de infectare.\n",
    "\n",
    "Această metodă oferă o estimare a probabilității de infectare folosind simularea Monte Carlo.\n"
   ]
  },
  {
   "cell_type": "code",
   "execution_count": 165,
   "metadata": {},
   "outputs": [
    {
     "name": "stdout",
     "output_type": "stream",
     "text": [
      "Nr infectati pe zi:  [372, 433, 360, 348, 326, 320, 300, 290, 296, 313, 275, 320, 277, 315, 303, 298, 308, 293, 303, 310, 301, 293, 288, 320, 308, 318, 302, 321, 318, 343, 317, 306, 313, 316, 300, 340, 345, 295, 308, 296, 290, 293, 287, 295, 321, 288, 298, 328, 310, 298, 302, 334, 295, 297, 294, 337, 306, 326, 259, 285, 278, 316, 342, 301, 309, 294, 330, 324, 318, 292, 308, 320, 306, 317, 313, 275, 298, 274, 279, 314, 285, 298, 330, 268, 316, 306, 300, 289, 310, 318, 301, 314, 305, 319, 312, 275, 332, 275, 287, 300, 306, 301, 302, 341, 304, 298, 331, 318, 328, 328, 332, 286, 311, 283, 281, 286, 276, 302, 291, 306, 318, 332, 304, 300, 308, 315, 292, 331, 305, 294, 315, 334, 321, 299, 307, 317, 350, 282, 312, 326, 304, 291, 320, 329, 304, 308, 313, 308, 299, 327]\n",
      "Probabilitatea estimata de infectare: 0.039875\n"
     ]
    }
   ],
   "source": [
    "# simulam raspandirea gripei penrtu toate zilele in populatia data\n",
    "nr_infectati_pe_zi = []\n",
    "\n",
    "for zi in range(simulare_zile):\n",
    "    posibil_infectati = nr_zile_refacere == 0                           # persoanele care nu sunt inca infectate\n",
    "    sansa_infectare = np.random.rand(nr_populatie) \n",
    "    infectati = posibil_infectati & (sansa_infectare < prob_infectare)  # persoane deja infectate\n",
    "    nr_infectati_pe_zi.append(np.sum(infectati))\n",
    "\n",
    "    # setam zilele de refacere pentru persoanele infectate (intre 7-10 zile)\n",
    "    nr_zile_refacere[infectati] = np.random.randint(7, 11, size=np.sum(infectati))\n",
    "\n",
    "    # decrementam zilele de refacere pentru persoanele care sunt inca infectate\n",
    "    nr_zile_refacere[nr_zile_refacere > 0] -= 1\n",
    "\n",
    "\n",
    "print(\"Nr infectati pe zi: \", nr_infectati_pe_zi)\n",
    "\n",
    "# estimam probabilitatea de infectare cu ajutorul simularii Monte Carlo\n",
    "infected_count = 0  \n",
    "\n",
    "# rulam simularea pentru fiecare zi\n",
    "for _ in range(simulare_zile):\n",
    "    for i in range(nr_populatie):                # simulam pentru fiecare individ din populatie\n",
    "        random_value = np.random.rand()          # generarea unei valori random \n",
    "        if random_value < prob_infectare[i]:     # daca valoarea random este mai mica decat probabilitatea de infectare, atunci individul este infectat\n",
    "            infected_count += 1  \n",
    "\n",
    "# estimare \n",
    "estimated_probability = infected_count / (nr_populatie * simulare_zile)\n",
    "print(f\"Probabilitatea estimata de infectare: {estimated_probability:.6f}\")"
   ]
  },
  {
   "cell_type": "markdown",
   "metadata": {},
   "source": [
    "## Rezultate și vizualizare\n",
    "\n",
    "Rezultatele sunt reprezentate grafic folosind librăria Plotly.\n",
    "Primul grafic figurează modul în care gripa se modifică în fiecare zi, începând din luna noiembrie, până în ultima zi din martie.\n",
    "\n",
    "Acest grafic ajută la înțelegerea modului în care gripa se răspândește în oraș.\n"
   ]
  },
  {
   "cell_type": "code",
   "execution_count": 166,
   "metadata": {},
   "outputs": [
    {
     "data": {
      "application/vnd.plotly.v1+json": {
       "config": {
        "plotlyServerURL": "https://plot.ly"
       },
       "data": [
        {
         "line": {
          "color": "MediumPurple",
          "width": 2
         },
         "mode": "lines",
         "name": "Numar infectati in perioda noiembrie - martie",
         "type": "scatter",
         "x": [
          0,
          1,
          2,
          3,
          4,
          5,
          6,
          7,
          8,
          9,
          10,
          11,
          12,
          13,
          14,
          15,
          16,
          17,
          18,
          19,
          20,
          21,
          22,
          23,
          24,
          25,
          26,
          27,
          28,
          29,
          30,
          31,
          32,
          33,
          34,
          35,
          36,
          37,
          38,
          39,
          40,
          41,
          42,
          43,
          44,
          45,
          46,
          47,
          48,
          49,
          50,
          51,
          52,
          53,
          54,
          55,
          56,
          57,
          58,
          59,
          60,
          61,
          62,
          63,
          64,
          65,
          66,
          67,
          68,
          69,
          70,
          71,
          72,
          73,
          74,
          75,
          76,
          77,
          78,
          79,
          80,
          81,
          82,
          83,
          84,
          85,
          86,
          87,
          88,
          89,
          90,
          91,
          92,
          93,
          94,
          95,
          96,
          97,
          98,
          99,
          100,
          101,
          102,
          103,
          104,
          105,
          106,
          107,
          108,
          109,
          110,
          111,
          112,
          113,
          114,
          115,
          116,
          117,
          118,
          119,
          120,
          121,
          122,
          123,
          124,
          125,
          126,
          127,
          128,
          129,
          130,
          131,
          132,
          133,
          134,
          135,
          136,
          137,
          138,
          139,
          140,
          141,
          142,
          143,
          144,
          145,
          146,
          147,
          148,
          149
         ],
         "y": [
          372,
          433,
          360,
          348,
          326,
          320,
          300,
          290,
          296,
          313,
          275,
          320,
          277,
          315,
          303,
          298,
          308,
          293,
          303,
          310,
          301,
          293,
          288,
          320,
          308,
          318,
          302,
          321,
          318,
          343,
          317,
          306,
          313,
          316,
          300,
          340,
          345,
          295,
          308,
          296,
          290,
          293,
          287,
          295,
          321,
          288,
          298,
          328,
          310,
          298,
          302,
          334,
          295,
          297,
          294,
          337,
          306,
          326,
          259,
          285,
          278,
          316,
          342,
          301,
          309,
          294,
          330,
          324,
          318,
          292,
          308,
          320,
          306,
          317,
          313,
          275,
          298,
          274,
          279,
          314,
          285,
          298,
          330,
          268,
          316,
          306,
          300,
          289,
          310,
          318,
          301,
          314,
          305,
          319,
          312,
          275,
          332,
          275,
          287,
          300,
          306,
          301,
          302,
          341,
          304,
          298,
          331,
          318,
          328,
          328,
          332,
          286,
          311,
          283,
          281,
          286,
          276,
          302,
          291,
          306,
          318,
          332,
          304,
          300,
          308,
          315,
          292,
          331,
          305,
          294,
          315,
          334,
          321,
          299,
          307,
          317,
          350,
          282,
          312,
          326,
          304,
          291,
          320,
          329,
          304,
          308,
          313,
          308,
          299,
          327
         ]
        }
       ],
       "layout": {
        "font": {
         "color": "white",
         "family": "system-ui",
         "size": 14
        },
        "paper_bgcolor": "rgba(0,0,0,0)",
        "plot_bgcolor": "Gainsboro",
        "template": {
         "data": {
          "bar": [
           {
            "error_x": {
             "color": "#2a3f5f"
            },
            "error_y": {
             "color": "#2a3f5f"
            },
            "marker": {
             "line": {
              "color": "#E5ECF6",
              "width": 0.5
             },
             "pattern": {
              "fillmode": "overlay",
              "size": 10,
              "solidity": 0.2
             }
            },
            "type": "bar"
           }
          ],
          "barpolar": [
           {
            "marker": {
             "line": {
              "color": "#E5ECF6",
              "width": 0.5
             },
             "pattern": {
              "fillmode": "overlay",
              "size": 10,
              "solidity": 0.2
             }
            },
            "type": "barpolar"
           }
          ],
          "carpet": [
           {
            "aaxis": {
             "endlinecolor": "#2a3f5f",
             "gridcolor": "white",
             "linecolor": "white",
             "minorgridcolor": "white",
             "startlinecolor": "#2a3f5f"
            },
            "baxis": {
             "endlinecolor": "#2a3f5f",
             "gridcolor": "white",
             "linecolor": "white",
             "minorgridcolor": "white",
             "startlinecolor": "#2a3f5f"
            },
            "type": "carpet"
           }
          ],
          "choropleth": [
           {
            "colorbar": {
             "outlinewidth": 0,
             "ticks": ""
            },
            "type": "choropleth"
           }
          ],
          "contour": [
           {
            "colorbar": {
             "outlinewidth": 0,
             "ticks": ""
            },
            "colorscale": [
             [
              0,
              "#0d0887"
             ],
             [
              0.1111111111111111,
              "#46039f"
             ],
             [
              0.2222222222222222,
              "#7201a8"
             ],
             [
              0.3333333333333333,
              "#9c179e"
             ],
             [
              0.4444444444444444,
              "#bd3786"
             ],
             [
              0.5555555555555556,
              "#d8576b"
             ],
             [
              0.6666666666666666,
              "#ed7953"
             ],
             [
              0.7777777777777778,
              "#fb9f3a"
             ],
             [
              0.8888888888888888,
              "#fdca26"
             ],
             [
              1,
              "#f0f921"
             ]
            ],
            "type": "contour"
           }
          ],
          "contourcarpet": [
           {
            "colorbar": {
             "outlinewidth": 0,
             "ticks": ""
            },
            "type": "contourcarpet"
           }
          ],
          "heatmap": [
           {
            "colorbar": {
             "outlinewidth": 0,
             "ticks": ""
            },
            "colorscale": [
             [
              0,
              "#0d0887"
             ],
             [
              0.1111111111111111,
              "#46039f"
             ],
             [
              0.2222222222222222,
              "#7201a8"
             ],
             [
              0.3333333333333333,
              "#9c179e"
             ],
             [
              0.4444444444444444,
              "#bd3786"
             ],
             [
              0.5555555555555556,
              "#d8576b"
             ],
             [
              0.6666666666666666,
              "#ed7953"
             ],
             [
              0.7777777777777778,
              "#fb9f3a"
             ],
             [
              0.8888888888888888,
              "#fdca26"
             ],
             [
              1,
              "#f0f921"
             ]
            ],
            "type": "heatmap"
           }
          ],
          "heatmapgl": [
           {
            "colorbar": {
             "outlinewidth": 0,
             "ticks": ""
            },
            "colorscale": [
             [
              0,
              "#0d0887"
             ],
             [
              0.1111111111111111,
              "#46039f"
             ],
             [
              0.2222222222222222,
              "#7201a8"
             ],
             [
              0.3333333333333333,
              "#9c179e"
             ],
             [
              0.4444444444444444,
              "#bd3786"
             ],
             [
              0.5555555555555556,
              "#d8576b"
             ],
             [
              0.6666666666666666,
              "#ed7953"
             ],
             [
              0.7777777777777778,
              "#fb9f3a"
             ],
             [
              0.8888888888888888,
              "#fdca26"
             ],
             [
              1,
              "#f0f921"
             ]
            ],
            "type": "heatmapgl"
           }
          ],
          "histogram": [
           {
            "marker": {
             "pattern": {
              "fillmode": "overlay",
              "size": 10,
              "solidity": 0.2
             }
            },
            "type": "histogram"
           }
          ],
          "histogram2d": [
           {
            "colorbar": {
             "outlinewidth": 0,
             "ticks": ""
            },
            "colorscale": [
             [
              0,
              "#0d0887"
             ],
             [
              0.1111111111111111,
              "#46039f"
             ],
             [
              0.2222222222222222,
              "#7201a8"
             ],
             [
              0.3333333333333333,
              "#9c179e"
             ],
             [
              0.4444444444444444,
              "#bd3786"
             ],
             [
              0.5555555555555556,
              "#d8576b"
             ],
             [
              0.6666666666666666,
              "#ed7953"
             ],
             [
              0.7777777777777778,
              "#fb9f3a"
             ],
             [
              0.8888888888888888,
              "#fdca26"
             ],
             [
              1,
              "#f0f921"
             ]
            ],
            "type": "histogram2d"
           }
          ],
          "histogram2dcontour": [
           {
            "colorbar": {
             "outlinewidth": 0,
             "ticks": ""
            },
            "colorscale": [
             [
              0,
              "#0d0887"
             ],
             [
              0.1111111111111111,
              "#46039f"
             ],
             [
              0.2222222222222222,
              "#7201a8"
             ],
             [
              0.3333333333333333,
              "#9c179e"
             ],
             [
              0.4444444444444444,
              "#bd3786"
             ],
             [
              0.5555555555555556,
              "#d8576b"
             ],
             [
              0.6666666666666666,
              "#ed7953"
             ],
             [
              0.7777777777777778,
              "#fb9f3a"
             ],
             [
              0.8888888888888888,
              "#fdca26"
             ],
             [
              1,
              "#f0f921"
             ]
            ],
            "type": "histogram2dcontour"
           }
          ],
          "mesh3d": [
           {
            "colorbar": {
             "outlinewidth": 0,
             "ticks": ""
            },
            "type": "mesh3d"
           }
          ],
          "parcoords": [
           {
            "line": {
             "colorbar": {
              "outlinewidth": 0,
              "ticks": ""
             }
            },
            "type": "parcoords"
           }
          ],
          "pie": [
           {
            "automargin": true,
            "type": "pie"
           }
          ],
          "scatter": [
           {
            "fillpattern": {
             "fillmode": "overlay",
             "size": 10,
             "solidity": 0.2
            },
            "type": "scatter"
           }
          ],
          "scatter3d": [
           {
            "line": {
             "colorbar": {
              "outlinewidth": 0,
              "ticks": ""
             }
            },
            "marker": {
             "colorbar": {
              "outlinewidth": 0,
              "ticks": ""
             }
            },
            "type": "scatter3d"
           }
          ],
          "scattercarpet": [
           {
            "marker": {
             "colorbar": {
              "outlinewidth": 0,
              "ticks": ""
             }
            },
            "type": "scattercarpet"
           }
          ],
          "scattergeo": [
           {
            "marker": {
             "colorbar": {
              "outlinewidth": 0,
              "ticks": ""
             }
            },
            "type": "scattergeo"
           }
          ],
          "scattergl": [
           {
            "marker": {
             "colorbar": {
              "outlinewidth": 0,
              "ticks": ""
             }
            },
            "type": "scattergl"
           }
          ],
          "scattermapbox": [
           {
            "marker": {
             "colorbar": {
              "outlinewidth": 0,
              "ticks": ""
             }
            },
            "type": "scattermapbox"
           }
          ],
          "scatterpolar": [
           {
            "marker": {
             "colorbar": {
              "outlinewidth": 0,
              "ticks": ""
             }
            },
            "type": "scatterpolar"
           }
          ],
          "scatterpolargl": [
           {
            "marker": {
             "colorbar": {
              "outlinewidth": 0,
              "ticks": ""
             }
            },
            "type": "scatterpolargl"
           }
          ],
          "scatterternary": [
           {
            "marker": {
             "colorbar": {
              "outlinewidth": 0,
              "ticks": ""
             }
            },
            "type": "scatterternary"
           }
          ],
          "surface": [
           {
            "colorbar": {
             "outlinewidth": 0,
             "ticks": ""
            },
            "colorscale": [
             [
              0,
              "#0d0887"
             ],
             [
              0.1111111111111111,
              "#46039f"
             ],
             [
              0.2222222222222222,
              "#7201a8"
             ],
             [
              0.3333333333333333,
              "#9c179e"
             ],
             [
              0.4444444444444444,
              "#bd3786"
             ],
             [
              0.5555555555555556,
              "#d8576b"
             ],
             [
              0.6666666666666666,
              "#ed7953"
             ],
             [
              0.7777777777777778,
              "#fb9f3a"
             ],
             [
              0.8888888888888888,
              "#fdca26"
             ],
             [
              1,
              "#f0f921"
             ]
            ],
            "type": "surface"
           }
          ],
          "table": [
           {
            "cells": {
             "fill": {
              "color": "#EBF0F8"
             },
             "line": {
              "color": "white"
             }
            },
            "header": {
             "fill": {
              "color": "#C8D4E3"
             },
             "line": {
              "color": "white"
             }
            },
            "type": "table"
           }
          ]
         },
         "layout": {
          "annotationdefaults": {
           "arrowcolor": "#2a3f5f",
           "arrowhead": 0,
           "arrowwidth": 1
          },
          "autotypenumbers": "strict",
          "coloraxis": {
           "colorbar": {
            "outlinewidth": 0,
            "ticks": ""
           }
          },
          "colorscale": {
           "diverging": [
            [
             0,
             "#8e0152"
            ],
            [
             0.1,
             "#c51b7d"
            ],
            [
             0.2,
             "#de77ae"
            ],
            [
             0.3,
             "#f1b6da"
            ],
            [
             0.4,
             "#fde0ef"
            ],
            [
             0.5,
             "#f7f7f7"
            ],
            [
             0.6,
             "#e6f5d0"
            ],
            [
             0.7,
             "#b8e186"
            ],
            [
             0.8,
             "#7fbc41"
            ],
            [
             0.9,
             "#4d9221"
            ],
            [
             1,
             "#276419"
            ]
           ],
           "sequential": [
            [
             0,
             "#0d0887"
            ],
            [
             0.1111111111111111,
             "#46039f"
            ],
            [
             0.2222222222222222,
             "#7201a8"
            ],
            [
             0.3333333333333333,
             "#9c179e"
            ],
            [
             0.4444444444444444,
             "#bd3786"
            ],
            [
             0.5555555555555556,
             "#d8576b"
            ],
            [
             0.6666666666666666,
             "#ed7953"
            ],
            [
             0.7777777777777778,
             "#fb9f3a"
            ],
            [
             0.8888888888888888,
             "#fdca26"
            ],
            [
             1,
             "#f0f921"
            ]
           ],
           "sequentialminus": [
            [
             0,
             "#0d0887"
            ],
            [
             0.1111111111111111,
             "#46039f"
            ],
            [
             0.2222222222222222,
             "#7201a8"
            ],
            [
             0.3333333333333333,
             "#9c179e"
            ],
            [
             0.4444444444444444,
             "#bd3786"
            ],
            [
             0.5555555555555556,
             "#d8576b"
            ],
            [
             0.6666666666666666,
             "#ed7953"
            ],
            [
             0.7777777777777778,
             "#fb9f3a"
            ],
            [
             0.8888888888888888,
             "#fdca26"
            ],
            [
             1,
             "#f0f921"
            ]
           ]
          },
          "colorway": [
           "#636efa",
           "#EF553B",
           "#00cc96",
           "#ab63fa",
           "#FFA15A",
           "#19d3f3",
           "#FF6692",
           "#B6E880",
           "#FF97FF",
           "#FECB52"
          ],
          "font": {
           "color": "#2a3f5f"
          },
          "geo": {
           "bgcolor": "white",
           "lakecolor": "white",
           "landcolor": "#E5ECF6",
           "showlakes": true,
           "showland": true,
           "subunitcolor": "white"
          },
          "hoverlabel": {
           "align": "left"
          },
          "hovermode": "closest",
          "mapbox": {
           "style": "light"
          },
          "paper_bgcolor": "white",
          "plot_bgcolor": "#E5ECF6",
          "polar": {
           "angularaxis": {
            "gridcolor": "white",
            "linecolor": "white",
            "ticks": ""
           },
           "bgcolor": "#E5ECF6",
           "radialaxis": {
            "gridcolor": "white",
            "linecolor": "white",
            "ticks": ""
           }
          },
          "scene": {
           "xaxis": {
            "backgroundcolor": "#E5ECF6",
            "gridcolor": "white",
            "gridwidth": 2,
            "linecolor": "white",
            "showbackground": true,
            "ticks": "",
            "zerolinecolor": "white"
           },
           "yaxis": {
            "backgroundcolor": "#E5ECF6",
            "gridcolor": "white",
            "gridwidth": 2,
            "linecolor": "white",
            "showbackground": true,
            "ticks": "",
            "zerolinecolor": "white"
           },
           "zaxis": {
            "backgroundcolor": "#E5ECF6",
            "gridcolor": "white",
            "gridwidth": 2,
            "linecolor": "white",
            "showbackground": true,
            "ticks": "",
            "zerolinecolor": "white"
           }
          },
          "shapedefaults": {
           "line": {
            "color": "#2a3f5f"
           }
          },
          "ternary": {
           "aaxis": {
            "gridcolor": "white",
            "linecolor": "white",
            "ticks": ""
           },
           "baxis": {
            "gridcolor": "white",
            "linecolor": "white",
            "ticks": ""
           },
           "bgcolor": "#E5ECF6",
           "caxis": {
            "gridcolor": "white",
            "linecolor": "white",
            "ticks": ""
           }
          },
          "title": {
           "x": 0.05
          },
          "xaxis": {
           "automargin": true,
           "gridcolor": "white",
           "linecolor": "white",
           "ticks": "",
           "title": {
            "standoff": 15
           },
           "zerolinecolor": "white",
           "zerolinewidth": 2
          },
          "yaxis": {
           "automargin": true,
           "gridcolor": "white",
           "linecolor": "white",
           "ticks": "",
           "title": {
            "standoff": 15
           },
           "zerolinecolor": "white",
           "zerolinewidth": 2
          }
         }
        },
        "title": {
         "text": "Evoluția gripei în București (noiembrie - martie)",
         "x": 0.5
        },
        "xaxis": {
         "ticktext": [
          "Nov",
          "Dec",
          "Jan",
          "Feb",
          "Mar"
         ],
         "tickvals": [
          1,
          31,
          62,
          93,
          121
         ],
         "title": {
          "text": "Zile"
         }
        },
        "yaxis": {
         "title": {
          "text": "Nr persoane infectate"
         }
        }
       }
      }
     },
     "metadata": {},
     "output_type": "display_data"
    }
   ],
   "source": [
    "# plotarea rezultatelor \n",
    "zile_pe_luna = [30, 31, 31, 28, 31]\n",
    "luni = ['Nov', 'Dec', 'Jan', 'Feb', 'Mar'] \n",
    "pozitie_luna = [1] + [sum(zile_pe_luna[:i]) + 1 for i in range(1, len(zile_pe_luna))]\n",
    "\n",
    "# for i, luna in enumerate(luni):\n",
    "#     print(f\"1st {luna} is on day {pozitie_luna[i]}\")\n",
    "\n",
    "fig = go.Figure()\n",
    "\n",
    "fig.add_trace(go.Scatter(\n",
    "    x=np.arange(simulare_zile), \n",
    "    y=nr_infectati_pe_zi, \n",
    "    mode='lines', \n",
    "    name='Numar infectati in perioda noiembrie - martie', \n",
    "    line=dict(color='MediumPurple', width=2)))\n",
    "\n",
    "fig.update_layout(title=dict(text='Evoluția gripei în București (noiembrie - martie)', x=0.5),\n",
    "                   xaxis=dict(title='Zile', tickvals=pozitie_luna, ticktext=luni),\n",
    "                   yaxis_title='Nr persoane infectate',\n",
    "                   paper_bgcolor='rgba(0,0,0,0)',\n",
    "                   font=dict(family='system-ui', size=14, color='white'),\n",
    "                   plot_bgcolor='Gainsboro')\n",
    "fig.show()"
   ]
  },
  {
   "cell_type": "markdown",
   "metadata": {},
   "source": [
    "# Simularea răspândirii gripei în sectoarele Bucureștiului\n",
    "\n",
    "Simularea modelează răspândirea gripei în București, împărțit pe 6 sectoare, pentru o perioadă de 150 de zile.\n",
    "\n",
    "1. **Populația și Probabilitatea de Infectare**: Fiecare sector are o populație simulată și o probabilitate de infectare aleatorie între 3% și 5%.\n",
    "   \n",
    "2. **Zile de Recuperare și Contorizarea Infecțiilor**: Inițial, toți sunt sănătoși. `nr_zile_refacere_sectoare` contorizează zilele de recuperare, iar `nr_infectati_pe_zi_sectoare` stochează zilnic numărul de infectați pe sector.\n",
    "\n",
    "3. **Simularea Infecțiilor**: \n",
    "   - În fiecare zi, pentru fiecare sector, persoanele susceptibile au o șansă de infectare.\n",
    "   - Persoanele infectate primesc zile de recuperare între 7 și 10 zile.\n",
    "   \n",
    "4. **Actualizarea Stării**: Zilele de recuperare scad zilnic pentru cei infectați, iar la final se afișează numărul zilnic de infectați pe sector.\n",
    "\n",
    "Acest model oferă o imagine a răspândirii gripei pe durata simulării în funcție de populația și probabilitatea sectorială.\n"
   ]
  },
  {
   "cell_type": "code",
   "execution_count": 167,
   "metadata": {},
   "outputs": [
    {
     "name": "stdout",
     "output_type": "stream",
     "text": [
      "Nr infectati pe zi in sectorul 1: [38, 29, 37, 32, 34, 41, 28, 38, 27, 25, 38, 30, 35, 27, 41, 20, 37, 32, 34, 24, 33, 24, 25, 39, 34, 31, 34, 34, 38, 37, 29, 35, 31, 27, 26, 33, 30, 33, 29, 43, 31, 32, 40, 36, 30, 24, 25, 27, 40, 30, 35, 35, 31, 35, 27, 28, 36, 34, 31, 27, 29, 40, 32, 28, 31, 18, 30, 36, 37, 32, 28, 33, 30, 41, 38, 35, 27, 22, 20, 32, 29, 41, 21, 34, 32, 34, 29, 34, 37, 36, 35, 30, 27, 32, 28, 33, 33, 32, 28, 28, 25, 28, 36, 31, 32, 24, 30, 30, 23, 38, 25, 36, 29, 31, 22, 32, 33, 33, 28, 33, 36, 29, 26, 29, 27, 31, 27, 34, 28, 23, 25, 28, 33, 32, 26, 36, 27, 28, 16, 27, 30, 37, 40, 30, 29, 34, 28, 30, 39, 21]\n",
      "\n",
      "Nr infectati pe zi in sectorul 2: [71, 63, 60, 51, 41, 53, 49, 54, 54, 49, 47, 52, 61, 40, 47, 56, 46, 46, 48, 46, 53, 42, 38, 35, 43, 58, 50, 42, 60, 55, 47, 44, 44, 52, 46, 51, 57, 43, 51, 52, 52, 50, 41, 60, 48, 48, 49, 55, 44, 52, 67, 50, 40, 57, 46, 46, 51, 48, 47, 49, 45, 33, 48, 63, 53, 45, 44, 56, 47, 48, 50, 55, 41, 52, 54, 42, 39, 59, 33, 47, 44, 52, 46, 44, 55, 47, 46, 58, 48, 49, 67, 43, 53, 52, 48, 49, 43, 74, 45, 45, 48, 44, 48, 39, 54, 46, 37, 56, 38, 48, 41, 58, 48, 60, 48, 41, 56, 56, 52, 38, 37, 61, 44, 41, 44, 44, 60, 40, 55, 50, 47, 34, 42, 60, 43, 35, 45, 51, 56, 52, 53, 50, 50, 57, 48, 57, 37, 40, 46, 61]\n",
      "\n",
      "Nr infectati pe zi in sectorul 3: [80, 85, 77, 63, 68, 73, 77, 79, 70, 56, 74, 80, 57, 83, 57, 64, 61, 53, 63, 62, 60, 66, 75, 62, 81, 53, 54, 66, 63, 60, 66, 62, 55, 70, 74, 63, 66, 82, 68, 58, 87, 81, 64, 70, 68, 48, 60, 64, 71, 61, 73, 47, 80, 65, 76, 76, 69, 62, 70, 62, 73, 58, 66, 71, 68, 69, 65, 72, 69, 69, 54, 60, 58, 59, 64, 66, 63, 67, 70, 57, 70, 69, 72, 65, 66, 65, 64, 68, 61, 60, 66, 71, 64, 64, 66, 68, 77, 70, 64, 64, 69, 65, 74, 73, 62, 76, 75, 62, 61, 58, 67, 70, 48, 75, 67, 54, 63, 62, 68, 69, 74, 76, 71, 68, 58, 57, 79, 77, 63, 70, 70, 78, 60, 65, 65, 59, 49, 75, 58, 59, 60, 75, 57, 60, 72, 79, 49, 71, 74, 75]\n",
      "\n",
      "Nr infectati pe zi in sectorul 4: [58, 69, 61, 59, 76, 55, 56, 63, 50, 54, 49, 42, 46, 55, 50, 65, 52, 33, 45, 62, 49, 54, 55, 44, 58, 62, 56, 51, 56, 53, 59, 62, 39, 40, 59, 47, 47, 50, 54, 41, 55, 53, 45, 47, 66, 68, 54, 48, 35, 55, 48, 54, 52, 67, 54, 69, 49, 55, 52, 51, 66, 46, 46, 54, 63, 51, 41, 62, 54, 64, 60, 53, 49, 58, 50, 59, 54, 72, 39, 45, 66, 66, 55, 52, 51, 55, 56, 66, 47, 56, 46, 53, 46, 49, 54, 57, 56, 62, 45, 44, 57, 47, 67, 40, 52, 56, 60, 54, 63, 50, 54, 58, 62, 54, 52, 60, 49, 53, 49, 52, 56, 54, 50, 58, 53, 46, 71, 40, 34, 60, 54, 55, 40, 65, 63, 54, 41, 44, 57, 60, 56, 48, 60, 53, 61, 41, 60, 37, 48, 56]\n",
      "\n",
      "Nr infectati pe zi in sectorul 5: [57, 51, 51, 57, 52, 36, 54, 35, 48, 47, 33, 47, 43, 46, 45, 41, 44, 42, 41, 46, 40, 42, 35, 43, 33, 38, 41, 34, 34, 46, 35, 38, 43, 41, 41, 47, 44, 52, 41, 41, 52, 35, 42, 41, 45, 26, 48, 37, 46, 43, 43, 37, 38, 50, 37, 40, 41, 41, 44, 37, 38, 50, 44, 35, 54, 46, 31, 43, 31, 52, 36, 40, 35, 43, 32, 49, 35, 42, 39, 40, 39, 48, 41, 40, 36, 32, 43, 48, 34, 53, 40, 55, 48, 37, 37, 40, 34, 34, 37, 43, 48, 37, 53, 46, 46, 33, 39, 40, 39, 48, 43, 37, 36, 44, 35, 51, 39, 39, 43, 50, 50, 42, 48, 43, 47, 42, 41, 46, 42, 35, 47, 39, 37, 35, 59, 44, 40, 43, 33, 41, 42, 54, 36, 41, 38, 49, 46, 53, 34, 58]\n",
      "\n",
      "Nr infectati pe zi in sectorul 6: [84, 95, 82, 68, 67, 70, 60, 63, 60, 65, 67, 62, 63, 64, 69, 63, 56, 81, 59, 62, 66, 67, 65, 64, 76, 65, 68, 71, 56, 75, 70, 57, 57, 48, 83, 62, 61, 54, 79, 72, 69, 70, 65, 60, 56, 59, 53, 62, 67, 56, 68, 62, 65, 53, 65, 62, 54, 77, 64, 69, 40, 72, 62, 54, 55, 57, 77, 70, 68, 61, 59, 85, 68, 56, 63, 65, 59, 64, 66, 61, 61, 69, 59, 71, 65, 67, 66, 52, 62, 53, 75, 66, 60, 62, 74, 81, 68, 54, 70, 72, 63, 61, 62, 88, 70, 71, 52, 70, 68, 68, 43, 76, 69, 56, 72, 62, 81, 54, 59, 47, 42, 56, 68, 78, 62, 62, 61, 72, 55, 63, 67, 75, 64, 66, 66, 55, 65, 71, 63, 64, 66, 60, 50, 71, 62, 63, 75, 76, 68, 70]\n",
      "\n"
     ]
    }
   ],
   "source": [
    "# simularea raspandirii gripei in sectoarele Bucurestiului \n",
    "populatie_simulata_sectoare = np.array([1192, 1745, 2244, 1546, 1422, 1849])  # simularea populatiei din fiecare sector\n",
    "prob_infectare_sectoare = np.random.uniform(0.03, 0.05, nr_sectoare)          # probabilitatea de infectare pentru fiecare sector\n",
    "\n",
    "nr_zile_refacere_sectoare = [np.zeros(pop, dtype=int) for pop in populatie_simulata_sectoare] \n",
    "nr_infectati_pe_zi_sectoare = [[] for _ in range(nr_sectoare)]\n",
    "\n",
    "for zi in range(simulare_zile):\n",
    "    for s in range(nr_sectoare): # pentru fiecare sector\n",
    "        posibil_infectati = nr_zile_refacere_sectoare[s] == 0 \n",
    "        sansa_infectare = np.random.rand(populatie_simulata_sectoare[s])      # determinam persoanele care pot fi infectate in sectorul respectiv\n",
    "\n",
    "        # daca sansa de infectare este mai mica decat probabilitatea de infectare, atunci persoana devine infectata\n",
    "        infectati = posibil_infectati & (sansa_infectare < prob_infectare_sectoare[s])\n",
    "        nr_infectati_pe_zi_sectoare[s].append(np.sum(infectati))\n",
    "\n",
    "        # setarea zilelor de refacere pentru persoanele infectate (intre 7-10 zile)\n",
    "        nr_zile_refacere_sectoare[s][infectati] = np.random.randint(7, 11, size=np.sum(infectati))\n",
    "\n",
    "        # decrementarea zilelor de refacere pentru persoanele care sunt inca infectate\n",
    "        nr_zile_refacere_sectoare[s][nr_zile_refacere_sectoare[s] > 0] -= 1\n",
    "\n",
    "# nr de persoane infectate in fiecare sector, in fiecare zi\n",
    "for s in range(nr_sectoare):\n",
    "    print(f\"Nr infectati pe zi in sectorul {s+1}: {nr_infectati_pe_zi_sectoare[s]}\\n\")\n"
   ]
  },
  {
   "cell_type": "markdown",
   "metadata": {},
   "source": [
    "## Rezultate și Vizualizare\n",
    "\n",
    "Acest cod estimează și vizualizează rata de infectare cu gripă în fiecare sector al Bucureștiului utilizând o hartă coropletică."
   ]
  },
  {
   "cell_type": "code",
   "execution_count": 168,
   "metadata": {},
   "outputs": [
    {
     "name": "stdout",
     "output_type": "stream",
     "text": [
      "     Sector  Infection Rate\n",
      "0  Sector 1        3.911913\n",
      "1  Sector 2        4.214900\n",
      "2  Sector 3        4.453209\n",
      "3  Sector 4        5.203752\n",
      "4  Sector 5        4.453586\n",
      "5  Sector 6        5.261763\n"
     ]
    },
    {
     "data": {
      "application/vnd.plotly.v1+json": {
       "config": {
        "plotlyServerURL": "https://plot.ly"
       },
       "data": [
        {
         "coloraxis": "coloraxis",
         "featureidkey": "properties.tags.name",
         "geo": "geo",
         "geojson": "/Users/alexandrazamfirescu/Flu_Spread_Simulation/BucurestiSectoare.geo.json",
         "hovertemplate": "Sector=%{location}<br>Infection Rate=%{z}<extra></extra>",
         "locations": [
          "Sector 1",
          "Sector 2",
          "Sector 3",
          "Sector 4",
          "Sector 5",
          "Sector 6"
         ],
         "name": "",
         "type": "choropleth",
         "z": [
          3.9119127516778525,
          4.214899713467049,
          4.4532085561497325,
          5.203751617076326,
          4.453586497890296,
          5.261763115197404
         ]
        }
       ],
       "layout": {
        "coloraxis": {
         "colorbar": {
          "title": {
           "text": "Infection Rate"
          }
         },
         "colorscale": [
          [
           0,
           "#30123b"
          ],
          [
           0.07142857142857142,
           "#4145ab"
          ],
          [
           0.14285714285714285,
           "#4675ed"
          ],
          [
           0.21428571428571427,
           "#39a2fc"
          ],
          [
           0.2857142857142857,
           "#1bcfd4"
          ],
          [
           0.35714285714285715,
           "#24eca6"
          ],
          [
           0.42857142857142855,
           "#61fc6c"
          ],
          [
           0.5,
           "#a4fc3b"
          ],
          [
           0.5714285714285714,
           "#d1e834"
          ],
          [
           0.6428571428571429,
           "#f3c63a"
          ],
          [
           0.7142857142857143,
           "#fe9b2d"
          ],
          [
           0.7857142857142857,
           "#f36315"
          ],
          [
           0.8571428571428571,
           "#d93806"
          ],
          [
           0.9285714285714286,
           "#b11901"
          ],
          [
           1,
           "#7a0402"
          ]
         ]
        },
        "geo": {
         "center": {},
         "domain": {
          "x": [
           0,
           1
          ],
          "y": [
           0,
           1
          ]
         },
         "fitbounds": "locations",
         "projection": {
          "type": "mercator"
         },
         "visible": false
        },
        "legend": {
         "tracegroupgap": 0
        },
        "margin": {
         "b": 0,
         "l": 0,
         "r": 0,
         "t": 40
        },
        "template": {
         "data": {
          "bar": [
           {
            "error_x": {
             "color": "#2a3f5f"
            },
            "error_y": {
             "color": "#2a3f5f"
            },
            "marker": {
             "line": {
              "color": "#E5ECF6",
              "width": 0.5
             },
             "pattern": {
              "fillmode": "overlay",
              "size": 10,
              "solidity": 0.2
             }
            },
            "type": "bar"
           }
          ],
          "barpolar": [
           {
            "marker": {
             "line": {
              "color": "#E5ECF6",
              "width": 0.5
             },
             "pattern": {
              "fillmode": "overlay",
              "size": 10,
              "solidity": 0.2
             }
            },
            "type": "barpolar"
           }
          ],
          "carpet": [
           {
            "aaxis": {
             "endlinecolor": "#2a3f5f",
             "gridcolor": "white",
             "linecolor": "white",
             "minorgridcolor": "white",
             "startlinecolor": "#2a3f5f"
            },
            "baxis": {
             "endlinecolor": "#2a3f5f",
             "gridcolor": "white",
             "linecolor": "white",
             "minorgridcolor": "white",
             "startlinecolor": "#2a3f5f"
            },
            "type": "carpet"
           }
          ],
          "choropleth": [
           {
            "colorbar": {
             "outlinewidth": 0,
             "ticks": ""
            },
            "type": "choropleth"
           }
          ],
          "contour": [
           {
            "colorbar": {
             "outlinewidth": 0,
             "ticks": ""
            },
            "colorscale": [
             [
              0,
              "#0d0887"
             ],
             [
              0.1111111111111111,
              "#46039f"
             ],
             [
              0.2222222222222222,
              "#7201a8"
             ],
             [
              0.3333333333333333,
              "#9c179e"
             ],
             [
              0.4444444444444444,
              "#bd3786"
             ],
             [
              0.5555555555555556,
              "#d8576b"
             ],
             [
              0.6666666666666666,
              "#ed7953"
             ],
             [
              0.7777777777777778,
              "#fb9f3a"
             ],
             [
              0.8888888888888888,
              "#fdca26"
             ],
             [
              1,
              "#f0f921"
             ]
            ],
            "type": "contour"
           }
          ],
          "contourcarpet": [
           {
            "colorbar": {
             "outlinewidth": 0,
             "ticks": ""
            },
            "type": "contourcarpet"
           }
          ],
          "heatmap": [
           {
            "colorbar": {
             "outlinewidth": 0,
             "ticks": ""
            },
            "colorscale": [
             [
              0,
              "#0d0887"
             ],
             [
              0.1111111111111111,
              "#46039f"
             ],
             [
              0.2222222222222222,
              "#7201a8"
             ],
             [
              0.3333333333333333,
              "#9c179e"
             ],
             [
              0.4444444444444444,
              "#bd3786"
             ],
             [
              0.5555555555555556,
              "#d8576b"
             ],
             [
              0.6666666666666666,
              "#ed7953"
             ],
             [
              0.7777777777777778,
              "#fb9f3a"
             ],
             [
              0.8888888888888888,
              "#fdca26"
             ],
             [
              1,
              "#f0f921"
             ]
            ],
            "type": "heatmap"
           }
          ],
          "heatmapgl": [
           {
            "colorbar": {
             "outlinewidth": 0,
             "ticks": ""
            },
            "colorscale": [
             [
              0,
              "#0d0887"
             ],
             [
              0.1111111111111111,
              "#46039f"
             ],
             [
              0.2222222222222222,
              "#7201a8"
             ],
             [
              0.3333333333333333,
              "#9c179e"
             ],
             [
              0.4444444444444444,
              "#bd3786"
             ],
             [
              0.5555555555555556,
              "#d8576b"
             ],
             [
              0.6666666666666666,
              "#ed7953"
             ],
             [
              0.7777777777777778,
              "#fb9f3a"
             ],
             [
              0.8888888888888888,
              "#fdca26"
             ],
             [
              1,
              "#f0f921"
             ]
            ],
            "type": "heatmapgl"
           }
          ],
          "histogram": [
           {
            "marker": {
             "pattern": {
              "fillmode": "overlay",
              "size": 10,
              "solidity": 0.2
             }
            },
            "type": "histogram"
           }
          ],
          "histogram2d": [
           {
            "colorbar": {
             "outlinewidth": 0,
             "ticks": ""
            },
            "colorscale": [
             [
              0,
              "#0d0887"
             ],
             [
              0.1111111111111111,
              "#46039f"
             ],
             [
              0.2222222222222222,
              "#7201a8"
             ],
             [
              0.3333333333333333,
              "#9c179e"
             ],
             [
              0.4444444444444444,
              "#bd3786"
             ],
             [
              0.5555555555555556,
              "#d8576b"
             ],
             [
              0.6666666666666666,
              "#ed7953"
             ],
             [
              0.7777777777777778,
              "#fb9f3a"
             ],
             [
              0.8888888888888888,
              "#fdca26"
             ],
             [
              1,
              "#f0f921"
             ]
            ],
            "type": "histogram2d"
           }
          ],
          "histogram2dcontour": [
           {
            "colorbar": {
             "outlinewidth": 0,
             "ticks": ""
            },
            "colorscale": [
             [
              0,
              "#0d0887"
             ],
             [
              0.1111111111111111,
              "#46039f"
             ],
             [
              0.2222222222222222,
              "#7201a8"
             ],
             [
              0.3333333333333333,
              "#9c179e"
             ],
             [
              0.4444444444444444,
              "#bd3786"
             ],
             [
              0.5555555555555556,
              "#d8576b"
             ],
             [
              0.6666666666666666,
              "#ed7953"
             ],
             [
              0.7777777777777778,
              "#fb9f3a"
             ],
             [
              0.8888888888888888,
              "#fdca26"
             ],
             [
              1,
              "#f0f921"
             ]
            ],
            "type": "histogram2dcontour"
           }
          ],
          "mesh3d": [
           {
            "colorbar": {
             "outlinewidth": 0,
             "ticks": ""
            },
            "type": "mesh3d"
           }
          ],
          "parcoords": [
           {
            "line": {
             "colorbar": {
              "outlinewidth": 0,
              "ticks": ""
             }
            },
            "type": "parcoords"
           }
          ],
          "pie": [
           {
            "automargin": true,
            "type": "pie"
           }
          ],
          "scatter": [
           {
            "fillpattern": {
             "fillmode": "overlay",
             "size": 10,
             "solidity": 0.2
            },
            "type": "scatter"
           }
          ],
          "scatter3d": [
           {
            "line": {
             "colorbar": {
              "outlinewidth": 0,
              "ticks": ""
             }
            },
            "marker": {
             "colorbar": {
              "outlinewidth": 0,
              "ticks": ""
             }
            },
            "type": "scatter3d"
           }
          ],
          "scattercarpet": [
           {
            "marker": {
             "colorbar": {
              "outlinewidth": 0,
              "ticks": ""
             }
            },
            "type": "scattercarpet"
           }
          ],
          "scattergeo": [
           {
            "marker": {
             "colorbar": {
              "outlinewidth": 0,
              "ticks": ""
             }
            },
            "type": "scattergeo"
           }
          ],
          "scattergl": [
           {
            "marker": {
             "colorbar": {
              "outlinewidth": 0,
              "ticks": ""
             }
            },
            "type": "scattergl"
           }
          ],
          "scattermapbox": [
           {
            "marker": {
             "colorbar": {
              "outlinewidth": 0,
              "ticks": ""
             }
            },
            "type": "scattermapbox"
           }
          ],
          "scatterpolar": [
           {
            "marker": {
             "colorbar": {
              "outlinewidth": 0,
              "ticks": ""
             }
            },
            "type": "scatterpolar"
           }
          ],
          "scatterpolargl": [
           {
            "marker": {
             "colorbar": {
              "outlinewidth": 0,
              "ticks": ""
             }
            },
            "type": "scatterpolargl"
           }
          ],
          "scatterternary": [
           {
            "marker": {
             "colorbar": {
              "outlinewidth": 0,
              "ticks": ""
             }
            },
            "type": "scatterternary"
           }
          ],
          "surface": [
           {
            "colorbar": {
             "outlinewidth": 0,
             "ticks": ""
            },
            "colorscale": [
             [
              0,
              "#0d0887"
             ],
             [
              0.1111111111111111,
              "#46039f"
             ],
             [
              0.2222222222222222,
              "#7201a8"
             ],
             [
              0.3333333333333333,
              "#9c179e"
             ],
             [
              0.4444444444444444,
              "#bd3786"
             ],
             [
              0.5555555555555556,
              "#d8576b"
             ],
             [
              0.6666666666666666,
              "#ed7953"
             ],
             [
              0.7777777777777778,
              "#fb9f3a"
             ],
             [
              0.8888888888888888,
              "#fdca26"
             ],
             [
              1,
              "#f0f921"
             ]
            ],
            "type": "surface"
           }
          ],
          "table": [
           {
            "cells": {
             "fill": {
              "color": "#EBF0F8"
             },
             "line": {
              "color": "white"
             }
            },
            "header": {
             "fill": {
              "color": "#C8D4E3"
             },
             "line": {
              "color": "white"
             }
            },
            "type": "table"
           }
          ]
         },
         "layout": {
          "annotationdefaults": {
           "arrowcolor": "#2a3f5f",
           "arrowhead": 0,
           "arrowwidth": 1
          },
          "autotypenumbers": "strict",
          "coloraxis": {
           "colorbar": {
            "outlinewidth": 0,
            "ticks": ""
           }
          },
          "colorscale": {
           "diverging": [
            [
             0,
             "#8e0152"
            ],
            [
             0.1,
             "#c51b7d"
            ],
            [
             0.2,
             "#de77ae"
            ],
            [
             0.3,
             "#f1b6da"
            ],
            [
             0.4,
             "#fde0ef"
            ],
            [
             0.5,
             "#f7f7f7"
            ],
            [
             0.6,
             "#e6f5d0"
            ],
            [
             0.7,
             "#b8e186"
            ],
            [
             0.8,
             "#7fbc41"
            ],
            [
             0.9,
             "#4d9221"
            ],
            [
             1,
             "#276419"
            ]
           ],
           "sequential": [
            [
             0,
             "#0d0887"
            ],
            [
             0.1111111111111111,
             "#46039f"
            ],
            [
             0.2222222222222222,
             "#7201a8"
            ],
            [
             0.3333333333333333,
             "#9c179e"
            ],
            [
             0.4444444444444444,
             "#bd3786"
            ],
            [
             0.5555555555555556,
             "#d8576b"
            ],
            [
             0.6666666666666666,
             "#ed7953"
            ],
            [
             0.7777777777777778,
             "#fb9f3a"
            ],
            [
             0.8888888888888888,
             "#fdca26"
            ],
            [
             1,
             "#f0f921"
            ]
           ],
           "sequentialminus": [
            [
             0,
             "#0d0887"
            ],
            [
             0.1111111111111111,
             "#46039f"
            ],
            [
             0.2222222222222222,
             "#7201a8"
            ],
            [
             0.3333333333333333,
             "#9c179e"
            ],
            [
             0.4444444444444444,
             "#bd3786"
            ],
            [
             0.5555555555555556,
             "#d8576b"
            ],
            [
             0.6666666666666666,
             "#ed7953"
            ],
            [
             0.7777777777777778,
             "#fb9f3a"
            ],
            [
             0.8888888888888888,
             "#fdca26"
            ],
            [
             1,
             "#f0f921"
            ]
           ]
          },
          "colorway": [
           "#636efa",
           "#EF553B",
           "#00cc96",
           "#ab63fa",
           "#FFA15A",
           "#19d3f3",
           "#FF6692",
           "#B6E880",
           "#FF97FF",
           "#FECB52"
          ],
          "font": {
           "color": "#2a3f5f"
          },
          "geo": {
           "bgcolor": "white",
           "lakecolor": "white",
           "landcolor": "#E5ECF6",
           "showlakes": true,
           "showland": true,
           "subunitcolor": "white"
          },
          "hoverlabel": {
           "align": "left"
          },
          "hovermode": "closest",
          "mapbox": {
           "style": "light"
          },
          "paper_bgcolor": "white",
          "plot_bgcolor": "#E5ECF6",
          "polar": {
           "angularaxis": {
            "gridcolor": "white",
            "linecolor": "white",
            "ticks": ""
           },
           "bgcolor": "#E5ECF6",
           "radialaxis": {
            "gridcolor": "white",
            "linecolor": "white",
            "ticks": ""
           }
          },
          "scene": {
           "xaxis": {
            "backgroundcolor": "#E5ECF6",
            "gridcolor": "white",
            "gridwidth": 2,
            "linecolor": "white",
            "showbackground": true,
            "ticks": "",
            "zerolinecolor": "white"
           },
           "yaxis": {
            "backgroundcolor": "#E5ECF6",
            "gridcolor": "white",
            "gridwidth": 2,
            "linecolor": "white",
            "showbackground": true,
            "ticks": "",
            "zerolinecolor": "white"
           },
           "zaxis": {
            "backgroundcolor": "#E5ECF6",
            "gridcolor": "white",
            "gridwidth": 2,
            "linecolor": "white",
            "showbackground": true,
            "ticks": "",
            "zerolinecolor": "white"
           }
          },
          "shapedefaults": {
           "line": {
            "color": "#2a3f5f"
           }
          },
          "ternary": {
           "aaxis": {
            "gridcolor": "white",
            "linecolor": "white",
            "ticks": ""
           },
           "baxis": {
            "gridcolor": "white",
            "linecolor": "white",
            "ticks": ""
           },
           "bgcolor": "#E5ECF6",
           "caxis": {
            "gridcolor": "white",
            "linecolor": "white",
            "ticks": ""
           }
          },
          "title": {
           "x": 0.05
          },
          "xaxis": {
           "automargin": true,
           "gridcolor": "white",
           "linecolor": "white",
           "ticks": "",
           "title": {
            "standoff": 15
           },
           "zerolinecolor": "white",
           "zerolinewidth": 2
          },
          "yaxis": {
           "automargin": true,
           "gridcolor": "white",
           "linecolor": "white",
           "ticks": "",
           "title": {
            "standoff": 15
           },
           "zerolinecolor": "white",
           "zerolinewidth": 2
          }
         }
        },
        "title": {
         "text": "Rata de infectare cu gripa in fiecare sector",
         "x": 0.5
        }
       }
      }
     },
     "metadata": {},
     "output_type": "display_data"
    }
   ],
   "source": [
    "# nr total de infectati in fiecare sector, in fiecare zi\n",
    "infectii_pe_sector_toate_zilele = [sum(nr_infectati_pe_zi_sectoare[s]) for s in range(nr_sectoare)]\n",
    "\n",
    "# rata de infectare in fiecare sector \n",
    "infectie_rate_sectoare = [infectii / populatie_simulata_sectoare[s] for s, infectii in enumerate(infectii_pe_sector_toate_zilele)] \n",
    "\n",
    "# label ul pentru fiecare sector asa cum e in GeoJSON\n",
    "label_sector = ['Sector 1', 'Sector 2', 'Sector 3', 'Sector 4', 'Sector 5', 'Sector 6']\n",
    "\n",
    "# dataframe cu rata de infectare pentru fiecare sector\n",
    "data_rate = pd.DataFrame({'Sector': label_sector, 'Infection Rate': infectie_rate_sectoare})\n",
    "print(data_rate)\n",
    "\n",
    "# incarcarea fisierului GeoJSON \n",
    "geojson_fisier = '/Users/alexandrazamfirescu/Flu_Spread_Simulation/BucurestiSectoare.geo.json'\n",
    "\n",
    "with open(geojson_fisier) as f:\n",
    "    geojson = json.load(f)\n",
    "\n",
    "# reprezentare harta coropletica \n",
    "fig = px.choropleth(\n",
    "    data_frame=data_rate,\n",
    "    geojson=geojson_fisier,\n",
    "    locations='Sector',\n",
    "    featureidkey='properties.tags.name', \n",
    "    color='Infection Rate',\n",
    "    color_continuous_scale='Turbo',\n",
    "    labels={'Infection Rate': 'Infection Rate'},\n",
    "    projection='mercator'\n",
    ")\n",
    "\n",
    "fig.update_geos(fitbounds=\"locations\", visible=False)\n",
    "fig.update_layout(\n",
    "    title=dict(text='Rata de infectare cu gripa in fiecare sector', x=0.5),\n",
    "    margin={\"r\":0, \"t\":40, \"l\":0, \"b\":0}\n",
    ")\n",
    "\n",
    "fig.show()\n"
   ]
  },
  {
   "cell_type": "markdown",
   "metadata": {},
   "source": [
    "## Concluzii\n",
    "\n",
    "Această simulare oferă o estimare a răspândirii gripei în București, ținând cont de factori specifici fiecărui sector. Deși modelul este o simplificare, acesta poate fi extins pentru a include alți factori, cum ar fi mobilitatea între sectoare sau intervențiile de sănătate publică. Rezultatele pot fi utilizate pentru a evalua riscurile de epidemie în funcție de parametrii de infectare și recuperare.\n",
    "\n",
    "Prin utilizarea metodei Monte Carlo, simularea captează variabilitatea zilnică a răspândirii gripei și poate fi utilizată pentru predicții și analize epidemiologice în viitor.\n"
   ]
  }
 ],
 "metadata": {
  "kernelspec": {
   "display_name": "tsimulare_env",
   "language": "python",
   "name": "python3"
  },
  "language_info": {
   "codemirror_mode": {
    "name": "ipython",
    "version": 3
   },
   "file_extension": ".py",
   "mimetype": "text/x-python",
   "name": "python",
   "nbconvert_exporter": "python",
   "pygments_lexer": "ipython3",
   "version": "3.11.10"
  }
 },
 "nbformat": 4,
 "nbformat_minor": 2
}
